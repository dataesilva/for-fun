{
 "cells": [
  {
   "cell_type": "markdown",
   "id": "f9d2a062",
   "metadata": {},
   "source": [
    "#### Simple question, are US federal politicians adopting Mastodon?\n",
    "#### If so:\n",
    "- When did they creating their accounts?\n",
    "- Where across the fediverse are they hosted? "
   ]
  },
  {
   "cell_type": "code",
   "execution_count": 1,
   "id": "ab2843de",
   "metadata": {},
   "outputs": [],
   "source": [
    "import requests\n",
    "import pandas as pd\n",
    "import urllib\n",
    "from time import sleep"
   ]
  },
  {
   "cell_type": "markdown",
   "id": "e7b0b072",
   "metadata": {},
   "source": [
    "This project uses the open API for Mastodon to search for accounts matching congress member's names. The [mastodon's API reference](https://docs.joinmastodon.org/client/public/) is helpful.\n",
    "\n",
    "Dataset of current federal legislators comes from the folks at the [@unitedstates project](https://github.com/unitedstates/congress-legislators).\n",
    "\n",
    "App secret and tokens are not included in the GitHub repo for this project. To create an app, navigate from your account to `mastodon.example/settings/applications`."
   ]
  },
  {
   "cell_type": "code",
   "execution_count": 2,
   "id": "eedd8500",
   "metadata": {},
   "outputs": [
    {
     "name": "stdout",
     "output_type": "stream",
     "text": [
      " Volume in drive C has no label.\n",
      " Volume Serial Number is 74AB-C710\n",
      "\n",
      " Directory of C:\\Users\\Silva\\research\\Masto-Pols\n",
      "\n",
      "11/23/2022  04:26 PM    <DIR>          .\n",
      "11/23/2022  04:26 PM    <DIR>          ..\n",
      "11/23/2022  02:11 PM    <DIR>          .ipynb_checkpoints\n",
      "11/23/2022  02:13 PM           179,764 legislators-current.csv\n",
      "11/23/2022  02:15 PM               174 uspol_account-creation.txt\n",
      "11/23/2022  04:26 PM            60,386 US-Politician-Account-Search.ipynb\n",
      "               3 File(s)        240,324 bytes\n",
      "               3 Dir(s)   7,051,096,064 bytes free\n"
     ]
    }
   ],
   "source": [
    "ls"
   ]
  },
  {
   "cell_type": "markdown",
   "id": "f0970a85",
   "metadata": {},
   "source": [
    "##### Proof of porcess"
   ]
  },
  {
   "cell_type": "code",
   "execution_count": 3,
   "id": "ad47cd63",
   "metadata": {},
   "outputs": [],
   "source": [
    "keys = pd.read_csv('uspol_account-creation.txt', sep = '\\t', header = None).T\n",
    "keys.columns = keys.iloc[0]\n",
    "keys.drop(0,inplace=True)\n",
    "keys = keys.reset_index()\n",
    "# keys\n",
    "token = keys['Your access token'][0]\n",
    "# token"
   ]
  },
  {
   "cell_type": "code",
   "execution_count": 4,
   "id": "452aa4f0",
   "metadata": {},
   "outputs": [],
   "source": [
    "header = {'Authorization': 'Bearer {}'.format(token)}\n",
    "# header\n",
    "search_endpoint = 'https://mastodon.social/api/v2/search'"
   ]
  },
  {
   "cell_type": "code",
   "execution_count": 5,
   "id": "f688bf13",
   "metadata": {},
   "outputs": [
    {
     "data": {
      "text/plain": [
       "'David%20Silva'"
      ]
     },
     "execution_count": 5,
     "metadata": {},
     "output_type": "execute_result"
    }
   ],
   "source": [
    "# q = leg_list['full_name'][0]\n",
    "q = 'David Silva'\n",
    "q_url = urllib.parse.quote(q)\n",
    "q_url"
   ]
  },
  {
   "cell_type": "code",
   "execution_count": 6,
   "id": "69af82e4",
   "metadata": {},
   "outputs": [
    {
     "data": {
      "text/plain": [
       "'https://mastodon.social/api/v2/search?q=David%20Silva&limit=40'"
      ]
     },
     "execution_count": 6,
     "metadata": {},
     "output_type": "execute_result"
    }
   ],
   "source": [
    "# query_url = search_endpoint + '?q={}&type={}&resolve={}'.format(q_url, ty, resolve)\n",
    "query_url = search_endpoint + '?q={}&limit={}'.format(q_url, 40)\n",
    "query_url"
   ]
  },
  {
   "cell_type": "code",
   "execution_count": 7,
   "id": "49bbea5c",
   "metadata": {},
   "outputs": [],
   "source": [
    "response = requests.get(query_url, headers = header)"
   ]
  },
  {
   "cell_type": "code",
   "execution_count": 8,
   "id": "8005815a",
   "metadata": {},
   "outputs": [
    {
     "data": {
      "text/plain": [
       "200"
      ]
     },
     "execution_count": 8,
     "metadata": {},
     "output_type": "execute_result"
    }
   ],
   "source": [
    "response.status_code"
   ]
  },
  {
   "cell_type": "code",
   "execution_count": 9,
   "id": "87d95b82",
   "metadata": {},
   "outputs": [],
   "source": [
    "response_dict = response.json()"
   ]
  },
  {
   "cell_type": "code",
   "execution_count": 10,
   "id": "4d8102cd",
   "metadata": {},
   "outputs": [
    {
     "data": {
      "text/plain": [
       "dict_keys(['accounts', 'statuses', 'hashtags'])"
      ]
     },
     "execution_count": 10,
     "metadata": {},
     "output_type": "execute_result"
    }
   ],
   "source": [
    "response_dict.keys()"
   ]
  },
  {
   "cell_type": "code",
   "execution_count": 11,
   "id": "f9d5653d",
   "metadata": {},
   "outputs": [
    {
     "data": {
      "text/plain": [
       "list"
      ]
     },
     "execution_count": 11,
     "metadata": {},
     "output_type": "execute_result"
    }
   ],
   "source": [
    "type(response_dict['accounts'])"
   ]
  },
  {
   "cell_type": "code",
   "execution_count": 12,
   "id": "0e079cdf",
   "metadata": {},
   "outputs": [
    {
     "data": {
      "text/plain": [
       "6"
      ]
     },
     "execution_count": 12,
     "metadata": {},
     "output_type": "execute_result"
    }
   ],
   "source": [
    "len(response_dict['accounts'])"
   ]
  },
  {
   "cell_type": "code",
   "execution_count": 13,
   "id": "46146f67",
   "metadata": {},
   "outputs": [],
   "source": [
    "account_info = pd.DataFrame(response_dict['accounts'])"
   ]
  },
  {
   "cell_type": "code",
   "execution_count": 14,
   "id": "03b2c923",
   "metadata": {},
   "outputs": [
    {
     "data": {
      "text/html": [
       "<div>\n",
       "<style scoped>\n",
       "    .dataframe tbody tr th:only-of-type {\n",
       "        vertical-align: middle;\n",
       "    }\n",
       "\n",
       "    .dataframe tbody tr th {\n",
       "        vertical-align: top;\n",
       "    }\n",
       "\n",
       "    .dataframe thead th {\n",
       "        text-align: right;\n",
       "    }\n",
       "</style>\n",
       "<table border=\"1\" class=\"dataframe\">\n",
       "  <thead>\n",
       "    <tr style=\"text-align: right;\">\n",
       "      <th></th>\n",
       "      <th>id</th>\n",
       "      <th>username</th>\n",
       "      <th>acct</th>\n",
       "      <th>display_name</th>\n",
       "      <th>locked</th>\n",
       "      <th>bot</th>\n",
       "      <th>discoverable</th>\n",
       "      <th>group</th>\n",
       "      <th>created_at</th>\n",
       "      <th>note</th>\n",
       "      <th>...</th>\n",
       "      <th>avatar_static</th>\n",
       "      <th>header</th>\n",
       "      <th>header_static</th>\n",
       "      <th>followers_count</th>\n",
       "      <th>following_count</th>\n",
       "      <th>statuses_count</th>\n",
       "      <th>last_status_at</th>\n",
       "      <th>emojis</th>\n",
       "      <th>fields</th>\n",
       "      <th>noindex</th>\n",
       "    </tr>\n",
       "  </thead>\n",
       "  <tbody>\n",
       "    <tr>\n",
       "      <th>0</th>\n",
       "      <td>109372417486107898</td>\n",
       "      <td>david</td>\n",
       "      <td>david@vira-lata.org</td>\n",
       "      <td>David Silva</td>\n",
       "      <td>False</td>\n",
       "      <td>False</td>\n",
       "      <td>False</td>\n",
       "      <td>False</td>\n",
       "      <td>2022-11-19T00:00:00.000Z</td>\n",
       "      <td>&lt;p&gt;Jornalista e UX Writer. Esquerda é o caminh...</td>\n",
       "      <td>...</td>\n",
       "      <td>https://files.mastodon.social/cache/accounts/a...</td>\n",
       "      <td>https://static-cdn.mastodon.social/headers/ori...</td>\n",
       "      <td>https://static-cdn.mastodon.social/headers/ori...</td>\n",
       "      <td>3</td>\n",
       "      <td>0</td>\n",
       "      <td>10</td>\n",
       "      <td>2022-11-23</td>\n",
       "      <td>[]</td>\n",
       "      <td>[]</td>\n",
       "      <td>NaN</td>\n",
       "    </tr>\n",
       "    <tr>\n",
       "      <th>1</th>\n",
       "      <td>109269680204480110</td>\n",
       "      <td>geckosilva</td>\n",
       "      <td>geckosilva@mstdn.social</td>\n",
       "      <td>David E. Silva</td>\n",
       "      <td>False</td>\n",
       "      <td>False</td>\n",
       "      <td>True</td>\n",
       "      <td>False</td>\n",
       "      <td>2022-11-01T00:00:00.000Z</td>\n",
       "      <td>&lt;p&gt;Assistant Prof. at Kent State U. with a PhD...</td>\n",
       "      <td>...</td>\n",
       "      <td>https://files.mastodon.social/cache/accounts/a...</td>\n",
       "      <td>https://files.mastodon.social/cache/accounts/h...</td>\n",
       "      <td>https://files.mastodon.social/cache/accounts/h...</td>\n",
       "      <td>21</td>\n",
       "      <td>40</td>\n",
       "      <td>19</td>\n",
       "      <td>2022-11-23</td>\n",
       "      <td>[]</td>\n",
       "      <td>[]</td>\n",
       "      <td>NaN</td>\n",
       "    </tr>\n",
       "    <tr>\n",
       "      <th>2</th>\n",
       "      <td>1357803</td>\n",
       "      <td>dasilvarosa</td>\n",
       "      <td>dasilvarosa@bitcoinhackers.org</td>\n",
       "      <td>David da Silva Rosa</td>\n",
       "      <td>False</td>\n",
       "      <td>False</td>\n",
       "      <td>False</td>\n",
       "      <td>False</td>\n",
       "      <td>2021-01-10T00:00:00.000Z</td>\n",
       "      <td>&lt;p&gt;Live free or die. Aerospace engineer obsess...</td>\n",
       "      <td>...</td>\n",
       "      <td>https://files.mastodon.social/cache/accounts/a...</td>\n",
       "      <td>https://files.mastodon.social/cache/accounts/h...</td>\n",
       "      <td>https://files.mastodon.social/cache/accounts/h...</td>\n",
       "      <td>18</td>\n",
       "      <td>26</td>\n",
       "      <td>4</td>\n",
       "      <td>2021-01-11</td>\n",
       "      <td>[]</td>\n",
       "      <td>[{'name': 'Twitter', 'value': '@dldasilvarosa'...</td>\n",
       "      <td>NaN</td>\n",
       "    </tr>\n",
       "    <tr>\n",
       "      <th>3</th>\n",
       "      <td>109383155319556934</td>\n",
       "      <td>dasilvacontin</td>\n",
       "      <td>dasilvacontin@otter.garden</td>\n",
       "      <td>David da Silva Contín</td>\n",
       "      <td>False</td>\n",
       "      <td>False</td>\n",
       "      <td>False</td>\n",
       "      <td>False</td>\n",
       "      <td>2022-11-21T00:00:00.000Z</td>\n",
       "      <td></td>\n",
       "      <td>...</td>\n",
       "      <td>https://static-cdn.mastodon.social/avatars/ori...</td>\n",
       "      <td>https://static-cdn.mastodon.social/headers/ori...</td>\n",
       "      <td>https://static-cdn.mastodon.social/headers/ori...</td>\n",
       "      <td>0</td>\n",
       "      <td>3</td>\n",
       "      <td>0</td>\n",
       "      <td>None</td>\n",
       "      <td>[]</td>\n",
       "      <td>[]</td>\n",
       "      <td>NaN</td>\n",
       "    </tr>\n",
       "    <tr>\n",
       "      <th>4</th>\n",
       "      <td>1195537</td>\n",
       "      <td>JDAVIDSILVA</td>\n",
       "      <td>JDAVIDSILVA</td>\n",
       "      <td>JORGE DAVID SILVA</td>\n",
       "      <td>False</td>\n",
       "      <td>False</td>\n",
       "      <td>False</td>\n",
       "      <td>False</td>\n",
       "      <td>2020-04-20T00:00:00.000Z</td>\n",
       "      <td></td>\n",
       "      <td>...</td>\n",
       "      <td>https://static-cdn.mastodon.social/avatars/ori...</td>\n",
       "      <td>https://static-cdn.mastodon.social/headers/ori...</td>\n",
       "      <td>https://static-cdn.mastodon.social/headers/ori...</td>\n",
       "      <td>1</td>\n",
       "      <td>6</td>\n",
       "      <td>1</td>\n",
       "      <td>2020-04-28</td>\n",
       "      <td>[]</td>\n",
       "      <td>[]</td>\n",
       "      <td>False</td>\n",
       "    </tr>\n",
       "  </tbody>\n",
       "</table>\n",
       "<p>5 rows × 22 columns</p>\n",
       "</div>"
      ],
      "text/plain": [
       "                   id       username                            acct  \\\n",
       "0  109372417486107898          david             david@vira-lata.org   \n",
       "1  109269680204480110     geckosilva         geckosilva@mstdn.social   \n",
       "2             1357803    dasilvarosa  dasilvarosa@bitcoinhackers.org   \n",
       "3  109383155319556934  dasilvacontin      dasilvacontin@otter.garden   \n",
       "4             1195537    JDAVIDSILVA                     JDAVIDSILVA   \n",
       "\n",
       "            display_name  locked    bot  discoverable  group  \\\n",
       "0            David Silva   False  False         False  False   \n",
       "1         David E. Silva   False  False          True  False   \n",
       "2    David da Silva Rosa   False  False         False  False   \n",
       "3  David da Silva Contín   False  False         False  False   \n",
       "4      JORGE DAVID SILVA   False  False         False  False   \n",
       "\n",
       "                 created_at  \\\n",
       "0  2022-11-19T00:00:00.000Z   \n",
       "1  2022-11-01T00:00:00.000Z   \n",
       "2  2021-01-10T00:00:00.000Z   \n",
       "3  2022-11-21T00:00:00.000Z   \n",
       "4  2020-04-20T00:00:00.000Z   \n",
       "\n",
       "                                                note  ...  \\\n",
       "0  <p>Jornalista e UX Writer. Esquerda é o caminh...  ...   \n",
       "1  <p>Assistant Prof. at Kent State U. with a PhD...  ...   \n",
       "2  <p>Live free or die. Aerospace engineer obsess...  ...   \n",
       "3                                                     ...   \n",
       "4                                                     ...   \n",
       "\n",
       "                                       avatar_static  \\\n",
       "0  https://files.mastodon.social/cache/accounts/a...   \n",
       "1  https://files.mastodon.social/cache/accounts/a...   \n",
       "2  https://files.mastodon.social/cache/accounts/a...   \n",
       "3  https://static-cdn.mastodon.social/avatars/ori...   \n",
       "4  https://static-cdn.mastodon.social/avatars/ori...   \n",
       "\n",
       "                                              header  \\\n",
       "0  https://static-cdn.mastodon.social/headers/ori...   \n",
       "1  https://files.mastodon.social/cache/accounts/h...   \n",
       "2  https://files.mastodon.social/cache/accounts/h...   \n",
       "3  https://static-cdn.mastodon.social/headers/ori...   \n",
       "4  https://static-cdn.mastodon.social/headers/ori...   \n",
       "\n",
       "                                       header_static followers_count  \\\n",
       "0  https://static-cdn.mastodon.social/headers/ori...               3   \n",
       "1  https://files.mastodon.social/cache/accounts/h...              21   \n",
       "2  https://files.mastodon.social/cache/accounts/h...              18   \n",
       "3  https://static-cdn.mastodon.social/headers/ori...               0   \n",
       "4  https://static-cdn.mastodon.social/headers/ori...               1   \n",
       "\n",
       "  following_count  statuses_count  last_status_at  emojis  \\\n",
       "0               0              10      2022-11-23      []   \n",
       "1              40              19      2022-11-23      []   \n",
       "2              26               4      2021-01-11      []   \n",
       "3               3               0            None      []   \n",
       "4               6               1      2020-04-28      []   \n",
       "\n",
       "                                              fields noindex  \n",
       "0                                                 []     NaN  \n",
       "1                                                 []     NaN  \n",
       "2  [{'name': 'Twitter', 'value': '@dldasilvarosa'...     NaN  \n",
       "3                                                 []     NaN  \n",
       "4                                                 []   False  \n",
       "\n",
       "[5 rows x 22 columns]"
      ]
     },
     "execution_count": 14,
     "metadata": {},
     "output_type": "execute_result"
    }
   ],
   "source": [
    "account_info.head()"
   ]
  },
  {
   "cell_type": "code",
   "execution_count": 15,
   "id": "fb4e331c",
   "metadata": {},
   "outputs": [
    {
     "data": {
      "text/plain": [
       "Index(['id', 'username', 'acct', 'display_name', 'locked', 'bot',\n",
       "       'discoverable', 'group', 'created_at', 'note', 'url', 'avatar',\n",
       "       'avatar_static', 'header', 'header_static', 'followers_count',\n",
       "       'following_count', 'statuses_count', 'last_status_at', 'emojis',\n",
       "       'fields', 'noindex'],\n",
       "      dtype='object')"
      ]
     },
     "execution_count": 15,
     "metadata": {},
     "output_type": "execute_result"
    }
   ],
   "source": [
    "account_info.keys()"
   ]
  },
  {
   "cell_type": "markdown",
   "id": "2bda1c1d",
   "metadata": {},
   "source": [
    "That's me!"
   ]
  },
  {
   "cell_type": "code",
   "execution_count": 16,
   "id": "a433af8d",
   "metadata": {},
   "outputs": [
    {
     "data": {
      "text/plain": [
       "'https://mstdn.social/@geckosilva'"
      ]
     },
     "execution_count": 16,
     "metadata": {},
     "output_type": "execute_result"
    }
   ],
   "source": [
    "account_info.iloc[1]['url']"
   ]
  },
  {
   "cell_type": "markdown",
   "id": "13765f7c",
   "metadata": {},
   "source": [
    "##### Data collection"
   ]
  },
  {
   "cell_type": "code",
   "execution_count": 17,
   "id": "5b9269e0",
   "metadata": {},
   "outputs": [],
   "source": [
    "leg_list = pd.read_csv('legislators-current.csv')"
   ]
  },
  {
   "cell_type": "code",
   "execution_count": 18,
   "id": "faa79aef",
   "metadata": {},
   "outputs": [
    {
     "data": {
      "text/html": [
       "<div>\n",
       "<style scoped>\n",
       "    .dataframe tbody tr th:only-of-type {\n",
       "        vertical-align: middle;\n",
       "    }\n",
       "\n",
       "    .dataframe tbody tr th {\n",
       "        vertical-align: top;\n",
       "    }\n",
       "\n",
       "    .dataframe thead th {\n",
       "        text-align: right;\n",
       "    }\n",
       "</style>\n",
       "<table border=\"1\" class=\"dataframe\">\n",
       "  <thead>\n",
       "    <tr style=\"text-align: right;\">\n",
       "      <th></th>\n",
       "      <th>last_name</th>\n",
       "      <th>first_name</th>\n",
       "      <th>middle_name</th>\n",
       "      <th>suffix</th>\n",
       "      <th>nickname</th>\n",
       "      <th>full_name</th>\n",
       "      <th>birthday</th>\n",
       "      <th>gender</th>\n",
       "      <th>type</th>\n",
       "      <th>state</th>\n",
       "      <th>...</th>\n",
       "      <th>opensecrets_id</th>\n",
       "      <th>lis_id</th>\n",
       "      <th>fec_ids</th>\n",
       "      <th>cspan_id</th>\n",
       "      <th>govtrack_id</th>\n",
       "      <th>votesmart_id</th>\n",
       "      <th>ballotpedia_id</th>\n",
       "      <th>washington_post_id</th>\n",
       "      <th>icpsr_id</th>\n",
       "      <th>wikipedia_id</th>\n",
       "    </tr>\n",
       "  </thead>\n",
       "  <tbody>\n",
       "    <tr>\n",
       "      <th>0</th>\n",
       "      <td>Brown</td>\n",
       "      <td>Sherrod</td>\n",
       "      <td>NaN</td>\n",
       "      <td>NaN</td>\n",
       "      <td>NaN</td>\n",
       "      <td>Sherrod Brown</td>\n",
       "      <td>1952-11-09</td>\n",
       "      <td>M</td>\n",
       "      <td>sen</td>\n",
       "      <td>OH</td>\n",
       "      <td>...</td>\n",
       "      <td>N00003535</td>\n",
       "      <td>S307</td>\n",
       "      <td>H2OH13033,S6OH00163</td>\n",
       "      <td>5051.0</td>\n",
       "      <td>400050</td>\n",
       "      <td>27018.0</td>\n",
       "      <td>Sherrod Brown</td>\n",
       "      <td>NaN</td>\n",
       "      <td>29389.0</td>\n",
       "      <td>Sherrod Brown</td>\n",
       "    </tr>\n",
       "    <tr>\n",
       "      <th>1</th>\n",
       "      <td>Cantwell</td>\n",
       "      <td>Maria</td>\n",
       "      <td>NaN</td>\n",
       "      <td>NaN</td>\n",
       "      <td>NaN</td>\n",
       "      <td>Maria Cantwell</td>\n",
       "      <td>1958-10-13</td>\n",
       "      <td>F</td>\n",
       "      <td>sen</td>\n",
       "      <td>WA</td>\n",
       "      <td>...</td>\n",
       "      <td>N00007836</td>\n",
       "      <td>S275</td>\n",
       "      <td>S8WA00194,H2WA01054</td>\n",
       "      <td>26137.0</td>\n",
       "      <td>300018</td>\n",
       "      <td>27122.0</td>\n",
       "      <td>Maria Cantwell</td>\n",
       "      <td>NaN</td>\n",
       "      <td>39310.0</td>\n",
       "      <td>Maria Cantwell</td>\n",
       "    </tr>\n",
       "    <tr>\n",
       "      <th>2</th>\n",
       "      <td>Cardin</td>\n",
       "      <td>Benjamin</td>\n",
       "      <td>L.</td>\n",
       "      <td>NaN</td>\n",
       "      <td>NaN</td>\n",
       "      <td>Benjamin L. Cardin</td>\n",
       "      <td>1943-10-05</td>\n",
       "      <td>M</td>\n",
       "      <td>sen</td>\n",
       "      <td>MD</td>\n",
       "      <td>...</td>\n",
       "      <td>N00001955</td>\n",
       "      <td>S308</td>\n",
       "      <td>H6MD03177,S6MD03177</td>\n",
       "      <td>4004.0</td>\n",
       "      <td>400064</td>\n",
       "      <td>26888.0</td>\n",
       "      <td>Ben Cardin</td>\n",
       "      <td>NaN</td>\n",
       "      <td>15408.0</td>\n",
       "      <td>Ben Cardin</td>\n",
       "    </tr>\n",
       "    <tr>\n",
       "      <th>3</th>\n",
       "      <td>Carper</td>\n",
       "      <td>Thomas</td>\n",
       "      <td>Richard</td>\n",
       "      <td>NaN</td>\n",
       "      <td>NaN</td>\n",
       "      <td>Thomas R. Carper</td>\n",
       "      <td>1947-01-23</td>\n",
       "      <td>M</td>\n",
       "      <td>sen</td>\n",
       "      <td>DE</td>\n",
       "      <td>...</td>\n",
       "      <td>N00012508</td>\n",
       "      <td>S277</td>\n",
       "      <td>S8DE00079</td>\n",
       "      <td>663.0</td>\n",
       "      <td>300019</td>\n",
       "      <td>22421.0</td>\n",
       "      <td>Tom Carper</td>\n",
       "      <td>NaN</td>\n",
       "      <td>15015.0</td>\n",
       "      <td>Tom Carper</td>\n",
       "    </tr>\n",
       "    <tr>\n",
       "      <th>4</th>\n",
       "      <td>Casey</td>\n",
       "      <td>Robert</td>\n",
       "      <td>P.</td>\n",
       "      <td>Jr.</td>\n",
       "      <td>Bob</td>\n",
       "      <td>Robert P. Casey, Jr.</td>\n",
       "      <td>1960-04-13</td>\n",
       "      <td>M</td>\n",
       "      <td>sen</td>\n",
       "      <td>PA</td>\n",
       "      <td>...</td>\n",
       "      <td>N00027503</td>\n",
       "      <td>S309</td>\n",
       "      <td>S6PA00217</td>\n",
       "      <td>47036.0</td>\n",
       "      <td>412246</td>\n",
       "      <td>2541.0</td>\n",
       "      <td>Bob Casey, Jr.</td>\n",
       "      <td>NaN</td>\n",
       "      <td>40703.0</td>\n",
       "      <td>Bob Casey Jr.</td>\n",
       "    </tr>\n",
       "  </tbody>\n",
       "</table>\n",
       "<p>5 rows × 34 columns</p>\n",
       "</div>"
      ],
      "text/plain": [
       "  last_name first_name middle_name suffix nickname             full_name  \\\n",
       "0     Brown    Sherrod         NaN    NaN      NaN         Sherrod Brown   \n",
       "1  Cantwell      Maria         NaN    NaN      NaN        Maria Cantwell   \n",
       "2    Cardin   Benjamin          L.    NaN      NaN    Benjamin L. Cardin   \n",
       "3    Carper     Thomas     Richard    NaN      NaN      Thomas R. Carper   \n",
       "4     Casey     Robert          P.    Jr.      Bob  Robert P. Casey, Jr.   \n",
       "\n",
       "     birthday gender type state  ...  opensecrets_id  lis_id  \\\n",
       "0  1952-11-09      M  sen    OH  ...       N00003535    S307   \n",
       "1  1958-10-13      F  sen    WA  ...       N00007836    S275   \n",
       "2  1943-10-05      M  sen    MD  ...       N00001955    S308   \n",
       "3  1947-01-23      M  sen    DE  ...       N00012508    S277   \n",
       "4  1960-04-13      M  sen    PA  ...       N00027503    S309   \n",
       "\n",
       "               fec_ids cspan_id govtrack_id votesmart_id  ballotpedia_id  \\\n",
       "0  H2OH13033,S6OH00163   5051.0      400050      27018.0   Sherrod Brown   \n",
       "1  S8WA00194,H2WA01054  26137.0      300018      27122.0  Maria Cantwell   \n",
       "2  H6MD03177,S6MD03177   4004.0      400064      26888.0      Ben Cardin   \n",
       "3            S8DE00079    663.0      300019      22421.0      Tom Carper   \n",
       "4            S6PA00217  47036.0      412246       2541.0  Bob Casey, Jr.   \n",
       "\n",
       "  washington_post_id icpsr_id    wikipedia_id  \n",
       "0                NaN  29389.0   Sherrod Brown  \n",
       "1                NaN  39310.0  Maria Cantwell  \n",
       "2                NaN  15408.0      Ben Cardin  \n",
       "3                NaN  15015.0      Tom Carper  \n",
       "4                NaN  40703.0   Bob Casey Jr.  \n",
       "\n",
       "[5 rows x 34 columns]"
      ]
     },
     "execution_count": 18,
     "metadata": {},
     "output_type": "execute_result"
    }
   ],
   "source": [
    "leg_list.head()"
   ]
  },
  {
   "cell_type": "code",
   "execution_count": 19,
   "id": "5e0577ed",
   "metadata": {},
   "outputs": [
    {
     "data": {
      "text/plain": [
       "Index(['last_name', 'first_name', 'middle_name', 'suffix', 'nickname',\n",
       "       'full_name', 'birthday', 'gender', 'type', 'state', 'district',\n",
       "       'senate_class', 'party', 'url', 'address', 'phone', 'contact_form',\n",
       "       'rss_url', 'twitter', 'facebook', 'youtube', 'youtube_id',\n",
       "       'bioguide_id', 'thomas_id', 'opensecrets_id', 'lis_id', 'fec_ids',\n",
       "       'cspan_id', 'govtrack_id', 'votesmart_id', 'ballotpedia_id',\n",
       "       'washington_post_id', 'icpsr_id', 'wikipedia_id'],\n",
       "      dtype='object')"
      ]
     },
     "execution_count": 19,
     "metadata": {},
     "output_type": "execute_result"
    }
   ],
   "source": [
    "leg_list.keys()"
   ]
  },
  {
   "cell_type": "code",
   "execution_count": 20,
   "id": "ced0e95d",
   "metadata": {},
   "outputs": [
    {
     "data": {
      "text/plain": [
       "539"
      ]
     },
     "execution_count": 20,
     "metadata": {},
     "output_type": "execute_result"
    }
   ],
   "source": [
    "len(leg_list.index)"
   ]
  },
  {
   "cell_type": "code",
   "execution_count": 21,
   "id": "651f2e9b",
   "metadata": {},
   "outputs": [],
   "source": [
    "def pol_masto_search(name, header):\n",
    "    searched_name = None\n",
    "    found_accounts = None\n",
    "    many_found_accounts = None\n",
    "    failed_response = None\n",
    "    search_endpoint = 'https://mastodon.social/api/v2/search'\n",
    "    query_url = search_endpoint + '?q={}&limit=40'.format(name)\n",
    "    response = requests.get(query_url, headers = header)\n",
    "    if response.status_code != 200:\n",
    "        print('Keyword `{}` search failed'.format(name))\n",
    "        failed_response = response\n",
    "    else:\n",
    "        failed_response = False\n",
    "        # print(response.status_code)\n",
    "        searched_name = name\n",
    "        response_dict = response.json()\n",
    "        if len(response_dict['accounts']) < 1:\n",
    "            found_accounts = False\n",
    "        else:\n",
    "            found_accounts = response_dict['accounts']\n",
    "            if len(response_dict['accounts']) < 40:\n",
    "                many_found_accounts = False\n",
    "            else:\n",
    "                many_found_accounts = True\n",
    "    return {'searched_name': searched_name, 'found_accounts': found_accounts, 'many_found_accounts': many_found_accounts, 'failed': failed_response}"
   ]
  },
  {
   "cell_type": "markdown",
   "id": "3ee96c37",
   "metadata": {},
   "source": [
    "Mastodon's API limits requests to [300 per 5 minutes](https://docs.joinmastodon.org/api/rate-limits/#limits). Because of this, need to arbitrarily slow down the request of >500 names. I know there are better ways but this is the quickest to implement."
   ]
  },
  {
   "cell_type": "code",
   "execution_count": 22,
   "id": "dc72e42b",
   "metadata": {},
   "outputs": [],
   "source": [
    "nov_23_search_results = []\n",
    "for x in leg_list['full_name']:\n",
    "    nov_23_search_results.append(pol_masto_search(name = x, header = header))\n",
    "    sleep(0.6)"
   ]
  },
  {
   "cell_type": "code",
   "execution_count": 23,
   "id": "8c3b4361",
   "metadata": {},
   "outputs": [],
   "source": [
    "results = pd.DataFrame(nov_23_search_results)"
   ]
  },
  {
   "cell_type": "code",
   "execution_count": 24,
   "id": "66a5b5bf",
   "metadata": {},
   "outputs": [
    {
     "data": {
      "text/html": [
       "<div>\n",
       "<style scoped>\n",
       "    .dataframe tbody tr th:only-of-type {\n",
       "        vertical-align: middle;\n",
       "    }\n",
       "\n",
       "    .dataframe tbody tr th {\n",
       "        vertical-align: top;\n",
       "    }\n",
       "\n",
       "    .dataframe thead th {\n",
       "        text-align: right;\n",
       "    }\n",
       "</style>\n",
       "<table border=\"1\" class=\"dataframe\">\n",
       "  <thead>\n",
       "    <tr style=\"text-align: right;\">\n",
       "      <th></th>\n",
       "      <th>searched_name</th>\n",
       "      <th>found_accounts</th>\n",
       "      <th>many_found_accounts</th>\n",
       "      <th>failed</th>\n",
       "    </tr>\n",
       "  </thead>\n",
       "  <tbody>\n",
       "    <tr>\n",
       "      <th>0</th>\n",
       "      <td>Sherrod Brown</td>\n",
       "      <td>False</td>\n",
       "      <td>None</td>\n",
       "      <td>False</td>\n",
       "    </tr>\n",
       "    <tr>\n",
       "      <th>1</th>\n",
       "      <td>Maria Cantwell</td>\n",
       "      <td>False</td>\n",
       "      <td>None</td>\n",
       "      <td>False</td>\n",
       "    </tr>\n",
       "    <tr>\n",
       "      <th>2</th>\n",
       "      <td>Benjamin L. Cardin</td>\n",
       "      <td>False</td>\n",
       "      <td>None</td>\n",
       "      <td>False</td>\n",
       "    </tr>\n",
       "    <tr>\n",
       "      <th>3</th>\n",
       "      <td>Thomas R. Carper</td>\n",
       "      <td>False</td>\n",
       "      <td>None</td>\n",
       "      <td>False</td>\n",
       "    </tr>\n",
       "    <tr>\n",
       "      <th>4</th>\n",
       "      <td>Robert P. Casey, Jr.</td>\n",
       "      <td>False</td>\n",
       "      <td>None</td>\n",
       "      <td>False</td>\n",
       "    </tr>\n",
       "    <tr>\n",
       "      <th>5</th>\n",
       "      <td>Dianne Feinstein</td>\n",
       "      <td>False</td>\n",
       "      <td>None</td>\n",
       "      <td>False</td>\n",
       "    </tr>\n",
       "    <tr>\n",
       "      <th>6</th>\n",
       "      <td>Amy Klobuchar</td>\n",
       "      <td>[{'id': '954757', 'username': 'SeanAloysiusOBr...</td>\n",
       "      <td>False</td>\n",
       "      <td>False</td>\n",
       "    </tr>\n",
       "    <tr>\n",
       "      <th>7</th>\n",
       "      <td>Robert Menendez</td>\n",
       "      <td>False</td>\n",
       "      <td>None</td>\n",
       "      <td>False</td>\n",
       "    </tr>\n",
       "    <tr>\n",
       "      <th>8</th>\n",
       "      <td>Bernard Sanders</td>\n",
       "      <td>False</td>\n",
       "      <td>None</td>\n",
       "      <td>False</td>\n",
       "    </tr>\n",
       "    <tr>\n",
       "      <th>9</th>\n",
       "      <td>Debbie Stabenow</td>\n",
       "      <td>False</td>\n",
       "      <td>None</td>\n",
       "      <td>False</td>\n",
       "    </tr>\n",
       "  </tbody>\n",
       "</table>\n",
       "</div>"
      ],
      "text/plain": [
       "          searched_name                                     found_accounts  \\\n",
       "0         Sherrod Brown                                              False   \n",
       "1        Maria Cantwell                                              False   \n",
       "2    Benjamin L. Cardin                                              False   \n",
       "3      Thomas R. Carper                                              False   \n",
       "4  Robert P. Casey, Jr.                                              False   \n",
       "5      Dianne Feinstein                                              False   \n",
       "6         Amy Klobuchar  [{'id': '954757', 'username': 'SeanAloysiusOBr...   \n",
       "7       Robert Menendez                                              False   \n",
       "8       Bernard Sanders                                              False   \n",
       "9       Debbie Stabenow                                              False   \n",
       "\n",
       "  many_found_accounts  failed  \n",
       "0                None   False  \n",
       "1                None   False  \n",
       "2                None   False  \n",
       "3                None   False  \n",
       "4                None   False  \n",
       "5                None   False  \n",
       "6               False   False  \n",
       "7                None   False  \n",
       "8                None   False  \n",
       "9                None   False  "
      ]
     },
     "execution_count": 24,
     "metadata": {},
     "output_type": "execute_result"
    }
   ],
   "source": [
    "results.head(10)"
   ]
  },
  {
   "cell_type": "code",
   "execution_count": 25,
   "id": "2bacc305",
   "metadata": {},
   "outputs": [
    {
     "data": {
      "text/html": [
       "<div>\n",
       "<style scoped>\n",
       "    .dataframe tbody tr th:only-of-type {\n",
       "        vertical-align: middle;\n",
       "    }\n",
       "\n",
       "    .dataframe tbody tr th {\n",
       "        vertical-align: top;\n",
       "    }\n",
       "\n",
       "    .dataframe thead th {\n",
       "        text-align: right;\n",
       "    }\n",
       "</style>\n",
       "<table border=\"1\" class=\"dataframe\">\n",
       "  <thead>\n",
       "    <tr style=\"text-align: right;\">\n",
       "      <th></th>\n",
       "      <th>searched_name</th>\n",
       "      <th>found_accounts</th>\n",
       "      <th>many_found_accounts</th>\n",
       "      <th>failed</th>\n",
       "    </tr>\n",
       "  </thead>\n",
       "  <tbody>\n",
       "    <tr>\n",
       "      <th>534</th>\n",
       "      <td>Brad Finstad</td>\n",
       "      <td>False</td>\n",
       "      <td>None</td>\n",
       "      <td>False</td>\n",
       "    </tr>\n",
       "    <tr>\n",
       "      <th>535</th>\n",
       "      <td>Mary Sattler Peltola</td>\n",
       "      <td>False</td>\n",
       "      <td>None</td>\n",
       "      <td>False</td>\n",
       "    </tr>\n",
       "    <tr>\n",
       "      <th>536</th>\n",
       "      <td>Patrick Ryan</td>\n",
       "      <td>[{'id': '813857', 'username': 'ryanpatricksmit...</td>\n",
       "      <td>False</td>\n",
       "      <td>False</td>\n",
       "    </tr>\n",
       "    <tr>\n",
       "      <th>537</th>\n",
       "      <td>Joseph Sempolinski</td>\n",
       "      <td>False</td>\n",
       "      <td>None</td>\n",
       "      <td>False</td>\n",
       "    </tr>\n",
       "    <tr>\n",
       "      <th>538</th>\n",
       "      <td>NaN</td>\n",
       "      <td>False</td>\n",
       "      <td>None</td>\n",
       "      <td>False</td>\n",
       "    </tr>\n",
       "  </tbody>\n",
       "</table>\n",
       "</div>"
      ],
      "text/plain": [
       "            searched_name                                     found_accounts  \\\n",
       "534          Brad Finstad                                              False   \n",
       "535  Mary Sattler Peltola                                              False   \n",
       "536          Patrick Ryan  [{'id': '813857', 'username': 'ryanpatricksmit...   \n",
       "537    Joseph Sempolinski                                              False   \n",
       "538                   NaN                                              False   \n",
       "\n",
       "    many_found_accounts  failed  \n",
       "534                None   False  \n",
       "535                None   False  \n",
       "536               False   False  \n",
       "537                None   False  \n",
       "538                None   False  "
      ]
     },
     "execution_count": 25,
     "metadata": {},
     "output_type": "execute_result"
    }
   ],
   "source": [
    "results.tail()"
   ]
  },
  {
   "cell_type": "code",
   "execution_count": 26,
   "id": "e98e6a3d",
   "metadata": {},
   "outputs": [],
   "source": [
    "results.to_csv('nov_23_search_results.csv')"
   ]
  },
  {
   "cell_type": "code",
   "execution_count": 27,
   "id": "67e7fa58",
   "metadata": {},
   "outputs": [],
   "source": [
    "found_accounts_df = results[results['found_accounts'] != False]"
   ]
  },
  {
   "cell_type": "code",
   "execution_count": 28,
   "id": "6dae084a",
   "metadata": {},
   "outputs": [
    {
     "data": {
      "text/plain": [
       "95"
      ]
     },
     "execution_count": 28,
     "metadata": {},
     "output_type": "execute_result"
    }
   ],
   "source": [
    "len(found_accounts_df.index)"
   ]
  },
  {
   "cell_type": "code",
   "execution_count": 29,
   "id": "abc152c5",
   "metadata": {},
   "outputs": [
    {
     "data": {
      "text/html": [
       "<div>\n",
       "<style scoped>\n",
       "    .dataframe tbody tr th:only-of-type {\n",
       "        vertical-align: middle;\n",
       "    }\n",
       "\n",
       "    .dataframe tbody tr th {\n",
       "        vertical-align: top;\n",
       "    }\n",
       "\n",
       "    .dataframe thead th {\n",
       "        text-align: right;\n",
       "    }\n",
       "</style>\n",
       "<table border=\"1\" class=\"dataframe\">\n",
       "  <thead>\n",
       "    <tr style=\"text-align: right;\">\n",
       "      <th></th>\n",
       "      <th>searched_name</th>\n",
       "      <th>found_accounts</th>\n",
       "      <th>many_found_accounts</th>\n",
       "      <th>failed</th>\n",
       "    </tr>\n",
       "  </thead>\n",
       "  <tbody>\n",
       "    <tr>\n",
       "      <th>6</th>\n",
       "      <td>Amy Klobuchar</td>\n",
       "      <td>[{'id': '954757', 'username': 'SeanAloysiusOBr...</td>\n",
       "      <td>False</td>\n",
       "      <td>False</td>\n",
       "    </tr>\n",
       "    <tr>\n",
       "      <th>10</th>\n",
       "      <td>Jon Tester</td>\n",
       "      <td>[{'id': '109289281920145814', 'username': 'jon...</td>\n",
       "      <td>False</td>\n",
       "      <td>False</td>\n",
       "    </tr>\n",
       "    <tr>\n",
       "      <th>17</th>\n",
       "      <td>Lindsey Graham</td>\n",
       "      <td>[{'id': '1014550', 'username': 'LindseyGrahamS...</td>\n",
       "      <td>False</td>\n",
       "      <td>False</td>\n",
       "    </tr>\n",
       "    <tr>\n",
       "      <th>19</th>\n",
       "      <td>Mitch McConnell</td>\n",
       "      <td>[{'id': '109300533402685736', 'username': 'Mit...</td>\n",
       "      <td>False</td>\n",
       "      <td>False</td>\n",
       "    </tr>\n",
       "    <tr>\n",
       "      <th>39</th>\n",
       "      <td>Kevin Brady</td>\n",
       "      <td>[{'id': '109366318527978208', 'username': 'Kbr...</td>\n",
       "      <td>False</td>\n",
       "      <td>False</td>\n",
       "    </tr>\n",
       "  </tbody>\n",
       "</table>\n",
       "</div>"
      ],
      "text/plain": [
       "      searched_name                                     found_accounts  \\\n",
       "6     Amy Klobuchar  [{'id': '954757', 'username': 'SeanAloysiusOBr...   \n",
       "10       Jon Tester  [{'id': '109289281920145814', 'username': 'jon...   \n",
       "17   Lindsey Graham  [{'id': '1014550', 'username': 'LindseyGrahamS...   \n",
       "19  Mitch McConnell  [{'id': '109300533402685736', 'username': 'Mit...   \n",
       "39      Kevin Brady  [{'id': '109366318527978208', 'username': 'Kbr...   \n",
       "\n",
       "   many_found_accounts  failed  \n",
       "6                False   False  \n",
       "10               False   False  \n",
       "17               False   False  \n",
       "19               False   False  \n",
       "39               False   False  "
      ]
     },
     "execution_count": 29,
     "metadata": {},
     "output_type": "execute_result"
    }
   ],
   "source": [
    "found_accounts_df.head()"
   ]
  },
  {
   "cell_type": "code",
   "execution_count": 30,
   "id": "cb191bbb",
   "metadata": {},
   "outputs": [
    {
     "name": "stderr",
     "output_type": "stream",
     "text": [
      "C:\\Users\\Silva\\AppData\\Local\\Temp\\ipykernel_16792\\2603402583.py:2: SettingWithCopyWarning: \n",
      "A value is trying to be set on a copy of a slice from a DataFrame.\n",
      "Try using .loc[row_indexer,col_indexer] = value instead\n",
      "\n",
      "See the caveats in the documentation: https://pandas.pydata.org/pandas-docs/stable/user_guide/indexing.html#returning-a-view-versus-a-copy\n",
      "  found_accounts_df['num_accounts'] = num_accounts\n"
     ]
    }
   ],
   "source": [
    "num_accounts = [len(x) for x in found_accounts_df['found_accounts']]\n",
    "found_accounts_df['num_accounts'] = num_accounts"
   ]
  },
  {
   "cell_type": "code",
   "execution_count": 31,
   "id": "42f9fb57",
   "metadata": {},
   "outputs": [
    {
     "data": {
      "text/html": [
       "<div>\n",
       "<style scoped>\n",
       "    .dataframe tbody tr th:only-of-type {\n",
       "        vertical-align: middle;\n",
       "    }\n",
       "\n",
       "    .dataframe tbody tr th {\n",
       "        vertical-align: top;\n",
       "    }\n",
       "\n",
       "    .dataframe thead th {\n",
       "        text-align: right;\n",
       "    }\n",
       "</style>\n",
       "<table border=\"1\" class=\"dataframe\">\n",
       "  <thead>\n",
       "    <tr style=\"text-align: right;\">\n",
       "      <th></th>\n",
       "      <th>searched_name</th>\n",
       "      <th>found_accounts</th>\n",
       "      <th>many_found_accounts</th>\n",
       "      <th>failed</th>\n",
       "      <th>num_accounts</th>\n",
       "    </tr>\n",
       "  </thead>\n",
       "  <tbody>\n",
       "    <tr>\n",
       "      <th>184</th>\n",
       "      <td>Adam Smith</td>\n",
       "      <td>[{'id': '429820', 'username': 'adamndsmith', '...</td>\n",
       "      <td>False</td>\n",
       "      <td>False</td>\n",
       "      <td>18</td>\n",
       "    </tr>\n",
       "    <tr>\n",
       "      <th>119</th>\n",
       "      <td>Mike Lee</td>\n",
       "      <td>[{'id': '109309997973560147', 'username': 'mik...</td>\n",
       "      <td>False</td>\n",
       "      <td>False</td>\n",
       "      <td>12</td>\n",
       "    </tr>\n",
       "    <tr>\n",
       "      <th>256</th>\n",
       "      <td>Ted Cruz</td>\n",
       "      <td>[{'id': '252538', 'username': 'tedcruz', 'acct...</td>\n",
       "      <td>False</td>\n",
       "      <td>False</td>\n",
       "      <td>9</td>\n",
       "    </tr>\n",
       "    <tr>\n",
       "      <th>266</th>\n",
       "      <td>Jason Smith</td>\n",
       "      <td>[{'id': '109372660619579931', 'username': 'ohp...</td>\n",
       "      <td>False</td>\n",
       "      <td>False</td>\n",
       "      <td>9</td>\n",
       "    </tr>\n",
       "    <tr>\n",
       "      <th>176</th>\n",
       "      <td>David Scott</td>\n",
       "      <td>[{'id': '109304484414633449', 'username': 'era...</td>\n",
       "      <td>False</td>\n",
       "      <td>False</td>\n",
       "      <td>8</td>\n",
       "    </tr>\n",
       "    <tr>\n",
       "      <th>341</th>\n",
       "      <td>Mike Johnson</td>\n",
       "      <td>[{'id': '109318056035277638', 'username': 'mik...</td>\n",
       "      <td>False</td>\n",
       "      <td>False</td>\n",
       "      <td>8</td>\n",
       "    </tr>\n",
       "    <tr>\n",
       "      <th>161</th>\n",
       "      <td>Mike Rogers</td>\n",
       "      <td>[{'id': '109299644622400352', 'username': 'Ten...</td>\n",
       "      <td>False</td>\n",
       "      <td>False</td>\n",
       "      <td>7</td>\n",
       "    </tr>\n",
       "    <tr>\n",
       "      <th>315</th>\n",
       "      <td>John Kennedy</td>\n",
       "      <td>[{'id': '1251899', 'username': 'micefearboggis...</td>\n",
       "      <td>False</td>\n",
       "      <td>False</td>\n",
       "      <td>7</td>\n",
       "    </tr>\n",
       "    <tr>\n",
       "      <th>355</th>\n",
       "      <td>Vicente Gonzalez</td>\n",
       "      <td>[{'id': '109331965042333385', 'username': 'jor...</td>\n",
       "      <td>False</td>\n",
       "      <td>False</td>\n",
       "      <td>5</td>\n",
       "    </tr>\n",
       "    <tr>\n",
       "      <th>327</th>\n",
       "      <td>Matt Gaetz</td>\n",
       "      <td>[{'id': '109325377255811014', 'username': 'mat...</td>\n",
       "      <td>False</td>\n",
       "      <td>False</td>\n",
       "      <td>4</td>\n",
       "    </tr>\n",
       "  </tbody>\n",
       "</table>\n",
       "</div>"
      ],
      "text/plain": [
       "        searched_name                                     found_accounts  \\\n",
       "184        Adam Smith  [{'id': '429820', 'username': 'adamndsmith', '...   \n",
       "119          Mike Lee  [{'id': '109309997973560147', 'username': 'mik...   \n",
       "256          Ted Cruz  [{'id': '252538', 'username': 'tedcruz', 'acct...   \n",
       "266       Jason Smith  [{'id': '109372660619579931', 'username': 'ohp...   \n",
       "176       David Scott  [{'id': '109304484414633449', 'username': 'era...   \n",
       "341      Mike Johnson  [{'id': '109318056035277638', 'username': 'mik...   \n",
       "161       Mike Rogers  [{'id': '109299644622400352', 'username': 'Ten...   \n",
       "315      John Kennedy  [{'id': '1251899', 'username': 'micefearboggis...   \n",
       "355  Vicente Gonzalez  [{'id': '109331965042333385', 'username': 'jor...   \n",
       "327        Matt Gaetz  [{'id': '109325377255811014', 'username': 'mat...   \n",
       "\n",
       "    many_found_accounts  failed  num_accounts  \n",
       "184               False   False            18  \n",
       "119               False   False            12  \n",
       "256               False   False             9  \n",
       "266               False   False             9  \n",
       "176               False   False             8  \n",
       "341               False   False             8  \n",
       "161               False   False             7  \n",
       "315               False   False             7  \n",
       "355               False   False             5  \n",
       "327               False   False             4  "
      ]
     },
     "execution_count": 31,
     "metadata": {},
     "output_type": "execute_result"
    }
   ],
   "source": [
    "found_accounts_df.sort_values('num_accounts', ascending = False).head(10)"
   ]
  },
  {
   "cell_type": "code",
   "execution_count": 32,
   "id": "a21bbc4b",
   "metadata": {},
   "outputs": [
    {
     "data": {
      "text/plain": [
       "Index(['id', 'username', 'acct', 'display_name', 'locked', 'bot',\n",
       "       'discoverable', 'group', 'created_at', 'note', 'url', 'avatar',\n",
       "       'avatar_static', 'header', 'header_static', 'followers_count',\n",
       "       'following_count', 'statuses_count', 'last_status_at', 'noindex',\n",
       "       'emojis', 'fields', 'limited'],\n",
       "      dtype='object')"
      ]
     },
     "execution_count": 32,
     "metadata": {},
     "output_type": "execute_result"
    }
   ],
   "source": [
    "pd.DataFrame(found_accounts_df['found_accounts'].loc[184]).keys()"
   ]
  },
  {
   "cell_type": "code",
   "execution_count": 33,
   "id": "a3a91501",
   "metadata": {},
   "outputs": [
    {
     "data": {
      "text/plain": [
       "0               https://mastodon.social/@adamndsmith\n",
       "1             https://sauropods.win/@AdamStuartSmith\n",
       "2                  https://ecoevo.social/@adamfsmith\n",
       "3                 https://mastodon.social/@rndmcnlly\n",
       "4               https://mastodon.sdf.org/@asmith4726\n",
       "5                https://mastodon.social/@adamjsmith\n",
       "6                 https://mastodon.com.tr/@adamsmith\n",
       "7                  https://techhub.social/@addiepads\n",
       "8                            https://mas.to/@asmith6\n",
       "9               https://mastodon.social/@adamsmith90\n",
       "10           https://fediscience.org/@AdamClarkSmith\n",
       "11               https://mastodon.online/@adambsmith\n",
       "12                https://mastodon.social/@AMSilence\n",
       "13                https://berries.space/@smithya1333\n",
       "14    https://pleroma.site/users/cunnycrushersupreme\n",
       "15            https://mastodon.social/@AdamJohnSmith\n",
       "16                   https://social.fab-l3.org/@Adam\n",
       "17              https://mastodon.social/@adamsmith87\n",
       "Name: url, dtype: object"
      ]
     },
     "execution_count": 33,
     "metadata": {},
     "output_type": "execute_result"
    }
   ],
   "source": [
    "pd.DataFrame(found_accounts_df['found_accounts'].loc[184])['url']"
   ]
  },
  {
   "cell_type": "markdown",
   "id": "a685c923",
   "metadata": {},
   "source": [
    "Still a bit of a work in progress."
   ]
  }
 ],
 "metadata": {
  "kernelspec": {
   "display_name": "Python 3 (ipykernel)",
   "language": "python",
   "name": "python3"
  },
  "language_info": {
   "codemirror_mode": {
    "name": "ipython",
    "version": 3
   },
   "file_extension": ".py",
   "mimetype": "text/x-python",
   "name": "python",
   "nbconvert_exporter": "python",
   "pygments_lexer": "ipython3",
   "version": "3.8.13"
  }
 },
 "nbformat": 4,
 "nbformat_minor": 5
}
