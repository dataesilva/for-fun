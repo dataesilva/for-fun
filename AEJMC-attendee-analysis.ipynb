{
 "cells": [
  {
   "cell_type": "code",
   "execution_count": 1,
   "id": "aggregate-bacteria",
   "metadata": {},
   "outputs": [],
   "source": [
    "import pandas as pd\n",
    "from bs4 import BeautifulSoup"
   ]
  },
  {
   "cell_type": "code",
   "execution_count": 9,
   "id": "toxic-vampire",
   "metadata": {},
   "outputs": [],
   "source": [
    "with open(r'D:\\EMAT_22110\\Projects\\AEJMC21 Attendees List.txt', encoding = 'utf-8') as f:\n",
    "    attendee_list = f.read()"
   ]
  },
  {
   "cell_type": "code",
   "execution_count": 4,
   "id": "joined-toolbox",
   "metadata": {},
   "outputs": [
    {
     "name": "stdout",
     "output_type": "stream",
     "text": [
      "<_io.TextIOWrapper name='D:\\\\EMAT_22110\\\\Projects\\\\AEJMC21 Attendees List.txt' mode='r' encoding='cp1252'>\n"
     ]
    }
   ],
   "source": [
    "print(attendee_list)"
   ]
  },
  {
   "cell_type": "code",
   "execution_count": 11,
   "id": "lesser-quebec",
   "metadata": {},
   "outputs": [],
   "source": [
    "attendee_soup = BeautifulSoup(attendee_list, 'html.parser')"
   ]
  },
  {
   "cell_type": "code",
   "execution_count": 14,
   "id": "czech-greene",
   "metadata": {},
   "outputs": [],
   "source": [
    "names = [x.text.strip() for x in attendee_soup.find_all(name='a', attrs={'data-cvent-id':'attendee-list-item-name'})]"
   ]
  },
  {
   "cell_type": "code",
   "execution_count": 16,
   "id": "seasonal-establishment",
   "metadata": {},
   "outputs": [
    {
     "data": {
      "text/plain": [
       "['Aaron Atkins',\n",
       " 'Aaron Chimbel',\n",
       " 'Abby Hendricks',\n",
       " 'Abdul Wahab Gibrilu',\n",
       " 'Abdulaziz Alowais',\n",
       " 'Abhijit Mazumdar',\n",
       " 'Abhinav Aima',\n",
       " 'Adina Schneeweis',\n",
       " 'Adriana Mucedola',\n",
       " 'Adriane Grumbein']"
      ]
     },
     "execution_count": 16,
     "metadata": {},
     "output_type": "execute_result"
    }
   ],
   "source": [
    "names[0:10]"
   ]
  },
  {
   "cell_type": "code",
   "execution_count": 25,
   "id": "weighted-brass",
   "metadata": {},
   "outputs": [],
   "source": [
    "firsts = []\n",
    "lasts = []\n",
    "for i in names:\n",
    "    splits = i.split(' ')\n",
    "    firsts.append(splits[0])\n",
    "    lasts.append(splits[-1])"
   ]
  },
  {
   "cell_type": "code",
   "execution_count": 26,
   "id": "complex-substitute",
   "metadata": {},
   "outputs": [
    {
     "data": {
      "text/plain": [
       "['Aaron',\n",
       " 'Aaron',\n",
       " 'Abby',\n",
       " 'Abdul',\n",
       " 'Abdulaziz',\n",
       " 'Abhijit',\n",
       " 'Abhinav',\n",
       " 'Adina',\n",
       " 'Adriana',\n",
       " 'Adriane']"
      ]
     },
     "execution_count": 26,
     "metadata": {},
     "output_type": "execute_result"
    }
   ],
   "source": [
    "firsts[0:10]"
   ]
  },
  {
   "cell_type": "code",
   "execution_count": 28,
   "id": "apart-franchise",
   "metadata": {},
   "outputs": [
    {
     "data": {
      "text/plain": [
       "1966"
      ]
     },
     "execution_count": 28,
     "metadata": {},
     "output_type": "execute_result"
    }
   ],
   "source": [
    "len(firsts)"
   ]
  },
  {
   "cell_type": "code",
   "execution_count": 27,
   "id": "difficult-inspector",
   "metadata": {},
   "outputs": [
    {
     "data": {
      "text/plain": [
       "['Atkins',\n",
       " 'Chimbel',\n",
       " 'Hendricks',\n",
       " 'Gibrilu',\n",
       " 'Alowais',\n",
       " 'Mazumdar',\n",
       " 'Aima',\n",
       " 'Schneeweis',\n",
       " 'Mucedola',\n",
       " 'Grumbein']"
      ]
     },
     "execution_count": 27,
     "metadata": {},
     "output_type": "execute_result"
    }
   ],
   "source": [
    "lasts[0:10]"
   ]
  },
  {
   "cell_type": "code",
   "execution_count": 29,
   "id": "ideal-lotus",
   "metadata": {},
   "outputs": [
    {
     "data": {
      "text/plain": [
       "1966"
      ]
     },
     "execution_count": 29,
     "metadata": {},
     "output_type": "execute_result"
    }
   ],
   "source": [
    "len(lasts)"
   ]
  },
  {
   "cell_type": "code",
   "execution_count": 19,
   "id": "interested-dialogue",
   "metadata": {},
   "outputs": [],
   "source": [
    "companies = [x.text.strip() for x in attendee_soup.find_all(name='div', attrs={'data-cvent-id':'attendee-list-item-company'})]"
   ]
  },
  {
   "cell_type": "code",
   "execution_count": 20,
   "id": "skilled-madison",
   "metadata": {},
   "outputs": [
    {
     "data": {
      "text/plain": [
       "['Weber State University',\n",
       " 'St. Bonaventure University',\n",
       " 'UT Austin',\n",
       " 'The Chinese University of Hong Kong',\n",
       " 'The University of Alabama',\n",
       " 'Park University',\n",
       " 'Penn State New Kensington',\n",
       " 'Oakland University',\n",
       " 'Syracuse University',\n",
       " 'University of Kentucky']"
      ]
     },
     "execution_count": 20,
     "metadata": {},
     "output_type": "execute_result"
    }
   ],
   "source": [
    "companies[0:10]"
   ]
  },
  {
   "cell_type": "code",
   "execution_count": 21,
   "id": "russian-soccer",
   "metadata": {},
   "outputs": [
    {
     "data": {
      "text/plain": [
       "1966"
      ]
     },
     "execution_count": 21,
     "metadata": {},
     "output_type": "execute_result"
    }
   ],
   "source": [
    "len(names)"
   ]
  },
  {
   "cell_type": "code",
   "execution_count": 22,
   "id": "smooth-plaintiff",
   "metadata": {},
   "outputs": [
    {
     "data": {
      "text/plain": [
       "1966"
      ]
     },
     "execution_count": 22,
     "metadata": {},
     "output_type": "execute_result"
    }
   ],
   "source": [
    "len(companies)"
   ]
  },
  {
   "cell_type": "code",
   "execution_count": 30,
   "id": "excellent-balance",
   "metadata": {},
   "outputs": [],
   "source": [
    "at_df = pd.DataFrame({'name': names, 'first': firsts, 'last': lasts, 'university': companies})"
   ]
  },
  {
   "cell_type": "code",
   "execution_count": 31,
   "id": "worth-coast",
   "metadata": {},
   "outputs": [
    {
     "data": {
      "text/html": [
       "<div>\n",
       "<style scoped>\n",
       "    .dataframe tbody tr th:only-of-type {\n",
       "        vertical-align: middle;\n",
       "    }\n",
       "\n",
       "    .dataframe tbody tr th {\n",
       "        vertical-align: top;\n",
       "    }\n",
       "\n",
       "    .dataframe thead th {\n",
       "        text-align: right;\n",
       "    }\n",
       "</style>\n",
       "<table border=\"1\" class=\"dataframe\">\n",
       "  <thead>\n",
       "    <tr style=\"text-align: right;\">\n",
       "      <th></th>\n",
       "      <th>name</th>\n",
       "      <th>first</th>\n",
       "      <th>last</th>\n",
       "      <th>university</th>\n",
       "    </tr>\n",
       "  </thead>\n",
       "  <tbody>\n",
       "    <tr>\n",
       "      <th>0</th>\n",
       "      <td>Aaron Atkins</td>\n",
       "      <td>Aaron</td>\n",
       "      <td>Atkins</td>\n",
       "      <td>Weber State University</td>\n",
       "    </tr>\n",
       "    <tr>\n",
       "      <th>1</th>\n",
       "      <td>Aaron Chimbel</td>\n",
       "      <td>Aaron</td>\n",
       "      <td>Chimbel</td>\n",
       "      <td>St. Bonaventure University</td>\n",
       "    </tr>\n",
       "    <tr>\n",
       "      <th>2</th>\n",
       "      <td>Abby Hendricks</td>\n",
       "      <td>Abby</td>\n",
       "      <td>Hendricks</td>\n",
       "      <td>UT Austin</td>\n",
       "    </tr>\n",
       "    <tr>\n",
       "      <th>3</th>\n",
       "      <td>Abdul Wahab Gibrilu</td>\n",
       "      <td>Abdul</td>\n",
       "      <td>Gibrilu</td>\n",
       "      <td>The Chinese University of Hong Kong</td>\n",
       "    </tr>\n",
       "    <tr>\n",
       "      <th>4</th>\n",
       "      <td>Abdulaziz Alowais</td>\n",
       "      <td>Abdulaziz</td>\n",
       "      <td>Alowais</td>\n",
       "      <td>The University of Alabama</td>\n",
       "    </tr>\n",
       "    <tr>\n",
       "      <th>...</th>\n",
       "      <td>...</td>\n",
       "      <td>...</td>\n",
       "      <td>...</td>\n",
       "      <td>...</td>\n",
       "    </tr>\n",
       "    <tr>\n",
       "      <th>1961</th>\n",
       "      <td>Zhuling Liu</td>\n",
       "      <td>Zhuling</td>\n",
       "      <td>Liu</td>\n",
       "      <td>University at Buffalo</td>\n",
       "    </tr>\n",
       "    <tr>\n",
       "      <th>1962</th>\n",
       "      <td>Zifei Chen</td>\n",
       "      <td>Zifei</td>\n",
       "      <td>Chen</td>\n",
       "      <td>University of San Francisco</td>\n",
       "    </tr>\n",
       "    <tr>\n",
       "      <th>1963</th>\n",
       "      <td>Ziwei Zhang</td>\n",
       "      <td>Ziwei</td>\n",
       "      <td>Zhang</td>\n",
       "      <td>The Chinese University of Hong Kong</td>\n",
       "    </tr>\n",
       "    <tr>\n",
       "      <th>1964</th>\n",
       "      <td>ZIYANG GONG</td>\n",
       "      <td>ZIYANG</td>\n",
       "      <td>GONG</td>\n",
       "      <td>University of Illinois at Urbana-Champaign</td>\n",
       "    </tr>\n",
       "    <tr>\n",
       "      <th>1965</th>\n",
       "      <td>Ziyuan Zhou</td>\n",
       "      <td>Ziyuan</td>\n",
       "      <td>Zhou</td>\n",
       "      <td>Bentley University</td>\n",
       "    </tr>\n",
       "  </tbody>\n",
       "</table>\n",
       "<p>1966 rows × 4 columns</p>\n",
       "</div>"
      ],
      "text/plain": [
       "                     name      first       last  \\\n",
       "0            Aaron Atkins      Aaron     Atkins   \n",
       "1           Aaron Chimbel      Aaron    Chimbel   \n",
       "2          Abby Hendricks       Abby  Hendricks   \n",
       "3     Abdul Wahab Gibrilu      Abdul    Gibrilu   \n",
       "4       Abdulaziz Alowais  Abdulaziz    Alowais   \n",
       "...                   ...        ...        ...   \n",
       "1961          Zhuling Liu    Zhuling        Liu   \n",
       "1962           Zifei Chen      Zifei       Chen   \n",
       "1963          Ziwei Zhang      Ziwei      Zhang   \n",
       "1964          ZIYANG GONG     ZIYANG       GONG   \n",
       "1965          Ziyuan Zhou     Ziyuan       Zhou   \n",
       "\n",
       "                                      university  \n",
       "0                         Weber State University  \n",
       "1                     St. Bonaventure University  \n",
       "2                                      UT Austin  \n",
       "3            The Chinese University of Hong Kong  \n",
       "4                      The University of Alabama  \n",
       "...                                          ...  \n",
       "1961                       University at Buffalo  \n",
       "1962                 University of San Francisco  \n",
       "1963         The Chinese University of Hong Kong  \n",
       "1964  University of Illinois at Urbana-Champaign  \n",
       "1965                          Bentley University  \n",
       "\n",
       "[1966 rows x 4 columns]"
      ]
     },
     "execution_count": 31,
     "metadata": {},
     "output_type": "execute_result"
    }
   ],
   "source": [
    "at_df"
   ]
  },
  {
   "cell_type": "code",
   "execution_count": 32,
   "id": "severe-frank",
   "metadata": {},
   "outputs": [
    {
     "data": {
      "text/plain": [
       "David        20\n",
       "John         19\n",
       "Michael      17\n",
       "Jennifer     15\n",
       "Brian        11\n",
       "             ..\n",
       "Dzmitry       1\n",
       "Martha        1\n",
       "Frankline     1\n",
       "Indah         1\n",
       "Gisele        1\n",
       "Name: first, Length: 1291, dtype: int64"
      ]
     },
     "execution_count": 32,
     "metadata": {},
     "output_type": "execute_result"
    }
   ],
   "source": [
    "at_df['first'].value_counts()"
   ]
  },
  {
   "cell_type": "code",
   "execution_count": 60,
   "id": "funded-reading",
   "metadata": {},
   "outputs": [],
   "source": [
    "first_counts = at_df['first'].value_counts()"
   ]
  },
  {
   "cell_type": "code",
   "execution_count": 94,
   "id": "mineral-listing",
   "metadata": {},
   "outputs": [],
   "source": [
    "top_firsts = first_counts.loc[first_counts > 5]"
   ]
  },
  {
   "cell_type": "code",
   "execution_count": 95,
   "id": "neither-remains",
   "metadata": {},
   "outputs": [
    {
     "data": {
      "image/png": "[encoded data removed]",
      "text/plain": [
       "<Figure size 1080x720 with 1 Axes>"
      ]
     },
     "metadata": {
      "needs_background": "light"
     },
     "output_type": "display_data"
    }
   ],
   "source": [
    "top_firsts_df = pd.DataFrame({'Names':top_firsts.index, 'Count':top_firsts})\n",
    "ax = top_firsts_df.plot.bar(x='Names', y='Count', rot=75, figsize=(15,10))"
   ]
  },
  {
   "cell_type": "code",
   "execution_count": 55,
   "id": "increasing-rapid",
   "metadata": {},
   "outputs": [
    {
     "data": {
      "text/plain": [
       "Donna Halper       2\n",
       "Amara Aguilar      2\n",
       "Angeline Taylor    2\n",
       "David Dowling      2\n",
       "Shafiqur Rahman    2\n",
       "                  ..\n",
       "Carlina DiRusso    1\n",
       "Naeemah Clark      1\n",
       "milan ismangil     1\n",
       "Edmund Lee         1\n",
       "Pam Parry          1\n",
       "Name: name, Length: 1956, dtype: int64"
      ]
     },
     "execution_count": 55,
     "metadata": {},
     "output_type": "execute_result"
    }
   ],
   "source": [
    "at_df['name'].value_counts()"
   ]
  },
  {
   "cell_type": "code",
   "execution_count": 56,
   "id": "violent-powder",
   "metadata": {},
   "outputs": [
    {
     "data": {
      "text/plain": [
       "False"
      ]
     },
     "execution_count": 56,
     "metadata": {},
     "output_type": "execute_result"
    }
   ],
   "source": [
    "at_df['name'].value_counts() > 1"
   ]
  },
  {
   "cell_type": "code",
   "execution_count": 49,
   "id": "muslim-sarah",
   "metadata": {},
   "outputs": [
    {
     "data": {
      "text/html": [
       "<div>\n",
       "<style scoped>\n",
       "    .dataframe tbody tr th:only-of-type {\n",
       "        vertical-align: middle;\n",
       "    }\n",
       "\n",
       "    .dataframe tbody tr th {\n",
       "        vertical-align: top;\n",
       "    }\n",
       "\n",
       "    .dataframe thead th {\n",
       "        text-align: right;\n",
       "    }\n",
       "</style>\n",
       "<table border=\"1\" class=\"dataframe\">\n",
       "  <thead>\n",
       "    <tr style=\"text-align: right;\">\n",
       "      <th></th>\n",
       "      <th>name</th>\n",
       "      <th>first</th>\n",
       "      <th>last</th>\n",
       "      <th>university</th>\n",
       "      <th>lower_uni</th>\n",
       "    </tr>\n",
       "  </thead>\n",
       "  <tbody>\n",
       "    <tr>\n",
       "      <th>428</th>\n",
       "      <td>Donna Halper</td>\n",
       "      <td>Donna</td>\n",
       "      <td>Halper</td>\n",
       "      <td>Lesley University</td>\n",
       "      <td>lesley university</td>\n",
       "    </tr>\n",
       "    <tr>\n",
       "      <th>429</th>\n",
       "      <td>Donna Halper</td>\n",
       "      <td>Donna</td>\n",
       "      <td>Halper</td>\n",
       "      <td>Lesley University, Cambridge MA</td>\n",
       "      <td>lesley university, cambridge ma</td>\n",
       "    </tr>\n",
       "  </tbody>\n",
       "</table>\n",
       "</div>"
      ],
      "text/plain": [
       "             name  first    last                       university  \\\n",
       "428  Donna Halper  Donna  Halper                Lesley University   \n",
       "429  Donna Halper  Donna  Halper  Lesley University, Cambridge MA   \n",
       "\n",
       "                           lower_uni  \n",
       "428                lesley university  \n",
       "429  lesley university, cambridge ma  "
      ]
     },
     "execution_count": 49,
     "metadata": {},
     "output_type": "execute_result"
    }
   ],
   "source": [
    "at_df[at_df['name'] == 'Donna Halper']"
   ]
  },
  {
   "cell_type": "code",
   "execution_count": 50,
   "id": "grateful-duration",
   "metadata": {},
   "outputs": [
    {
     "data": {
      "text/html": [
       "<div>\n",
       "<style scoped>\n",
       "    .dataframe tbody tr th:only-of-type {\n",
       "        vertical-align: middle;\n",
       "    }\n",
       "\n",
       "    .dataframe tbody tr th {\n",
       "        vertical-align: top;\n",
       "    }\n",
       "\n",
       "    .dataframe thead th {\n",
       "        text-align: right;\n",
       "    }\n",
       "</style>\n",
       "<table border=\"1\" class=\"dataframe\">\n",
       "  <thead>\n",
       "    <tr style=\"text-align: right;\">\n",
       "      <th></th>\n",
       "      <th>name</th>\n",
       "      <th>first</th>\n",
       "      <th>last</th>\n",
       "      <th>university</th>\n",
       "      <th>lower_uni</th>\n",
       "    </tr>\n",
       "  </thead>\n",
       "  <tbody>\n",
       "    <tr>\n",
       "      <th>63</th>\n",
       "      <td>Amara Aguilar</td>\n",
       "      <td>Amara</td>\n",
       "      <td>Aguilar</td>\n",
       "      <td>University of Southern Caliifornia</td>\n",
       "      <td>university of southern caliifornia</td>\n",
       "    </tr>\n",
       "    <tr>\n",
       "      <th>64</th>\n",
       "      <td>Amara Aguilar</td>\n",
       "      <td>Amara</td>\n",
       "      <td>Aguilar</td>\n",
       "      <td>University of Southern Caliifornia</td>\n",
       "      <td>university of southern caliifornia</td>\n",
       "    </tr>\n",
       "  </tbody>\n",
       "</table>\n",
       "</div>"
      ],
      "text/plain": [
       "             name  first     last                          university  \\\n",
       "63  Amara Aguilar  Amara  Aguilar  University of Southern Caliifornia   \n",
       "64  Amara Aguilar  Amara  Aguilar  University of Southern Caliifornia   \n",
       "\n",
       "                             lower_uni  \n",
       "63  university of southern caliifornia  \n",
       "64  university of southern caliifornia  "
      ]
     },
     "execution_count": 50,
     "metadata": {},
     "output_type": "execute_result"
    }
   ],
   "source": [
    "at_df[at_df['name'] == 'Amara Aguilar']"
   ]
  },
  {
   "cell_type": "code",
   "execution_count": 34,
   "id": "qualified-enlargement",
   "metadata": {},
   "outputs": [
    {
     "data": {
      "text/plain": [
       "Lee              29\n",
       "Kim              29\n",
       "Yang             17\n",
       "Zhang            17\n",
       "Wang             14\n",
       "                 ..\n",
       "Himelboim         1\n",
       "Glasser           1\n",
       "Stephenson        1\n",
       "Scheinfeld        1\n",
       "Mudiyanselage     1\n",
       "Name: last, Length: 1534, dtype: int64"
      ]
     },
     "execution_count": 34,
     "metadata": {},
     "output_type": "execute_result"
    }
   ],
   "source": [
    "at_df['last'].value_counts()"
   ]
  },
  {
   "cell_type": "code",
   "execution_count": 58,
   "id": "afraid-summary",
   "metadata": {},
   "outputs": [
    {
     "data": {
      "text/plain": [
       "University of Florida                           50\n",
       "University of Maryland                          31\n",
       "University of South Carolina                    29\n",
       "Michigan State University                       27\n",
       "Syracuse University                             25\n",
       "                                                ..\n",
       "doctoral student, Ohio University                1\n",
       "University Of NEW Mexico                         1\n",
       "school of communication, Shenzhen University     1\n",
       "Assistant Professor, Syracuse University         1\n",
       "Research Associate, Cardiff University           1\n",
       "Name: university, Length: 905, dtype: int64"
      ]
     },
     "execution_count": 58,
     "metadata": {},
     "output_type": "execute_result"
    }
   ],
   "source": [
    "at_df['university'].value_counts()"
   ]
  },
  {
   "cell_type": "code",
   "execution_count": 101,
   "id": "public-carolina",
   "metadata": {},
   "outputs": [],
   "source": [
    "uni_counts = at_df['university'].value_counts()\n",
    "top_unis = uni_counts.loc[uni_counts > 13]"
   ]
  },
  {
   "cell_type": "code",
   "execution_count": 102,
   "id": "bound-vancouver",
   "metadata": {},
   "outputs": [
    {
     "data": {
      "image/png": "[encoded data removed]",
      "text/plain": [
       "<Figure size 1080x720 with 1 Axes>"
      ]
     },
     "metadata": {
      "needs_background": "light"
     },
     "output_type": "display_data"
    }
   ],
   "source": [
    "top_uni_df = pd.DataFrame({'Universities':top_unis.index, 'Count':top_unis})\n",
    "ax = top_uni_df.plot.bar(x='Universities', y='Count', rot=75, figsize=(15,10))"
   ]
  },
  {
   "cell_type": "code",
   "execution_count": 38,
   "id": "comprehensive-salem",
   "metadata": {},
   "outputs": [
    {
     "data": {
      "text/plain": [
       "PhD Student, School of Journalism and Media (UT Austin)                                   1\n",
       "BYU                                                                                       1\n",
       "Doha Institute for Graduate Studies                                                       1\n",
       "University of Florida College of Journalism and Communications                            1\n",
       "The University of Texas                                                                   1\n",
       "Interim Executive Director/ Conference Manager, AEJMC                                     1\n",
       "Mediaplus Consultancy                                                                     1\n",
       "Winthrop University                                                                       1\n",
       "Christopher T. Assaf                                                                      1\n",
       "University of Baltimore School of Law                                                     1\n",
       "Syracuse U                                                                                1\n",
       "Craig Newmark Graduate School of Journalism at CUNY                                       1\n",
       "Department of Environmental Science & Policy, George Mason University                     1\n",
       "George Washington University                                                              1\n",
       "SC DHEC                                                                                   1\n",
       "Ivane Javakhishvili Tbilisi State University (TSU)                                        1\n",
       "U of Colorado-Boulder                                                                     1\n",
       "Associate Professor; Director, Institute for International Journalism, Ohio University    1\n",
       "University of Missori                                                                     1\n",
       "Loyola University                                                                         1\n",
       "Azusa Pacific University                                                                  1\n",
       "Lesley University                                                                         1\n",
       "Huntsman Cancer Institute, University of Utah                                             1\n",
       "University of iowa                                                                        1\n",
       "AEJMC                                                                                     1\n",
       "Retired                                                                                   1\n",
       "Darden School of Business, University of Virginia                                         1\n",
       "Nancy Green & Associates                                                                  1\n",
       "Eastern Illinois University                                                               1\n",
       "Auburn University at Montgomery                                                           1\n",
       "Assistant Professor, Shippensburg University                                              1\n",
       "UW-Eau Claire (emeritus)                                                                  1\n",
       "Carleton University                                                                       1\n",
       "The Chinese Unversity of Hong Kong                                                        1\n",
       "School of Media and Communication，Shanghai Jiao Tong University                           1\n",
       "Medill School of Journalism, Northwestern University                                      1\n",
       "Associate Professor and Chair, Digital Media and Journalism, SUNY New Paltz               1\n",
       "School of Journalism and Communication/Chinese University of Hong Kong                    1\n",
       "Mercer University                                                                         1\n",
       "Messiah University                                                                        1\n",
       "New York Institute of Technology                                                          1\n",
       "Associate Professor, Temple University                                                    1\n",
       "Marquette University (professor emeritus)                                                 1\n",
       "Loyola University New Orleans                                                             1\n",
       "UofSC                                                                                     1\n",
       "doctoral student, Ohio University                                                         1\n",
       "University Of NEW Mexico                                                                  1\n",
       "school of communication, Shenzhen University                                              1\n",
       "Assistant Professor, Syracuse University                                                  1\n",
       "Name: university, dtype: int64"
      ]
     },
     "execution_count": 38,
     "metadata": {},
     "output_type": "execute_result"
    }
   ],
   "source": [
    "at_df['university'].value_counts()[-50:-1]"
   ]
  },
  {
   "cell_type": "code",
   "execution_count": 42,
   "id": "global-clearing",
   "metadata": {},
   "outputs": [],
   "source": [
    "at_df['lower_uni'] = [x.lower() for x in at_df['university']]"
   ]
  },
  {
   "cell_type": "code",
   "execution_count": 44,
   "id": "monthly-equilibrium",
   "metadata": {},
   "outputs": [],
   "source": [
    "uni_freqs = at_df['lower_uni'].value_counts()"
   ]
  },
  {
   "cell_type": "code",
   "execution_count": 47,
   "id": "twelve-calvin",
   "metadata": {},
   "outputs": [
    {
     "data": {
      "text/plain": [
       "museum of public relations                                               1\n",
       "g d goenka university                                                    1\n",
       "iium                                                                     1\n",
       "rider university                                                         1\n",
       "univeresity of tennessee, knoxville                                      1\n",
       "school of journalism and mass communication                              1\n",
       "joan ganz cooney center at sesame workshop                               1\n",
       "school of journalism, the university of arizona                          1\n",
       "penn state beaver                                                        1\n",
       "graduate school of journalism, university of california, berkeley usa    1\n",
       "austonia                                                                 1\n",
       "school of journalism and communication, the chinese u of hong kong       1\n",
       "uw-eau claire (emeritus)                                                 1\n",
       "washington and lee university                                            1\n",
       "american university in cairo                                             1\n",
       "ku leuven                                                                1\n",
       "st. bonaventure university                                               1\n",
       "cha university                                                           1\n",
       "university of pittsburgh                                                 1\n",
       "westfield state university                                               1\n",
       "ryerson university                                                       1\n",
       "harding university                                                       1\n",
       "dart center for trauma and journalism/ university of tulsa               1\n",
       "university of missouri - st. louis                                       1\n",
       "thammasat university                                                     1\n",
       "colorado mesa university                                                 1\n",
       "california state university - northridge                                 1\n",
       "north dakota state university                                            1\n",
       "georgetown university                                                    1\n",
       "morningside university                                                   1\n",
       "university of texas at el paso                                           1\n",
       "unc hussman school of journalism                                         1\n",
       "s. i. newhouse school of public communications, syracuse university      1\n",
       "usc                                                                      1\n",
       "university of illinois springfield                                       1\n",
       "hsjmc university of minnesota                                            1\n",
       "disney                                                                   1\n",
       "university of missouri-kansas city                                       1\n",
       "suffolk university                                                       1\n",
       "auburn university school of communication and journalism                 1\n",
       "university of indiana bloomington                                        1\n",
       "zhejiang university                                                      1\n",
       "eastern connecticut state university                                     1\n",
       "angelo state university                                                  1\n",
       "roger williams university                                                1\n",
       "drexel universty                                                         1\n",
       "wxlv abc 45 news                                                         1\n",
       "the washington post                                                      1\n",
       "california polytechnic state university in san luis obispo               1\n",
       "regis university                                                         1\n",
       "Name: lower_uni, dtype: int64"
      ]
     },
     "execution_count": 47,
     "metadata": {},
     "output_type": "execute_result"
    }
   ],
   "source": [
    "uni_freqs.tail(50)"
   ]
  }
 ],
 "metadata": {
  "kernelspec": {
   "display_name": "Python 3",
   "language": "python",
   "name": "python3"
  },
  "language_info": {
   "codemirror_mode": {
    "name": "ipython",
    "version": 3
   },
   "file_extension": ".py",
   "mimetype": "text/x-python",
   "name": "python",
   "nbconvert_exporter": "python",
   "pygments_lexer": "ipython3",
   "version": "3.9.2"
  }
 },
 "nbformat": 4,
 "nbformat_minor": 5
}
