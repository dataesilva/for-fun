{
 "cells": [
  {
   "cell_type": "code",
   "execution_count": 1,
   "id": "6b04eaba",
   "metadata": {},
   "outputs": [
    {
     "name": "stdout",
     "output_type": "stream",
     "text": [
      " Volume in drive C is Windows\n",
      " Volume Serial Number is 16D9-A643\n",
      "\n",
      " Directory of C:\\Users\\dsilva2\\AOC-Twitch\n",
      "\n",
      "10/21/2021  11:27 AM    <DIR>          .\n",
      "10/21/2021  11:27 AM    <DIR>          ..\n",
      "09/22/2021  08:34 AM    <DIR>          .ipynb_checkpoints\n",
      "09/22/2021  08:30 AM       121,985,825 [10-20-20] AOC - .json\n",
      "10/21/2021  11:27 AM           421,222 AOC-Twitch-analysis.ipynb\n",
      "               2 File(s)    122,407,047 bytes\n",
      "               3 Dir(s)  268,770,590,720 bytes free\n"
     ]
    }
   ],
   "source": [
    "ls"
   ]
  },
  {
   "cell_type": "code",
   "execution_count": 2,
   "id": "7372698c",
   "metadata": {},
   "outputs": [],
   "source": [
    "import json\n",
    "import pandas as pd"
   ]
  },
  {
   "cell_type": "code",
   "execution_count": 3,
   "id": "6f4e48cd",
   "metadata": {},
   "outputs": [],
   "source": [
    "with open('[10-20-20] AOC - .json', encoding = 'utf-8') as a:\n",
    "    chat_raw = json.load(a)"
   ]
  },
  {
   "cell_type": "code",
   "execution_count": null,
   "id": "d42ee5e1",
   "metadata": {},
   "outputs": [],
   "source": [
    "chat_raw"
   ]
  },
  {
   "cell_type": "code",
   "execution_count": 5,
   "id": "a2406942",
   "metadata": {},
   "outputs": [
    {
     "data": {
      "text/plain": [
       "dict_keys(['streamer', 'comments', 'video', 'emotes'])"
      ]
     },
     "execution_count": 5,
     "metadata": {},
     "output_type": "execute_result"
    }
   ],
   "source": [
    "chat_raw.keys()"
   ]
  },
  {
   "cell_type": "code",
   "execution_count": 6,
   "id": "a593c3b1",
   "metadata": {},
   "outputs": [
    {
     "data": {
      "text/plain": [
       "{'name': 'AOC', 'id': 502865545}"
      ]
     },
     "execution_count": 6,
     "metadata": {},
     "output_type": "execute_result"
    }
   ],
   "source": [
    "chat_raw['streamer']"
   ]
  },
  {
   "cell_type": "code",
   "execution_count": 7,
   "id": "4ef33ecb",
   "metadata": {},
   "outputs": [
    {
     "data": {
      "text/plain": [
       "{'start': 0.0, 'end': 12660.0}"
      ]
     },
     "execution_count": 7,
     "metadata": {},
     "output_type": "execute_result"
    }
   ],
   "source": [
    "chat_raw['video']"
   ]
  },
  {
   "cell_type": "code",
   "execution_count": 8,
   "id": "b4b80514",
   "metadata": {},
   "outputs": [
    {
     "data": {
      "text/plain": [
       "dict_keys(['thirdParty', 'firstParty'])"
      ]
     },
     "execution_count": 8,
     "metadata": {},
     "output_type": "execute_result"
    }
   ],
   "source": [
    "chat_raw['emotes'].keys()"
   ]
  },
  {
   "cell_type": "code",
   "execution_count": 9,
   "id": "b031fb99",
   "metadata": {},
   "outputs": [
    {
     "data": {
      "text/plain": [
       "{'id': '54fa8f1401e468494b85b537',\n",
       " 'imageScale': 2,\n",
       " 'data': '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',\n",
       " 'name': ':tf:'}"
      ]
     },
     "execution_count": 9,
     "metadata": {},
     "output_type": "execute_result"
    }
   ],
   "source": [
    "chat_raw['emotes']['thirdParty'][0]"
   ]
  },
  {
   "cell_type": "markdown",
   "id": "9152bda6",
   "metadata": {},
   "source": [
    "These thirdParty emotes have a `name` key which could be passed to something like [twitchquotes.com](https://www.twitchquotes.com/emoticons/) in the format `/custom-:tf:` or `twitch-:(` for example. I'm not sure what determined if it's a custom or twitch emote."
   ]
  },
  {
   "cell_type": "code",
   "execution_count": 10,
   "id": "fae5e9e0",
   "metadata": {},
   "outputs": [
    {
     "data": {
      "text/plain": [
       "{'id': '302819242',\n",
       " 'imageScale': 1,\n",
       " 'data': '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'}"
      ]
     },
     "execution_count": 10,
     "metadata": {},
     "output_type": "execute_result"
    }
   ],
   "source": [
    "chat_raw['emotes']['firstParty'][0]"
   ]
  },
  {
   "cell_type": "markdown",
   "id": "42f86726",
   "metadata": {},
   "source": [
    "May need to use the [Twitch emote API](https://dev.twitch.tv/docs/api/reference#get-global-emotes) to figure out what these emotes are. <br>\n",
    "Or, can decode the `data` key to an image, but have not yet tested."
   ]
  },
  {
   "cell_type": "code",
   "execution_count": 11,
   "id": "0b8ab326",
   "metadata": {},
   "outputs": [
    {
     "data": {
      "text/plain": [
       "dict_keys(['_id', 'created_at', 'updated_at', 'channel_id', 'content_type', 'content_id', 'content_offset_seconds', 'commenter', 'source', 'state', 'message', 'more_replies'])"
      ]
     },
     "execution_count": 11,
     "metadata": {},
     "output_type": "execute_result"
    }
   ],
   "source": [
    "chat_raw['comments'][0].keys()"
   ]
  },
  {
   "cell_type": "code",
   "execution_count": 12,
   "id": "db0dae02",
   "metadata": {},
   "outputs": [
    {
     "data": {
      "text/plain": [
       "110821"
      ]
     },
     "execution_count": 12,
     "metadata": {},
     "output_type": "execute_result"
    }
   ],
   "source": [
    "len(chat_raw['comments'])"
   ]
  },
  {
   "cell_type": "code",
   "execution_count": 13,
   "id": "3e4fa1ef",
   "metadata": {},
   "outputs": [
    {
     "data": {
      "text/plain": [
       "{'_id': 'd9d97398-54d1-42c4-8e93-67ea4ba4a038',\n",
       " 'created_at': '2020-10-21T00:33:27.758Z',\n",
       " 'updated_at': '2020-10-21T00:33:27.758Z',\n",
       " 'channel_id': '502865545',\n",
       " 'content_type': 'video',\n",
       " 'content_id': '776770697',\n",
       " 'content_offset_seconds': 6.058,\n",
       " 'commenter': {'display_name': 'Mang0king',\n",
       "  '_id': '61584527',\n",
       "  'name': 'mang0king',\n",
       "  'type': 'user',\n",
       "  'bio': None,\n",
       "  'created_at': '2014-04-25T15:14:37.010777Z',\n",
       "  'updated_at': '2021-01-29T02:25:14.486051Z',\n",
       "  'logo': 'https://static-cdn.jtvnw.net/user-default-pictures-uv/41780b5a-def8-11e9-94d9-784f43822e80-profile_image-300x300.png'},\n",
       " 'source': 'chat',\n",
       " 'state': 'published',\n",
       " 'message': {'body': 'zyoriPride zyoriPride zyoriPride zyoriPride',\n",
       "  'bits_spent': 0,\n",
       "  'fragments': [{'text': 'zyoriPride',\n",
       "    'emoticon': {'emoticon_id': '302819242', 'emoticon_set_id': ''}},\n",
       "   {'text': ' ', 'emoticon': None},\n",
       "   {'text': 'zyoriPride',\n",
       "    'emoticon': {'emoticon_id': '302819242', 'emoticon_set_id': ''}},\n",
       "   {'text': ' ', 'emoticon': None},\n",
       "   {'text': 'zyoriPride',\n",
       "    'emoticon': {'emoticon_id': '302819242', 'emoticon_set_id': ''}},\n",
       "   {'text': ' ', 'emoticon': None},\n",
       "   {'text': 'zyoriPride',\n",
       "    'emoticon': {'emoticon_id': '302819242', 'emoticon_set_id': ''}}],\n",
       "  'is_action': False,\n",
       "  'user_badges': [{'_id': 'premium', 'version': '1'}],\n",
       "  'user_color': None,\n",
       "  'user_notice_params': {'msg-id': None},\n",
       "  'emoticons': [{'_id': '302819242', 'begin': 0, 'end': 9},\n",
       "   {'_id': '302819242', 'begin': 11, 'end': 20},\n",
       "   {'_id': '302819242', 'begin': 22, 'end': 31},\n",
       "   {'_id': '302819242', 'begin': 33, 'end': 42}]},\n",
       " 'more_replies': False}"
      ]
     },
     "execution_count": 13,
     "metadata": {},
     "output_type": "execute_result"
    }
   ],
   "source": [
    "chat_raw['comments'][0]"
   ]
  },
  {
   "cell_type": "markdown",
   "id": "6611cb3b",
   "metadata": {},
   "source": [
    "Important data for research questions are probably,`_id`, `created_at`, `commenter` (but not all the keys), `state`, `message` (probably all keys), and unsure if `emoticons` is going to give anything different from the message fragments."
   ]
  },
  {
   "cell_type": "markdown",
   "id": "a4cf018d",
   "metadata": {},
   "source": [
    "Going to start by pulling each comment into a row of a DataFrame. Then will break out the commenter elements that are intersting. Will leave message cohesive for the moment."
   ]
  },
  {
   "cell_type": "code",
   "execution_count": 14,
   "id": "a6594405",
   "metadata": {},
   "outputs": [],
   "source": [
    "comments_df = pd.DataFrame(chat_raw['comments'])"
   ]
  },
  {
   "cell_type": "code",
   "execution_count": 15,
   "id": "2e606785",
   "metadata": {},
   "outputs": [
    {
     "data": {
      "text/html": [
       "<div>\n",
       "<style scoped>\n",
       "    .dataframe tbody tr th:only-of-type {\n",
       "        vertical-align: middle;\n",
       "    }\n",
       "\n",
       "    .dataframe tbody tr th {\n",
       "        vertical-align: top;\n",
       "    }\n",
       "\n",
       "    .dataframe thead th {\n",
       "        text-align: right;\n",
       "    }\n",
       "</style>\n",
       "<table border=\"1\" class=\"dataframe\">\n",
       "  <thead>\n",
       "    <tr style=\"text-align: right;\">\n",
       "      <th></th>\n",
       "      <th>_id</th>\n",
       "      <th>created_at</th>\n",
       "      <th>updated_at</th>\n",
       "      <th>channel_id</th>\n",
       "      <th>content_type</th>\n",
       "      <th>content_id</th>\n",
       "      <th>content_offset_seconds</th>\n",
       "      <th>commenter</th>\n",
       "      <th>source</th>\n",
       "      <th>state</th>\n",
       "      <th>message</th>\n",
       "      <th>more_replies</th>\n",
       "    </tr>\n",
       "  </thead>\n",
       "  <tbody>\n",
       "    <tr>\n",
       "      <th>0</th>\n",
       "      <td>d9d97398-54d1-42c4-8e93-67ea4ba4a038</td>\n",
       "      <td>2020-10-21T00:33:27.758Z</td>\n",
       "      <td>2020-10-21T00:33:27.758Z</td>\n",
       "      <td>502865545</td>\n",
       "      <td>video</td>\n",
       "      <td>776770697</td>\n",
       "      <td>6.058</td>\n",
       "      <td>{'display_name': 'Mang0king', '_id': '61584527...</td>\n",
       "      <td>chat</td>\n",
       "      <td>published</td>\n",
       "      <td>{'body': 'zyoriPride zyoriPride zyoriPride zyo...</td>\n",
       "      <td>False</td>\n",
       "    </tr>\n",
       "    <tr>\n",
       "      <th>1</th>\n",
       "      <td>3d8f5875-1d7f-405d-bad2-61df6ec6199e</td>\n",
       "      <td>2020-10-21T00:33:27.944Z</td>\n",
       "      <td>2020-10-21T00:33:27.944Z</td>\n",
       "      <td>502865545</td>\n",
       "      <td>video</td>\n",
       "      <td>776770697</td>\n",
       "      <td>6.244</td>\n",
       "      <td>{'display_name': 'BubbRubb4Real', '_id': '2058...</td>\n",
       "      <td>chat</td>\n",
       "      <td>published</td>\n",
       "      <td>{'body': 'shotoHood shotoHood shotoHood shotoH...</td>\n",
       "      <td>False</td>\n",
       "    </tr>\n",
       "    <tr>\n",
       "      <th>2</th>\n",
       "      <td>87d2d34e-8cc0-4529-87a9-9a59b12c48ef</td>\n",
       "      <td>2020-10-21T00:33:27.949Z</td>\n",
       "      <td>2020-10-21T00:33:27.949Z</td>\n",
       "      <td>502865545</td>\n",
       "      <td>video</td>\n",
       "      <td>776770697</td>\n",
       "      <td>6.249</td>\n",
       "      <td>{'display_name': 'EvanNumber7', '_id': '445507...</td>\n",
       "      <td>chat</td>\n",
       "      <td>published</td>\n",
       "      <td>{'body': 'xqcCheeto ORANGE SUS OMEGALUL', 'bit...</td>\n",
       "      <td>False</td>\n",
       "    </tr>\n",
       "    <tr>\n",
       "      <th>3</th>\n",
       "      <td>0c516b16-eb07-4390-907c-931fd537633b</td>\n",
       "      <td>2020-10-21T00:33:29.258Z</td>\n",
       "      <td>2020-10-21T00:33:29.258Z</td>\n",
       "      <td>502865545</td>\n",
       "      <td>video</td>\n",
       "      <td>776770697</td>\n",
       "      <td>7.558</td>\n",
       "      <td>{'display_name': 'via_asf', '_id': '552271934'...</td>\n",
       "      <td>chat</td>\n",
       "      <td>published</td>\n",
       "      <td>{'body': 'does anyone know who she’s playing w...</td>\n",
       "      <td>False</td>\n",
       "    </tr>\n",
       "    <tr>\n",
       "      <th>4</th>\n",
       "      <td>c02a123d-ee0f-4bf3-b31e-13757ebcabcc</td>\n",
       "      <td>2020-10-21T00:33:29.296Z</td>\n",
       "      <td>2020-10-21T00:33:29.296Z</td>\n",
       "      <td>502865545</td>\n",
       "      <td>video</td>\n",
       "      <td>776770697</td>\n",
       "      <td>7.596</td>\n",
       "      <td>{'display_name': 'alkappa_foundation', '_id': ...</td>\n",
       "      <td>chat</td>\n",
       "      <td>published</td>\n",
       "      <td>{'body': 'Kappa 👉 pokiW', 'bits_spent': 0, 'fr...</td>\n",
       "      <td>False</td>\n",
       "    </tr>\n",
       "  </tbody>\n",
       "</table>\n",
       "</div>"
      ],
      "text/plain": [
       "                                    _id                created_at  \\\n",
       "0  d9d97398-54d1-42c4-8e93-67ea4ba4a038  2020-10-21T00:33:27.758Z   \n",
       "1  3d8f5875-1d7f-405d-bad2-61df6ec6199e  2020-10-21T00:33:27.944Z   \n",
       "2  87d2d34e-8cc0-4529-87a9-9a59b12c48ef  2020-10-21T00:33:27.949Z   \n",
       "3  0c516b16-eb07-4390-907c-931fd537633b  2020-10-21T00:33:29.258Z   \n",
       "4  c02a123d-ee0f-4bf3-b31e-13757ebcabcc  2020-10-21T00:33:29.296Z   \n",
       "\n",
       "                 updated_at channel_id content_type content_id  \\\n",
       "0  2020-10-21T00:33:27.758Z  502865545        video  776770697   \n",
       "1  2020-10-21T00:33:27.944Z  502865545        video  776770697   \n",
       "2  2020-10-21T00:33:27.949Z  502865545        video  776770697   \n",
       "3  2020-10-21T00:33:29.258Z  502865545        video  776770697   \n",
       "4  2020-10-21T00:33:29.296Z  502865545        video  776770697   \n",
       "\n",
       "   content_offset_seconds                                          commenter  \\\n",
       "0                   6.058  {'display_name': 'Mang0king', '_id': '61584527...   \n",
       "1                   6.244  {'display_name': 'BubbRubb4Real', '_id': '2058...   \n",
       "2                   6.249  {'display_name': 'EvanNumber7', '_id': '445507...   \n",
       "3                   7.558  {'display_name': 'via_asf', '_id': '552271934'...   \n",
       "4                   7.596  {'display_name': 'alkappa_foundation', '_id': ...   \n",
       "\n",
       "  source      state                                            message  \\\n",
       "0   chat  published  {'body': 'zyoriPride zyoriPride zyoriPride zyo...   \n",
       "1   chat  published  {'body': 'shotoHood shotoHood shotoHood shotoH...   \n",
       "2   chat  published  {'body': 'xqcCheeto ORANGE SUS OMEGALUL', 'bit...   \n",
       "3   chat  published  {'body': 'does anyone know who she’s playing w...   \n",
       "4   chat  published  {'body': 'Kappa 👉 pokiW', 'bits_spent': 0, 'fr...   \n",
       "\n",
       "   more_replies  \n",
       "0         False  \n",
       "1         False  \n",
       "2         False  \n",
       "3         False  \n",
       "4         False  "
      ]
     },
     "execution_count": 15,
     "metadata": {},
     "output_type": "execute_result"
    }
   ],
   "source": [
    "comments_df.head()"
   ]
  },
  {
   "cell_type": "code",
   "execution_count": 16,
   "id": "19a96975",
   "metadata": {},
   "outputs": [
    {
     "data": {
      "text/plain": [
       "110821"
      ]
     },
     "execution_count": 16,
     "metadata": {},
     "output_type": "execute_result"
    }
   ],
   "source": [
    "len(comments_df.index)"
   ]
  },
  {
   "cell_type": "code",
   "execution_count": 17,
   "id": "ec68a499",
   "metadata": {},
   "outputs": [
    {
     "data": {
      "text/plain": [
       "'2020-10-21T00:33:27.758Z'"
      ]
     },
     "execution_count": 17,
     "metadata": {},
     "output_type": "execute_result"
    }
   ],
   "source": [
    "comments_df['created_at'].loc[0]"
   ]
  },
  {
   "cell_type": "markdown",
   "id": "6b6beab6",
   "metadata": {},
   "source": [
    "All times appear to be Zulu, so need to decide what timezone we want to discuss/report in."
   ]
  },
  {
   "cell_type": "code",
   "execution_count": 18,
   "id": "ea11adf6",
   "metadata": {},
   "outputs": [
    {
     "data": {
      "text/plain": [
       "str"
      ]
     },
     "execution_count": 18,
     "metadata": {},
     "output_type": "execute_result"
    }
   ],
   "source": [
    "type(comments_df['created_at'].loc[0])"
   ]
  },
  {
   "cell_type": "code",
   "execution_count": 19,
   "id": "5025cb52",
   "metadata": {},
   "outputs": [],
   "source": [
    "from datetime import datetime as dt"
   ]
  },
  {
   "cell_type": "code",
   "execution_count": 20,
   "id": "6b2b9415",
   "metadata": {},
   "outputs": [
    {
     "data": {
      "text/plain": [
       "datetime.datetime(2020, 10, 21, 0, 33, 27, 758000)"
      ]
     },
     "execution_count": 20,
     "metadata": {},
     "output_type": "execute_result"
    }
   ],
   "source": [
    "dt.strptime(comments_df['created_at'].loc[0], '%Y-%m-%dT%H:%M:%S.%fZ')"
   ]
  },
  {
   "cell_type": "code",
   "execution_count": 21,
   "id": "59810417",
   "metadata": {},
   "outputs": [],
   "source": [
    "from dateutil.parser import parse"
   ]
  },
  {
   "cell_type": "code",
   "execution_count": 22,
   "id": "717da802",
   "metadata": {},
   "outputs": [
    {
     "data": {
      "text/plain": [
       "datetime.datetime(2020, 10, 21, 0, 33, 27, 758000, tzinfo=tzutc())"
      ]
     },
     "execution_count": 22,
     "metadata": {},
     "output_type": "execute_result"
    }
   ],
   "source": [
    "parse(comments_df['created_at'].loc[0])"
   ]
  },
  {
   "cell_type": "code",
   "execution_count": 23,
   "id": "bfb33bdd",
   "metadata": {},
   "outputs": [],
   "source": [
    "comments_df['created_at_dt'] = [parse(x) for x in comments_df['created_at']]\n",
    "comments_df['updated_at_dt'] = [parse(x) for x in comments_df['updated_at']]"
   ]
  },
  {
   "cell_type": "code",
   "execution_count": 24,
   "id": "54cde49b",
   "metadata": {},
   "outputs": [
    {
     "data": {
      "text/html": [
       "<div>\n",
       "<style scoped>\n",
       "    .dataframe tbody tr th:only-of-type {\n",
       "        vertical-align: middle;\n",
       "    }\n",
       "\n",
       "    .dataframe tbody tr th {\n",
       "        vertical-align: top;\n",
       "    }\n",
       "\n",
       "    .dataframe thead th {\n",
       "        text-align: right;\n",
       "    }\n",
       "</style>\n",
       "<table border=\"1\" class=\"dataframe\">\n",
       "  <thead>\n",
       "    <tr style=\"text-align: right;\">\n",
       "      <th></th>\n",
       "      <th>_id</th>\n",
       "      <th>created_at</th>\n",
       "      <th>updated_at</th>\n",
       "      <th>channel_id</th>\n",
       "      <th>content_type</th>\n",
       "      <th>content_id</th>\n",
       "      <th>content_offset_seconds</th>\n",
       "      <th>commenter</th>\n",
       "      <th>source</th>\n",
       "      <th>state</th>\n",
       "      <th>message</th>\n",
       "      <th>more_replies</th>\n",
       "      <th>created_at_dt</th>\n",
       "      <th>updated_at_dt</th>\n",
       "    </tr>\n",
       "  </thead>\n",
       "  <tbody>\n",
       "    <tr>\n",
       "      <th>0</th>\n",
       "      <td>d9d97398-54d1-42c4-8e93-67ea4ba4a038</td>\n",
       "      <td>2020-10-21T00:33:27.758Z</td>\n",
       "      <td>2020-10-21T00:33:27.758Z</td>\n",
       "      <td>502865545</td>\n",
       "      <td>video</td>\n",
       "      <td>776770697</td>\n",
       "      <td>6.058</td>\n",
       "      <td>{'display_name': 'Mang0king', '_id': '61584527...</td>\n",
       "      <td>chat</td>\n",
       "      <td>published</td>\n",
       "      <td>{'body': 'zyoriPride zyoriPride zyoriPride zyo...</td>\n",
       "      <td>False</td>\n",
       "      <td>2020-10-21 00:33:27.758000+00:00</td>\n",
       "      <td>2020-10-21 00:33:27.758000+00:00</td>\n",
       "    </tr>\n",
       "    <tr>\n",
       "      <th>1</th>\n",
       "      <td>3d8f5875-1d7f-405d-bad2-61df6ec6199e</td>\n",
       "      <td>2020-10-21T00:33:27.944Z</td>\n",
       "      <td>2020-10-21T00:33:27.944Z</td>\n",
       "      <td>502865545</td>\n",
       "      <td>video</td>\n",
       "      <td>776770697</td>\n",
       "      <td>6.244</td>\n",
       "      <td>{'display_name': 'BubbRubb4Real', '_id': '2058...</td>\n",
       "      <td>chat</td>\n",
       "      <td>published</td>\n",
       "      <td>{'body': 'shotoHood shotoHood shotoHood shotoH...</td>\n",
       "      <td>False</td>\n",
       "      <td>2020-10-21 00:33:27.944000+00:00</td>\n",
       "      <td>2020-10-21 00:33:27.944000+00:00</td>\n",
       "    </tr>\n",
       "    <tr>\n",
       "      <th>2</th>\n",
       "      <td>87d2d34e-8cc0-4529-87a9-9a59b12c48ef</td>\n",
       "      <td>2020-10-21T00:33:27.949Z</td>\n",
       "      <td>2020-10-21T00:33:27.949Z</td>\n",
       "      <td>502865545</td>\n",
       "      <td>video</td>\n",
       "      <td>776770697</td>\n",
       "      <td>6.249</td>\n",
       "      <td>{'display_name': 'EvanNumber7', '_id': '445507...</td>\n",
       "      <td>chat</td>\n",
       "      <td>published</td>\n",
       "      <td>{'body': 'xqcCheeto ORANGE SUS OMEGALUL', 'bit...</td>\n",
       "      <td>False</td>\n",
       "      <td>2020-10-21 00:33:27.949000+00:00</td>\n",
       "      <td>2020-10-21 00:33:27.949000+00:00</td>\n",
       "    </tr>\n",
       "    <tr>\n",
       "      <th>3</th>\n",
       "      <td>0c516b16-eb07-4390-907c-931fd537633b</td>\n",
       "      <td>2020-10-21T00:33:29.258Z</td>\n",
       "      <td>2020-10-21T00:33:29.258Z</td>\n",
       "      <td>502865545</td>\n",
       "      <td>video</td>\n",
       "      <td>776770697</td>\n",
       "      <td>7.558</td>\n",
       "      <td>{'display_name': 'via_asf', '_id': '552271934'...</td>\n",
       "      <td>chat</td>\n",
       "      <td>published</td>\n",
       "      <td>{'body': 'does anyone know who she’s playing w...</td>\n",
       "      <td>False</td>\n",
       "      <td>2020-10-21 00:33:29.258000+00:00</td>\n",
       "      <td>2020-10-21 00:33:29.258000+00:00</td>\n",
       "    </tr>\n",
       "    <tr>\n",
       "      <th>4</th>\n",
       "      <td>c02a123d-ee0f-4bf3-b31e-13757ebcabcc</td>\n",
       "      <td>2020-10-21T00:33:29.296Z</td>\n",
       "      <td>2020-10-21T00:33:29.296Z</td>\n",
       "      <td>502865545</td>\n",
       "      <td>video</td>\n",
       "      <td>776770697</td>\n",
       "      <td>7.596</td>\n",
       "      <td>{'display_name': 'alkappa_foundation', '_id': ...</td>\n",
       "      <td>chat</td>\n",
       "      <td>published</td>\n",
       "      <td>{'body': 'Kappa 👉 pokiW', 'bits_spent': 0, 'fr...</td>\n",
       "      <td>False</td>\n",
       "      <td>2020-10-21 00:33:29.296000+00:00</td>\n",
       "      <td>2020-10-21 00:33:29.296000+00:00</td>\n",
       "    </tr>\n",
       "  </tbody>\n",
       "</table>\n",
       "</div>"
      ],
      "text/plain": [
       "                                    _id                created_at  \\\n",
       "0  d9d97398-54d1-42c4-8e93-67ea4ba4a038  2020-10-21T00:33:27.758Z   \n",
       "1  3d8f5875-1d7f-405d-bad2-61df6ec6199e  2020-10-21T00:33:27.944Z   \n",
       "2  87d2d34e-8cc0-4529-87a9-9a59b12c48ef  2020-10-21T00:33:27.949Z   \n",
       "3  0c516b16-eb07-4390-907c-931fd537633b  2020-10-21T00:33:29.258Z   \n",
       "4  c02a123d-ee0f-4bf3-b31e-13757ebcabcc  2020-10-21T00:33:29.296Z   \n",
       "\n",
       "                 updated_at channel_id content_type content_id  \\\n",
       "0  2020-10-21T00:33:27.758Z  502865545        video  776770697   \n",
       "1  2020-10-21T00:33:27.944Z  502865545        video  776770697   \n",
       "2  2020-10-21T00:33:27.949Z  502865545        video  776770697   \n",
       "3  2020-10-21T00:33:29.258Z  502865545        video  776770697   \n",
       "4  2020-10-21T00:33:29.296Z  502865545        video  776770697   \n",
       "\n",
       "   content_offset_seconds                                          commenter  \\\n",
       "0                   6.058  {'display_name': 'Mang0king', '_id': '61584527...   \n",
       "1                   6.244  {'display_name': 'BubbRubb4Real', '_id': '2058...   \n",
       "2                   6.249  {'display_name': 'EvanNumber7', '_id': '445507...   \n",
       "3                   7.558  {'display_name': 'via_asf', '_id': '552271934'...   \n",
       "4                   7.596  {'display_name': 'alkappa_foundation', '_id': ...   \n",
       "\n",
       "  source      state                                            message  \\\n",
       "0   chat  published  {'body': 'zyoriPride zyoriPride zyoriPride zyo...   \n",
       "1   chat  published  {'body': 'shotoHood shotoHood shotoHood shotoH...   \n",
       "2   chat  published  {'body': 'xqcCheeto ORANGE SUS OMEGALUL', 'bit...   \n",
       "3   chat  published  {'body': 'does anyone know who she’s playing w...   \n",
       "4   chat  published  {'body': 'Kappa 👉 pokiW', 'bits_spent': 0, 'fr...   \n",
       "\n",
       "   more_replies                    created_at_dt  \\\n",
       "0         False 2020-10-21 00:33:27.758000+00:00   \n",
       "1         False 2020-10-21 00:33:27.944000+00:00   \n",
       "2         False 2020-10-21 00:33:27.949000+00:00   \n",
       "3         False 2020-10-21 00:33:29.258000+00:00   \n",
       "4         False 2020-10-21 00:33:29.296000+00:00   \n",
       "\n",
       "                     updated_at_dt  \n",
       "0 2020-10-21 00:33:27.758000+00:00  \n",
       "1 2020-10-21 00:33:27.944000+00:00  \n",
       "2 2020-10-21 00:33:27.949000+00:00  \n",
       "3 2020-10-21 00:33:29.258000+00:00  \n",
       "4 2020-10-21 00:33:29.296000+00:00  "
      ]
     },
     "execution_count": 24,
     "metadata": {},
     "output_type": "execute_result"
    }
   ],
   "source": [
    "comments_df.head()"
   ]
  },
  {
   "cell_type": "code",
   "execution_count": 25,
   "id": "186dc15a",
   "metadata": {},
   "outputs": [
    {
     "data": {
      "text/plain": [
       "{'display_name': 'Mang0king',\n",
       " '_id': '61584527',\n",
       " 'name': 'mang0king',\n",
       " 'type': 'user',\n",
       " 'bio': None,\n",
       " 'created_at': '2014-04-25T15:14:37.010777Z',\n",
       " 'updated_at': '2021-01-29T02:25:14.486051Z',\n",
       " 'logo': 'https://static-cdn.jtvnw.net/user-default-pictures-uv/41780b5a-def8-11e9-94d9-784f43822e80-profile_image-300x300.png'}"
      ]
     },
     "execution_count": 25,
     "metadata": {},
     "output_type": "execute_result"
    }
   ],
   "source": [
    "comments_df['commenter'].loc[0]"
   ]
  },
  {
   "cell_type": "code",
   "execution_count": 26,
   "id": "aa3b5a3a",
   "metadata": {},
   "outputs": [],
   "source": [
    "commenters_list = list(comments_df['commenter'])"
   ]
  },
  {
   "cell_type": "code",
   "execution_count": 27,
   "id": "254d8bd9",
   "metadata": {},
   "outputs": [
    {
     "data": {
      "text/plain": [
       "{'display_name': 'Mang0king',\n",
       " '_id': '61584527',\n",
       " 'name': 'mang0king',\n",
       " 'type': 'user',\n",
       " 'bio': None,\n",
       " 'created_at': '2014-04-25T15:14:37.010777Z',\n",
       " 'updated_at': '2021-01-29T02:25:14.486051Z',\n",
       " 'logo': 'https://static-cdn.jtvnw.net/user-default-pictures-uv/41780b5a-def8-11e9-94d9-784f43822e80-profile_image-300x300.png'}"
      ]
     },
     "execution_count": 27,
     "metadata": {},
     "output_type": "execute_result"
    }
   ],
   "source": [
    "commenters_list[0]"
   ]
  },
  {
   "cell_type": "code",
   "execution_count": 28,
   "id": "b4001663",
   "metadata": {},
   "outputs": [],
   "source": [
    "commenters_df = pd.DataFrame(commenters_list)"
   ]
  },
  {
   "cell_type": "code",
   "execution_count": 29,
   "id": "f2607276",
   "metadata": {},
   "outputs": [
    {
     "data": {
      "text/html": [
       "<div>\n",
       "<style scoped>\n",
       "    .dataframe tbody tr th:only-of-type {\n",
       "        vertical-align: middle;\n",
       "    }\n",
       "\n",
       "    .dataframe tbody tr th {\n",
       "        vertical-align: top;\n",
       "    }\n",
       "\n",
       "    .dataframe thead th {\n",
       "        text-align: right;\n",
       "    }\n",
       "</style>\n",
       "<table border=\"1\" class=\"dataframe\">\n",
       "  <thead>\n",
       "    <tr style=\"text-align: right;\">\n",
       "      <th></th>\n",
       "      <th>display_name</th>\n",
       "      <th>_id</th>\n",
       "      <th>name</th>\n",
       "      <th>type</th>\n",
       "      <th>bio</th>\n",
       "      <th>created_at</th>\n",
       "      <th>updated_at</th>\n",
       "      <th>logo</th>\n",
       "    </tr>\n",
       "  </thead>\n",
       "  <tbody>\n",
       "    <tr>\n",
       "      <th>0</th>\n",
       "      <td>Mang0king</td>\n",
       "      <td>61584527</td>\n",
       "      <td>mang0king</td>\n",
       "      <td>user</td>\n",
       "      <td>None</td>\n",
       "      <td>2014-04-25T15:14:37.010777Z</td>\n",
       "      <td>2021-01-29T02:25:14.486051Z</td>\n",
       "      <td>https://static-cdn.jtvnw.net/user-default-pict...</td>\n",
       "    </tr>\n",
       "    <tr>\n",
       "      <th>1</th>\n",
       "      <td>BubbRubb4Real</td>\n",
       "      <td>20581752</td>\n",
       "      <td>bubbrubb4real</td>\n",
       "      <td>user</td>\n",
       "      <td>None</td>\n",
       "      <td>2011-02-19T22:50:48.077939Z</td>\n",
       "      <td>2021-01-31T02:06:15.878329Z</td>\n",
       "      <td>https://static-cdn.jtvnw.net/user-default-pict...</td>\n",
       "    </tr>\n",
       "    <tr>\n",
       "      <th>2</th>\n",
       "      <td>EvanNumber7</td>\n",
       "      <td>445507296</td>\n",
       "      <td>evannumber7</td>\n",
       "      <td>user</td>\n",
       "      <td>16 year old. watch me live, im live streaming,...</td>\n",
       "      <td>2019-07-02T22:38:47.411341Z</td>\n",
       "      <td>2021-02-08T02:56:39.781658Z</td>\n",
       "      <td>https://static-cdn.jtvnw.net/jtv_user_pictures...</td>\n",
       "    </tr>\n",
       "    <tr>\n",
       "      <th>3</th>\n",
       "      <td>via_asf</td>\n",
       "      <td>552271934</td>\n",
       "      <td>via_asf</td>\n",
       "      <td>user</td>\n",
       "      <td>ayo my name is via! pronouns are she/her :-)</td>\n",
       "      <td>2020-07-08T04:19:28.799721Z</td>\n",
       "      <td>2021-02-10T19:02:54.020372Z</td>\n",
       "      <td>https://static-cdn.jtvnw.net/jtv_user_pictures...</td>\n",
       "    </tr>\n",
       "    <tr>\n",
       "      <th>4</th>\n",
       "      <td>alkappa_foundation</td>\n",
       "      <td>71371005</td>\n",
       "      <td>alkappa_foundation</td>\n",
       "      <td>user</td>\n",
       "      <td>None</td>\n",
       "      <td>2014-09-16T22:48:24.531185Z</td>\n",
       "      <td>2021-02-10T00:47:20.519011Z</td>\n",
       "      <td>https://static-cdn.jtvnw.net/user-default-pict...</td>\n",
       "    </tr>\n",
       "  </tbody>\n",
       "</table>\n",
       "</div>"
      ],
      "text/plain": [
       "         display_name        _id                name  type  \\\n",
       "0           Mang0king   61584527           mang0king  user   \n",
       "1       BubbRubb4Real   20581752       bubbrubb4real  user   \n",
       "2         EvanNumber7  445507296         evannumber7  user   \n",
       "3             via_asf  552271934             via_asf  user   \n",
       "4  alkappa_foundation   71371005  alkappa_foundation  user   \n",
       "\n",
       "                                                 bio  \\\n",
       "0                                               None   \n",
       "1                                               None   \n",
       "2  16 year old. watch me live, im live streaming,...   \n",
       "3       ayo my name is via! pronouns are she/her :-)   \n",
       "4                                               None   \n",
       "\n",
       "                    created_at                   updated_at  \\\n",
       "0  2014-04-25T15:14:37.010777Z  2021-01-29T02:25:14.486051Z   \n",
       "1  2011-02-19T22:50:48.077939Z  2021-01-31T02:06:15.878329Z   \n",
       "2  2019-07-02T22:38:47.411341Z  2021-02-08T02:56:39.781658Z   \n",
       "3  2020-07-08T04:19:28.799721Z  2021-02-10T19:02:54.020372Z   \n",
       "4  2014-09-16T22:48:24.531185Z  2021-02-10T00:47:20.519011Z   \n",
       "\n",
       "                                                logo  \n",
       "0  https://static-cdn.jtvnw.net/user-default-pict...  \n",
       "1  https://static-cdn.jtvnw.net/user-default-pict...  \n",
       "2  https://static-cdn.jtvnw.net/jtv_user_pictures...  \n",
       "3  https://static-cdn.jtvnw.net/jtv_user_pictures...  \n",
       "4  https://static-cdn.jtvnw.net/user-default-pict...  "
      ]
     },
     "execution_count": 29,
     "metadata": {},
     "output_type": "execute_result"
    }
   ],
   "source": [
    "commenters_df.head()"
   ]
  },
  {
   "cell_type": "code",
   "execution_count": 30,
   "id": "9daded97",
   "metadata": {},
   "outputs": [],
   "source": [
    "commenters_df = commenters_df.rename(columns={'_id': 'commenter_id', 'created_at': 'user-account_created_at', 'updated_at': 'user-account_updated_at'})"
   ]
  },
  {
   "cell_type": "code",
   "execution_count": 31,
   "id": "fda6f2b7",
   "metadata": {},
   "outputs": [
    {
     "data": {
      "text/html": [
       "<div>\n",
       "<style scoped>\n",
       "    .dataframe tbody tr th:only-of-type {\n",
       "        vertical-align: middle;\n",
       "    }\n",
       "\n",
       "    .dataframe tbody tr th {\n",
       "        vertical-align: top;\n",
       "    }\n",
       "\n",
       "    .dataframe thead th {\n",
       "        text-align: right;\n",
       "    }\n",
       "</style>\n",
       "<table border=\"1\" class=\"dataframe\">\n",
       "  <thead>\n",
       "    <tr style=\"text-align: right;\">\n",
       "      <th></th>\n",
       "      <th>display_name</th>\n",
       "      <th>commenter_id</th>\n",
       "      <th>name</th>\n",
       "      <th>type</th>\n",
       "      <th>bio</th>\n",
       "      <th>user-account_created_at</th>\n",
       "      <th>user-account_updated_at</th>\n",
       "      <th>logo</th>\n",
       "    </tr>\n",
       "  </thead>\n",
       "  <tbody>\n",
       "    <tr>\n",
       "      <th>0</th>\n",
       "      <td>Mang0king</td>\n",
       "      <td>61584527</td>\n",
       "      <td>mang0king</td>\n",
       "      <td>user</td>\n",
       "      <td>None</td>\n",
       "      <td>2014-04-25T15:14:37.010777Z</td>\n",
       "      <td>2021-01-29T02:25:14.486051Z</td>\n",
       "      <td>https://static-cdn.jtvnw.net/user-default-pict...</td>\n",
       "    </tr>\n",
       "    <tr>\n",
       "      <th>1</th>\n",
       "      <td>BubbRubb4Real</td>\n",
       "      <td>20581752</td>\n",
       "      <td>bubbrubb4real</td>\n",
       "      <td>user</td>\n",
       "      <td>None</td>\n",
       "      <td>2011-02-19T22:50:48.077939Z</td>\n",
       "      <td>2021-01-31T02:06:15.878329Z</td>\n",
       "      <td>https://static-cdn.jtvnw.net/user-default-pict...</td>\n",
       "    </tr>\n",
       "    <tr>\n",
       "      <th>2</th>\n",
       "      <td>EvanNumber7</td>\n",
       "      <td>445507296</td>\n",
       "      <td>evannumber7</td>\n",
       "      <td>user</td>\n",
       "      <td>16 year old. watch me live, im live streaming,...</td>\n",
       "      <td>2019-07-02T22:38:47.411341Z</td>\n",
       "      <td>2021-02-08T02:56:39.781658Z</td>\n",
       "      <td>https://static-cdn.jtvnw.net/jtv_user_pictures...</td>\n",
       "    </tr>\n",
       "    <tr>\n",
       "      <th>3</th>\n",
       "      <td>via_asf</td>\n",
       "      <td>552271934</td>\n",
       "      <td>via_asf</td>\n",
       "      <td>user</td>\n",
       "      <td>ayo my name is via! pronouns are she/her :-)</td>\n",
       "      <td>2020-07-08T04:19:28.799721Z</td>\n",
       "      <td>2021-02-10T19:02:54.020372Z</td>\n",
       "      <td>https://static-cdn.jtvnw.net/jtv_user_pictures...</td>\n",
       "    </tr>\n",
       "    <tr>\n",
       "      <th>4</th>\n",
       "      <td>alkappa_foundation</td>\n",
       "      <td>71371005</td>\n",
       "      <td>alkappa_foundation</td>\n",
       "      <td>user</td>\n",
       "      <td>None</td>\n",
       "      <td>2014-09-16T22:48:24.531185Z</td>\n",
       "      <td>2021-02-10T00:47:20.519011Z</td>\n",
       "      <td>https://static-cdn.jtvnw.net/user-default-pict...</td>\n",
       "    </tr>\n",
       "  </tbody>\n",
       "</table>\n",
       "</div>"
      ],
      "text/plain": [
       "         display_name commenter_id                name  type  \\\n",
       "0           Mang0king     61584527           mang0king  user   \n",
       "1       BubbRubb4Real     20581752       bubbrubb4real  user   \n",
       "2         EvanNumber7    445507296         evannumber7  user   \n",
       "3             via_asf    552271934             via_asf  user   \n",
       "4  alkappa_foundation     71371005  alkappa_foundation  user   \n",
       "\n",
       "                                                 bio  \\\n",
       "0                                               None   \n",
       "1                                               None   \n",
       "2  16 year old. watch me live, im live streaming,...   \n",
       "3       ayo my name is via! pronouns are she/her :-)   \n",
       "4                                               None   \n",
       "\n",
       "       user-account_created_at      user-account_updated_at  \\\n",
       "0  2014-04-25T15:14:37.010777Z  2021-01-29T02:25:14.486051Z   \n",
       "1  2011-02-19T22:50:48.077939Z  2021-01-31T02:06:15.878329Z   \n",
       "2  2019-07-02T22:38:47.411341Z  2021-02-08T02:56:39.781658Z   \n",
       "3  2020-07-08T04:19:28.799721Z  2021-02-10T19:02:54.020372Z   \n",
       "4  2014-09-16T22:48:24.531185Z  2021-02-10T00:47:20.519011Z   \n",
       "\n",
       "                                                logo  \n",
       "0  https://static-cdn.jtvnw.net/user-default-pict...  \n",
       "1  https://static-cdn.jtvnw.net/user-default-pict...  \n",
       "2  https://static-cdn.jtvnw.net/jtv_user_pictures...  \n",
       "3  https://static-cdn.jtvnw.net/jtv_user_pictures...  \n",
       "4  https://static-cdn.jtvnw.net/user-default-pict...  "
      ]
     },
     "execution_count": 31,
     "metadata": {},
     "output_type": "execute_result"
    }
   ],
   "source": [
    "commenters_df.head()"
   ]
  },
  {
   "cell_type": "code",
   "execution_count": 32,
   "id": "fe854c24",
   "metadata": {},
   "outputs": [],
   "source": [
    "commenters_df['user-account_created_at_dt'] = [parse(x) for x in commenters_df['user-account_created_at']]\n",
    "commenters_df['user-account_updated_at_dt'] = [parse(x) for x in commenters_df['user-account_updated_at']]"
   ]
  },
  {
   "cell_type": "code",
   "execution_count": 33,
   "id": "74d6ae1c",
   "metadata": {},
   "outputs": [
    {
     "data": {
      "text/html": [
       "<div>\n",
       "<style scoped>\n",
       "    .dataframe tbody tr th:only-of-type {\n",
       "        vertical-align: middle;\n",
       "    }\n",
       "\n",
       "    .dataframe tbody tr th {\n",
       "        vertical-align: top;\n",
       "    }\n",
       "\n",
       "    .dataframe thead th {\n",
       "        text-align: right;\n",
       "    }\n",
       "</style>\n",
       "<table border=\"1\" class=\"dataframe\">\n",
       "  <thead>\n",
       "    <tr style=\"text-align: right;\">\n",
       "      <th></th>\n",
       "      <th>display_name</th>\n",
       "      <th>commenter_id</th>\n",
       "      <th>name</th>\n",
       "      <th>type</th>\n",
       "      <th>bio</th>\n",
       "      <th>user-account_created_at</th>\n",
       "      <th>user-account_updated_at</th>\n",
       "      <th>logo</th>\n",
       "      <th>user-account_created_at_dt</th>\n",
       "      <th>user-account_updated_at_dt</th>\n",
       "    </tr>\n",
       "  </thead>\n",
       "  <tbody>\n",
       "    <tr>\n",
       "      <th>0</th>\n",
       "      <td>Mang0king</td>\n",
       "      <td>61584527</td>\n",
       "      <td>mang0king</td>\n",
       "      <td>user</td>\n",
       "      <td>None</td>\n",
       "      <td>2014-04-25T15:14:37.010777Z</td>\n",
       "      <td>2021-01-29T02:25:14.486051Z</td>\n",
       "      <td>https://static-cdn.jtvnw.net/user-default-pict...</td>\n",
       "      <td>2014-04-25 15:14:37.010777+00:00</td>\n",
       "      <td>2021-01-29 02:25:14.486051+00:00</td>\n",
       "    </tr>\n",
       "    <tr>\n",
       "      <th>1</th>\n",
       "      <td>BubbRubb4Real</td>\n",
       "      <td>20581752</td>\n",
       "      <td>bubbrubb4real</td>\n",
       "      <td>user</td>\n",
       "      <td>None</td>\n",
       "      <td>2011-02-19T22:50:48.077939Z</td>\n",
       "      <td>2021-01-31T02:06:15.878329Z</td>\n",
       "      <td>https://static-cdn.jtvnw.net/user-default-pict...</td>\n",
       "      <td>2011-02-19 22:50:48.077939+00:00</td>\n",
       "      <td>2021-01-31 02:06:15.878329+00:00</td>\n",
       "    </tr>\n",
       "    <tr>\n",
       "      <th>2</th>\n",
       "      <td>EvanNumber7</td>\n",
       "      <td>445507296</td>\n",
       "      <td>evannumber7</td>\n",
       "      <td>user</td>\n",
       "      <td>16 year old. watch me live, im live streaming,...</td>\n",
       "      <td>2019-07-02T22:38:47.411341Z</td>\n",
       "      <td>2021-02-08T02:56:39.781658Z</td>\n",
       "      <td>https://static-cdn.jtvnw.net/jtv_user_pictures...</td>\n",
       "      <td>2019-07-02 22:38:47.411341+00:00</td>\n",
       "      <td>2021-02-08 02:56:39.781658+00:00</td>\n",
       "    </tr>\n",
       "    <tr>\n",
       "      <th>3</th>\n",
       "      <td>via_asf</td>\n",
       "      <td>552271934</td>\n",
       "      <td>via_asf</td>\n",
       "      <td>user</td>\n",
       "      <td>ayo my name is via! pronouns are she/her :-)</td>\n",
       "      <td>2020-07-08T04:19:28.799721Z</td>\n",
       "      <td>2021-02-10T19:02:54.020372Z</td>\n",
       "      <td>https://static-cdn.jtvnw.net/jtv_user_pictures...</td>\n",
       "      <td>2020-07-08 04:19:28.799721+00:00</td>\n",
       "      <td>2021-02-10 19:02:54.020372+00:00</td>\n",
       "    </tr>\n",
       "    <tr>\n",
       "      <th>4</th>\n",
       "      <td>alkappa_foundation</td>\n",
       "      <td>71371005</td>\n",
       "      <td>alkappa_foundation</td>\n",
       "      <td>user</td>\n",
       "      <td>None</td>\n",
       "      <td>2014-09-16T22:48:24.531185Z</td>\n",
       "      <td>2021-02-10T00:47:20.519011Z</td>\n",
       "      <td>https://static-cdn.jtvnw.net/user-default-pict...</td>\n",
       "      <td>2014-09-16 22:48:24.531185+00:00</td>\n",
       "      <td>2021-02-10 00:47:20.519011+00:00</td>\n",
       "    </tr>\n",
       "  </tbody>\n",
       "</table>\n",
       "</div>"
      ],
      "text/plain": [
       "         display_name commenter_id                name  type  \\\n",
       "0           Mang0king     61584527           mang0king  user   \n",
       "1       BubbRubb4Real     20581752       bubbrubb4real  user   \n",
       "2         EvanNumber7    445507296         evannumber7  user   \n",
       "3             via_asf    552271934             via_asf  user   \n",
       "4  alkappa_foundation     71371005  alkappa_foundation  user   \n",
       "\n",
       "                                                 bio  \\\n",
       "0                                               None   \n",
       "1                                               None   \n",
       "2  16 year old. watch me live, im live streaming,...   \n",
       "3       ayo my name is via! pronouns are she/her :-)   \n",
       "4                                               None   \n",
       "\n",
       "       user-account_created_at      user-account_updated_at  \\\n",
       "0  2014-04-25T15:14:37.010777Z  2021-01-29T02:25:14.486051Z   \n",
       "1  2011-02-19T22:50:48.077939Z  2021-01-31T02:06:15.878329Z   \n",
       "2  2019-07-02T22:38:47.411341Z  2021-02-08T02:56:39.781658Z   \n",
       "3  2020-07-08T04:19:28.799721Z  2021-02-10T19:02:54.020372Z   \n",
       "4  2014-09-16T22:48:24.531185Z  2021-02-10T00:47:20.519011Z   \n",
       "\n",
       "                                                logo  \\\n",
       "0  https://static-cdn.jtvnw.net/user-default-pict...   \n",
       "1  https://static-cdn.jtvnw.net/user-default-pict...   \n",
       "2  https://static-cdn.jtvnw.net/jtv_user_pictures...   \n",
       "3  https://static-cdn.jtvnw.net/jtv_user_pictures...   \n",
       "4  https://static-cdn.jtvnw.net/user-default-pict...   \n",
       "\n",
       "        user-account_created_at_dt       user-account_updated_at_dt  \n",
       "0 2014-04-25 15:14:37.010777+00:00 2021-01-29 02:25:14.486051+00:00  \n",
       "1 2011-02-19 22:50:48.077939+00:00 2021-01-31 02:06:15.878329+00:00  \n",
       "2 2019-07-02 22:38:47.411341+00:00 2021-02-08 02:56:39.781658+00:00  \n",
       "3 2020-07-08 04:19:28.799721+00:00 2021-02-10 19:02:54.020372+00:00  \n",
       "4 2014-09-16 22:48:24.531185+00:00 2021-02-10 00:47:20.519011+00:00  "
      ]
     },
     "execution_count": 33,
     "metadata": {},
     "output_type": "execute_result"
    }
   ],
   "source": [
    "commenters_df.head()"
   ]
  },
  {
   "cell_type": "code",
   "execution_count": 34,
   "id": "1e5d663b",
   "metadata": {},
   "outputs": [
    {
     "data": {
      "text/plain": [
       "{'body': 'zyoriPride zyoriPride zyoriPride zyoriPride',\n",
       " 'bits_spent': 0,\n",
       " 'fragments': [{'text': 'zyoriPride',\n",
       "   'emoticon': {'emoticon_id': '302819242', 'emoticon_set_id': ''}},\n",
       "  {'text': ' ', 'emoticon': None},\n",
       "  {'text': 'zyoriPride',\n",
       "   'emoticon': {'emoticon_id': '302819242', 'emoticon_set_id': ''}},\n",
       "  {'text': ' ', 'emoticon': None},\n",
       "  {'text': 'zyoriPride',\n",
       "   'emoticon': {'emoticon_id': '302819242', 'emoticon_set_id': ''}},\n",
       "  {'text': ' ', 'emoticon': None},\n",
       "  {'text': 'zyoriPride',\n",
       "   'emoticon': {'emoticon_id': '302819242', 'emoticon_set_id': ''}}],\n",
       " 'is_action': False,\n",
       " 'user_badges': [{'_id': 'premium', 'version': '1'}],\n",
       " 'user_color': None,\n",
       " 'user_notice_params': {'msg-id': None},\n",
       " 'emoticons': [{'_id': '302819242', 'begin': 0, 'end': 9},\n",
       "  {'_id': '302819242', 'begin': 11, 'end': 20},\n",
       "  {'_id': '302819242', 'begin': 22, 'end': 31},\n",
       "  {'_id': '302819242', 'begin': 33, 'end': 42}]}"
      ]
     },
     "execution_count": 34,
     "metadata": {},
     "output_type": "execute_result"
    }
   ],
   "source": [
    "comments_df['message'].loc[0]"
   ]
  },
  {
   "cell_type": "code",
   "execution_count": 35,
   "id": "fa722844",
   "metadata": {},
   "outputs": [],
   "source": [
    "messages_list = list(comments_df['message'])"
   ]
  },
  {
   "cell_type": "code",
   "execution_count": 36,
   "id": "2cf6010a",
   "metadata": {},
   "outputs": [
    {
     "data": {
      "text/plain": [
       "{'body': 'zyoriPride zyoriPride zyoriPride zyoriPride',\n",
       " 'bits_spent': 0,\n",
       " 'fragments': [{'text': 'zyoriPride',\n",
       "   'emoticon': {'emoticon_id': '302819242', 'emoticon_set_id': ''}},\n",
       "  {'text': ' ', 'emoticon': None},\n",
       "  {'text': 'zyoriPride',\n",
       "   'emoticon': {'emoticon_id': '302819242', 'emoticon_set_id': ''}},\n",
       "  {'text': ' ', 'emoticon': None},\n",
       "  {'text': 'zyoriPride',\n",
       "   'emoticon': {'emoticon_id': '302819242', 'emoticon_set_id': ''}},\n",
       "  {'text': ' ', 'emoticon': None},\n",
       "  {'text': 'zyoriPride',\n",
       "   'emoticon': {'emoticon_id': '302819242', 'emoticon_set_id': ''}}],\n",
       " 'is_action': False,\n",
       " 'user_badges': [{'_id': 'premium', 'version': '1'}],\n",
       " 'user_color': None,\n",
       " 'user_notice_params': {'msg-id': None},\n",
       " 'emoticons': [{'_id': '302819242', 'begin': 0, 'end': 9},\n",
       "  {'_id': '302819242', 'begin': 11, 'end': 20},\n",
       "  {'_id': '302819242', 'begin': 22, 'end': 31},\n",
       "  {'_id': '302819242', 'begin': 33, 'end': 42}]}"
      ]
     },
     "execution_count": 36,
     "metadata": {},
     "output_type": "execute_result"
    }
   ],
   "source": [
    "messages_list[0]"
   ]
  },
  {
   "cell_type": "code",
   "execution_count": 37,
   "id": "6bad356e",
   "metadata": {},
   "outputs": [],
   "source": [
    "messages_df = pd.DataFrame(messages_list)"
   ]
  },
  {
   "cell_type": "code",
   "execution_count": 38,
   "id": "875b69e2",
   "metadata": {},
   "outputs": [
    {
     "data": {
      "text/html": [
       "<div>\n",
       "<style scoped>\n",
       "    .dataframe tbody tr th:only-of-type {\n",
       "        vertical-align: middle;\n",
       "    }\n",
       "\n",
       "    .dataframe tbody tr th {\n",
       "        vertical-align: top;\n",
       "    }\n",
       "\n",
       "    .dataframe thead th {\n",
       "        text-align: right;\n",
       "    }\n",
       "</style>\n",
       "<table border=\"1\" class=\"dataframe\">\n",
       "  <thead>\n",
       "    <tr style=\"text-align: right;\">\n",
       "      <th></th>\n",
       "      <th>body</th>\n",
       "      <th>bits_spent</th>\n",
       "      <th>fragments</th>\n",
       "      <th>is_action</th>\n",
       "      <th>user_badges</th>\n",
       "      <th>user_color</th>\n",
       "      <th>user_notice_params</th>\n",
       "      <th>emoticons</th>\n",
       "    </tr>\n",
       "  </thead>\n",
       "  <tbody>\n",
       "    <tr>\n",
       "      <th>0</th>\n",
       "      <td>zyoriPride zyoriPride zyoriPride zyoriPride</td>\n",
       "      <td>0</td>\n",
       "      <td>[{'text': 'zyoriPride', 'emoticon': {'emoticon...</td>\n",
       "      <td>False</td>\n",
       "      <td>[{'_id': 'premium', 'version': '1'}]</td>\n",
       "      <td>None</td>\n",
       "      <td>{'msg-id': None}</td>\n",
       "      <td>[{'_id': '302819242', 'begin': 0, 'end': 9}, {...</td>\n",
       "    </tr>\n",
       "    <tr>\n",
       "      <th>1</th>\n",
       "      <td>shotoHood shotoHood shotoHood shotoHood</td>\n",
       "      <td>0</td>\n",
       "      <td>[{'text': 'shotoHood', 'emoticon': {'emoticon_...</td>\n",
       "      <td>False</td>\n",
       "      <td>[{'_id': 'turbo', 'version': '1'}]</td>\n",
       "      <td>#FF00E5</td>\n",
       "      <td>{'msg-id': None}</td>\n",
       "      <td>[{'_id': '1380640', 'begin': 0, 'end': 8}, {'_...</td>\n",
       "    </tr>\n",
       "    <tr>\n",
       "      <th>2</th>\n",
       "      <td>xqcCheeto ORANGE SUS OMEGALUL</td>\n",
       "      <td>0</td>\n",
       "      <td>[{'text': 'xqcCheeto', 'emoticon': {'emoticon_...</td>\n",
       "      <td>False</td>\n",
       "      <td>None</td>\n",
       "      <td>None</td>\n",
       "      <td>{'msg-id': None}</td>\n",
       "      <td>[{'_id': '302334334', 'begin': 0, 'end': 8}]</td>\n",
       "    </tr>\n",
       "    <tr>\n",
       "      <th>3</th>\n",
       "      <td>does anyone know who she’s playing with???</td>\n",
       "      <td>0</td>\n",
       "      <td>[{'text': 'does anyone know who she’s playing ...</td>\n",
       "      <td>False</td>\n",
       "      <td>[{'_id': 'premium', 'version': '1'}]</td>\n",
       "      <td>None</td>\n",
       "      <td>{'msg-id': None}</td>\n",
       "      <td>None</td>\n",
       "    </tr>\n",
       "    <tr>\n",
       "      <th>4</th>\n",
       "      <td>Kappa 👉 pokiW</td>\n",
       "      <td>0</td>\n",
       "      <td>[{'text': 'Kappa', 'emoticon': {'emoticon_id':...</td>\n",
       "      <td>False</td>\n",
       "      <td>None</td>\n",
       "      <td>#FF69B4</td>\n",
       "      <td>{'msg-id': None}</td>\n",
       "      <td>[{'_id': '25', 'begin': 0, 'end': 4}]</td>\n",
       "    </tr>\n",
       "  </tbody>\n",
       "</table>\n",
       "</div>"
      ],
      "text/plain": [
       "                                          body  bits_spent  \\\n",
       "0  zyoriPride zyoriPride zyoriPride zyoriPride           0   \n",
       "1      shotoHood shotoHood shotoHood shotoHood           0   \n",
       "2                xqcCheeto ORANGE SUS OMEGALUL           0   \n",
       "3   does anyone know who she’s playing with???           0   \n",
       "4                                Kappa 👉 pokiW           0   \n",
       "\n",
       "                                           fragments  is_action  \\\n",
       "0  [{'text': 'zyoriPride', 'emoticon': {'emoticon...      False   \n",
       "1  [{'text': 'shotoHood', 'emoticon': {'emoticon_...      False   \n",
       "2  [{'text': 'xqcCheeto', 'emoticon': {'emoticon_...      False   \n",
       "3  [{'text': 'does anyone know who she’s playing ...      False   \n",
       "4  [{'text': 'Kappa', 'emoticon': {'emoticon_id':...      False   \n",
       "\n",
       "                            user_badges user_color user_notice_params  \\\n",
       "0  [{'_id': 'premium', 'version': '1'}]       None   {'msg-id': None}   \n",
       "1    [{'_id': 'turbo', 'version': '1'}]    #FF00E5   {'msg-id': None}   \n",
       "2                                  None       None   {'msg-id': None}   \n",
       "3  [{'_id': 'premium', 'version': '1'}]       None   {'msg-id': None}   \n",
       "4                                  None    #FF69B4   {'msg-id': None}   \n",
       "\n",
       "                                           emoticons  \n",
       "0  [{'_id': '302819242', 'begin': 0, 'end': 9}, {...  \n",
       "1  [{'_id': '1380640', 'begin': 0, 'end': 8}, {'_...  \n",
       "2       [{'_id': '302334334', 'begin': 0, 'end': 8}]  \n",
       "3                                               None  \n",
       "4              [{'_id': '25', 'begin': 0, 'end': 4}]  "
      ]
     },
     "execution_count": 38,
     "metadata": {},
     "output_type": "execute_result"
    }
   ],
   "source": [
    "messages_df.head()"
   ]
  },
  {
   "cell_type": "code",
   "execution_count": 39,
   "id": "be81b610",
   "metadata": {},
   "outputs": [
    {
     "data": {
      "text/plain": [
       "[{'text': 'zyoriPride',\n",
       "  'emoticon': {'emoticon_id': '302819242', 'emoticon_set_id': ''}},\n",
       " {'text': ' ', 'emoticon': None},\n",
       " {'text': 'zyoriPride',\n",
       "  'emoticon': {'emoticon_id': '302819242', 'emoticon_set_id': ''}},\n",
       " {'text': ' ', 'emoticon': None},\n",
       " {'text': 'zyoriPride',\n",
       "  'emoticon': {'emoticon_id': '302819242', 'emoticon_set_id': ''}},\n",
       " {'text': ' ', 'emoticon': None},\n",
       " {'text': 'zyoriPride',\n",
       "  'emoticon': {'emoticon_id': '302819242', 'emoticon_set_id': ''}}]"
      ]
     },
     "execution_count": 39,
     "metadata": {},
     "output_type": "execute_result"
    }
   ],
   "source": [
    "messages_df['fragments'][0]"
   ]
  },
  {
   "cell_type": "code",
   "execution_count": 40,
   "id": "0c62ab21",
   "metadata": {},
   "outputs": [
    {
     "data": {
      "text/plain": [
       "7"
      ]
     },
     "execution_count": 40,
     "metadata": {},
     "output_type": "execute_result"
    }
   ],
   "source": [
    "len(messages_df['fragments'][0])"
   ]
  },
  {
   "cell_type": "markdown",
   "id": "591592e4",
   "metadata": {},
   "source": [
    "Can we treat the length of fragments as a wordcount proxi? The spaces are included and I'm not sure about punctuation. But thinking of an emoji as a word could be helpful and this might save some processing."
   ]
  },
  {
   "cell_type": "code",
   "execution_count": 41,
   "id": "d9a18ba9",
   "metadata": {},
   "outputs": [
    {
     "data": {
      "text/plain": [
       "[{'_id': '302819242', 'begin': 0, 'end': 9},\n",
       " {'_id': '302819242', 'begin': 11, 'end': 20},\n",
       " {'_id': '302819242', 'begin': 22, 'end': 31},\n",
       " {'_id': '302819242', 'begin': 33, 'end': 42}]"
      ]
     },
     "execution_count": 41,
     "metadata": {},
     "output_type": "execute_result"
    }
   ],
   "source": [
    "messages_df['emoticons'][0]"
   ]
  },
  {
   "cell_type": "code",
   "execution_count": 42,
   "id": "2f417db6",
   "metadata": {},
   "outputs": [
    {
     "data": {
      "text/plain": [
       "4"
      ]
     },
     "execution_count": 42,
     "metadata": {},
     "output_type": "execute_result"
    }
   ],
   "source": [
    "len(messages_df['emoticons'][0])"
   ]
  },
  {
   "cell_type": "markdown",
   "id": "0a72b6c9",
   "metadata": {},
   "source": [
    "Maybe in interesting question for the average number of emoticons used per message."
   ]
  },
  {
   "cell_type": "code",
   "execution_count": 43,
   "id": "332d8442",
   "metadata": {},
   "outputs": [],
   "source": [
    "aoc = pd.concat([comments_df, commenters_df, messages_df], axis=1)"
   ]
  },
  {
   "cell_type": "code",
   "execution_count": 44,
   "id": "38409605",
   "metadata": {},
   "outputs": [
    {
     "data": {
      "text/html": [
       "<div>\n",
       "<style scoped>\n",
       "    .dataframe tbody tr th:only-of-type {\n",
       "        vertical-align: middle;\n",
       "    }\n",
       "\n",
       "    .dataframe tbody tr th {\n",
       "        vertical-align: top;\n",
       "    }\n",
       "\n",
       "    .dataframe thead th {\n",
       "        text-align: right;\n",
       "    }\n",
       "</style>\n",
       "<table border=\"1\" class=\"dataframe\">\n",
       "  <thead>\n",
       "    <tr style=\"text-align: right;\">\n",
       "      <th></th>\n",
       "      <th>_id</th>\n",
       "      <th>created_at</th>\n",
       "      <th>updated_at</th>\n",
       "      <th>channel_id</th>\n",
       "      <th>content_type</th>\n",
       "      <th>content_id</th>\n",
       "      <th>content_offset_seconds</th>\n",
       "      <th>commenter</th>\n",
       "      <th>source</th>\n",
       "      <th>state</th>\n",
       "      <th>...</th>\n",
       "      <th>user-account_created_at_dt</th>\n",
       "      <th>user-account_updated_at_dt</th>\n",
       "      <th>body</th>\n",
       "      <th>bits_spent</th>\n",
       "      <th>fragments</th>\n",
       "      <th>is_action</th>\n",
       "      <th>user_badges</th>\n",
       "      <th>user_color</th>\n",
       "      <th>user_notice_params</th>\n",
       "      <th>emoticons</th>\n",
       "    </tr>\n",
       "  </thead>\n",
       "  <tbody>\n",
       "    <tr>\n",
       "      <th>0</th>\n",
       "      <td>d9d97398-54d1-42c4-8e93-67ea4ba4a038</td>\n",
       "      <td>2020-10-21T00:33:27.758Z</td>\n",
       "      <td>2020-10-21T00:33:27.758Z</td>\n",
       "      <td>502865545</td>\n",
       "      <td>video</td>\n",
       "      <td>776770697</td>\n",
       "      <td>6.058</td>\n",
       "      <td>{'display_name': 'Mang0king', '_id': '61584527...</td>\n",
       "      <td>chat</td>\n",
       "      <td>published</td>\n",
       "      <td>...</td>\n",
       "      <td>2014-04-25 15:14:37.010777+00:00</td>\n",
       "      <td>2021-01-29 02:25:14.486051+00:00</td>\n",
       "      <td>zyoriPride zyoriPride zyoriPride zyoriPride</td>\n",
       "      <td>0</td>\n",
       "      <td>[{'text': 'zyoriPride', 'emoticon': {'emoticon...</td>\n",
       "      <td>False</td>\n",
       "      <td>[{'_id': 'premium', 'version': '1'}]</td>\n",
       "      <td>None</td>\n",
       "      <td>{'msg-id': None}</td>\n",
       "      <td>[{'_id': '302819242', 'begin': 0, 'end': 9}, {...</td>\n",
       "    </tr>\n",
       "    <tr>\n",
       "      <th>1</th>\n",
       "      <td>3d8f5875-1d7f-405d-bad2-61df6ec6199e</td>\n",
       "      <td>2020-10-21T00:33:27.944Z</td>\n",
       "      <td>2020-10-21T00:33:27.944Z</td>\n",
       "      <td>502865545</td>\n",
       "      <td>video</td>\n",
       "      <td>776770697</td>\n",
       "      <td>6.244</td>\n",
       "      <td>{'display_name': 'BubbRubb4Real', '_id': '2058...</td>\n",
       "      <td>chat</td>\n",
       "      <td>published</td>\n",
       "      <td>...</td>\n",
       "      <td>2011-02-19 22:50:48.077939+00:00</td>\n",
       "      <td>2021-01-31 02:06:15.878329+00:00</td>\n",
       "      <td>shotoHood shotoHood shotoHood shotoHood</td>\n",
       "      <td>0</td>\n",
       "      <td>[{'text': 'shotoHood', 'emoticon': {'emoticon_...</td>\n",
       "      <td>False</td>\n",
       "      <td>[{'_id': 'turbo', 'version': '1'}]</td>\n",
       "      <td>#FF00E5</td>\n",
       "      <td>{'msg-id': None}</td>\n",
       "      <td>[{'_id': '1380640', 'begin': 0, 'end': 8}, {'_...</td>\n",
       "    </tr>\n",
       "    <tr>\n",
       "      <th>2</th>\n",
       "      <td>87d2d34e-8cc0-4529-87a9-9a59b12c48ef</td>\n",
       "      <td>2020-10-21T00:33:27.949Z</td>\n",
       "      <td>2020-10-21T00:33:27.949Z</td>\n",
       "      <td>502865545</td>\n",
       "      <td>video</td>\n",
       "      <td>776770697</td>\n",
       "      <td>6.249</td>\n",
       "      <td>{'display_name': 'EvanNumber7', '_id': '445507...</td>\n",
       "      <td>chat</td>\n",
       "      <td>published</td>\n",
       "      <td>...</td>\n",
       "      <td>2019-07-02 22:38:47.411341+00:00</td>\n",
       "      <td>2021-02-08 02:56:39.781658+00:00</td>\n",
       "      <td>xqcCheeto ORANGE SUS OMEGALUL</td>\n",
       "      <td>0</td>\n",
       "      <td>[{'text': 'xqcCheeto', 'emoticon': {'emoticon_...</td>\n",
       "      <td>False</td>\n",
       "      <td>None</td>\n",
       "      <td>None</td>\n",
       "      <td>{'msg-id': None}</td>\n",
       "      <td>[{'_id': '302334334', 'begin': 0, 'end': 8}]</td>\n",
       "    </tr>\n",
       "    <tr>\n",
       "      <th>3</th>\n",
       "      <td>0c516b16-eb07-4390-907c-931fd537633b</td>\n",
       "      <td>2020-10-21T00:33:29.258Z</td>\n",
       "      <td>2020-10-21T00:33:29.258Z</td>\n",
       "      <td>502865545</td>\n",
       "      <td>video</td>\n",
       "      <td>776770697</td>\n",
       "      <td>7.558</td>\n",
       "      <td>{'display_name': 'via_asf', '_id': '552271934'...</td>\n",
       "      <td>chat</td>\n",
       "      <td>published</td>\n",
       "      <td>...</td>\n",
       "      <td>2020-07-08 04:19:28.799721+00:00</td>\n",
       "      <td>2021-02-10 19:02:54.020372+00:00</td>\n",
       "      <td>does anyone know who she’s playing with???</td>\n",
       "      <td>0</td>\n",
       "      <td>[{'text': 'does anyone know who she’s playing ...</td>\n",
       "      <td>False</td>\n",
       "      <td>[{'_id': 'premium', 'version': '1'}]</td>\n",
       "      <td>None</td>\n",
       "      <td>{'msg-id': None}</td>\n",
       "      <td>None</td>\n",
       "    </tr>\n",
       "    <tr>\n",
       "      <th>4</th>\n",
       "      <td>c02a123d-ee0f-4bf3-b31e-13757ebcabcc</td>\n",
       "      <td>2020-10-21T00:33:29.296Z</td>\n",
       "      <td>2020-10-21T00:33:29.296Z</td>\n",
       "      <td>502865545</td>\n",
       "      <td>video</td>\n",
       "      <td>776770697</td>\n",
       "      <td>7.596</td>\n",
       "      <td>{'display_name': 'alkappa_foundation', '_id': ...</td>\n",
       "      <td>chat</td>\n",
       "      <td>published</td>\n",
       "      <td>...</td>\n",
       "      <td>2014-09-16 22:48:24.531185+00:00</td>\n",
       "      <td>2021-02-10 00:47:20.519011+00:00</td>\n",
       "      <td>Kappa 👉 pokiW</td>\n",
       "      <td>0</td>\n",
       "      <td>[{'text': 'Kappa', 'emoticon': {'emoticon_id':...</td>\n",
       "      <td>False</td>\n",
       "      <td>None</td>\n",
       "      <td>#FF69B4</td>\n",
       "      <td>{'msg-id': None}</td>\n",
       "      <td>[{'_id': '25', 'begin': 0, 'end': 4}]</td>\n",
       "    </tr>\n",
       "  </tbody>\n",
       "</table>\n",
       "<p>5 rows × 32 columns</p>\n",
       "</div>"
      ],
      "text/plain": [
       "                                    _id                created_at  \\\n",
       "0  d9d97398-54d1-42c4-8e93-67ea4ba4a038  2020-10-21T00:33:27.758Z   \n",
       "1  3d8f5875-1d7f-405d-bad2-61df6ec6199e  2020-10-21T00:33:27.944Z   \n",
       "2  87d2d34e-8cc0-4529-87a9-9a59b12c48ef  2020-10-21T00:33:27.949Z   \n",
       "3  0c516b16-eb07-4390-907c-931fd537633b  2020-10-21T00:33:29.258Z   \n",
       "4  c02a123d-ee0f-4bf3-b31e-13757ebcabcc  2020-10-21T00:33:29.296Z   \n",
       "\n",
       "                 updated_at channel_id content_type content_id  \\\n",
       "0  2020-10-21T00:33:27.758Z  502865545        video  776770697   \n",
       "1  2020-10-21T00:33:27.944Z  502865545        video  776770697   \n",
       "2  2020-10-21T00:33:27.949Z  502865545        video  776770697   \n",
       "3  2020-10-21T00:33:29.258Z  502865545        video  776770697   \n",
       "4  2020-10-21T00:33:29.296Z  502865545        video  776770697   \n",
       "\n",
       "   content_offset_seconds                                          commenter  \\\n",
       "0                   6.058  {'display_name': 'Mang0king', '_id': '61584527...   \n",
       "1                   6.244  {'display_name': 'BubbRubb4Real', '_id': '2058...   \n",
       "2                   6.249  {'display_name': 'EvanNumber7', '_id': '445507...   \n",
       "3                   7.558  {'display_name': 'via_asf', '_id': '552271934'...   \n",
       "4                   7.596  {'display_name': 'alkappa_foundation', '_id': ...   \n",
       "\n",
       "  source      state  ...       user-account_created_at_dt  \\\n",
       "0   chat  published  ... 2014-04-25 15:14:37.010777+00:00   \n",
       "1   chat  published  ... 2011-02-19 22:50:48.077939+00:00   \n",
       "2   chat  published  ... 2019-07-02 22:38:47.411341+00:00   \n",
       "3   chat  published  ... 2020-07-08 04:19:28.799721+00:00   \n",
       "4   chat  published  ... 2014-09-16 22:48:24.531185+00:00   \n",
       "\n",
       "        user-account_updated_at_dt  \\\n",
       "0 2021-01-29 02:25:14.486051+00:00   \n",
       "1 2021-01-31 02:06:15.878329+00:00   \n",
       "2 2021-02-08 02:56:39.781658+00:00   \n",
       "3 2021-02-10 19:02:54.020372+00:00   \n",
       "4 2021-02-10 00:47:20.519011+00:00   \n",
       "\n",
       "                                          body bits_spent  \\\n",
       "0  zyoriPride zyoriPride zyoriPride zyoriPride          0   \n",
       "1      shotoHood shotoHood shotoHood shotoHood          0   \n",
       "2                xqcCheeto ORANGE SUS OMEGALUL          0   \n",
       "3   does anyone know who she’s playing with???          0   \n",
       "4                                Kappa 👉 pokiW          0   \n",
       "\n",
       "                                           fragments is_action  \\\n",
       "0  [{'text': 'zyoriPride', 'emoticon': {'emoticon...     False   \n",
       "1  [{'text': 'shotoHood', 'emoticon': {'emoticon_...     False   \n",
       "2  [{'text': 'xqcCheeto', 'emoticon': {'emoticon_...     False   \n",
       "3  [{'text': 'does anyone know who she’s playing ...     False   \n",
       "4  [{'text': 'Kappa', 'emoticon': {'emoticon_id':...     False   \n",
       "\n",
       "                            user_badges user_color user_notice_params  \\\n",
       "0  [{'_id': 'premium', 'version': '1'}]       None   {'msg-id': None}   \n",
       "1    [{'_id': 'turbo', 'version': '1'}]    #FF00E5   {'msg-id': None}   \n",
       "2                                  None       None   {'msg-id': None}   \n",
       "3  [{'_id': 'premium', 'version': '1'}]       None   {'msg-id': None}   \n",
       "4                                  None    #FF69B4   {'msg-id': None}   \n",
       "\n",
       "                                           emoticons  \n",
       "0  [{'_id': '302819242', 'begin': 0, 'end': 9}, {...  \n",
       "1  [{'_id': '1380640', 'begin': 0, 'end': 8}, {'_...  \n",
       "2       [{'_id': '302334334', 'begin': 0, 'end': 8}]  \n",
       "3                                               None  \n",
       "4              [{'_id': '25', 'begin': 0, 'end': 4}]  \n",
       "\n",
       "[5 rows x 32 columns]"
      ]
     },
     "execution_count": 44,
     "metadata": {},
     "output_type": "execute_result"
    }
   ],
   "source": [
    "aoc.head()"
   ]
  },
  {
   "cell_type": "markdown",
   "id": "12ff5951",
   "metadata": {},
   "source": [
    "`aoc` is the full dataset to work with. It contains the commenter, message, and time for each comment as well as layered info for message fragments and emoticons."
   ]
  },
  {
   "cell_type": "code",
   "execution_count": 45,
   "id": "e209b8ec",
   "metadata": {},
   "outputs": [
    {
     "data": {
      "text/html": [
       "<div>\n",
       "<style scoped>\n",
       "    .dataframe tbody tr th:only-of-type {\n",
       "        vertical-align: middle;\n",
       "    }\n",
       "\n",
       "    .dataframe tbody tr th {\n",
       "        vertical-align: top;\n",
       "    }\n",
       "\n",
       "    .dataframe thead th {\n",
       "        text-align: right;\n",
       "    }\n",
       "</style>\n",
       "<table border=\"1\" class=\"dataframe\">\n",
       "  <thead>\n",
       "    <tr style=\"text-align: right;\">\n",
       "      <th></th>\n",
       "      <th>_id</th>\n",
       "      <th>created_at</th>\n",
       "      <th>updated_at</th>\n",
       "      <th>channel_id</th>\n",
       "      <th>content_type</th>\n",
       "      <th>content_id</th>\n",
       "      <th>content_offset_seconds</th>\n",
       "      <th>commenter</th>\n",
       "      <th>source</th>\n",
       "      <th>state</th>\n",
       "      <th>...</th>\n",
       "      <th>user-account_created_at_dt</th>\n",
       "      <th>user-account_updated_at_dt</th>\n",
       "      <th>body</th>\n",
       "      <th>bits_spent</th>\n",
       "      <th>fragments</th>\n",
       "      <th>is_action</th>\n",
       "      <th>user_badges</th>\n",
       "      <th>user_color</th>\n",
       "      <th>user_notice_params</th>\n",
       "      <th>emoticons</th>\n",
       "    </tr>\n",
       "    <tr>\n",
       "      <th>name</th>\n",
       "      <th></th>\n",
       "      <th></th>\n",
       "      <th></th>\n",
       "      <th></th>\n",
       "      <th></th>\n",
       "      <th></th>\n",
       "      <th></th>\n",
       "      <th></th>\n",
       "      <th></th>\n",
       "      <th></th>\n",
       "      <th></th>\n",
       "      <th></th>\n",
       "      <th></th>\n",
       "      <th></th>\n",
       "      <th></th>\n",
       "      <th></th>\n",
       "      <th></th>\n",
       "      <th></th>\n",
       "      <th></th>\n",
       "      <th></th>\n",
       "      <th></th>\n",
       "    </tr>\n",
       "  </thead>\n",
       "  <tbody>\n",
       "    <tr>\n",
       "      <th>fossabot</th>\n",
       "      <td>845</td>\n",
       "      <td>845</td>\n",
       "      <td>845</td>\n",
       "      <td>845</td>\n",
       "      <td>845</td>\n",
       "      <td>845</td>\n",
       "      <td>845</td>\n",
       "      <td>845</td>\n",
       "      <td>845</td>\n",
       "      <td>845</td>\n",
       "      <td>...</td>\n",
       "      <td>845</td>\n",
       "      <td>845</td>\n",
       "      <td>845</td>\n",
       "      <td>845</td>\n",
       "      <td>845</td>\n",
       "      <td>845</td>\n",
       "      <td>845</td>\n",
       "      <td>845</td>\n",
       "      <td>845</td>\n",
       "      <td>489</td>\n",
       "    </tr>\n",
       "    <tr>\n",
       "      <th>dontbedumbplz</th>\n",
       "      <td>177</td>\n",
       "      <td>177</td>\n",
       "      <td>177</td>\n",
       "      <td>177</td>\n",
       "      <td>177</td>\n",
       "      <td>177</td>\n",
       "      <td>177</td>\n",
       "      <td>177</td>\n",
       "      <td>177</td>\n",
       "      <td>177</td>\n",
       "      <td>...</td>\n",
       "      <td>177</td>\n",
       "      <td>177</td>\n",
       "      <td>177</td>\n",
       "      <td>177</td>\n",
       "      <td>177</td>\n",
       "      <td>177</td>\n",
       "      <td>177</td>\n",
       "      <td>0</td>\n",
       "      <td>177</td>\n",
       "      <td>10</td>\n",
       "    </tr>\n",
       "    <tr>\n",
       "      <th>kurosaki421</th>\n",
       "      <td>155</td>\n",
       "      <td>155</td>\n",
       "      <td>155</td>\n",
       "      <td>155</td>\n",
       "      <td>155</td>\n",
       "      <td>155</td>\n",
       "      <td>155</td>\n",
       "      <td>155</td>\n",
       "      <td>155</td>\n",
       "      <td>155</td>\n",
       "      <td>...</td>\n",
       "      <td>155</td>\n",
       "      <td>155</td>\n",
       "      <td>155</td>\n",
       "      <td>155</td>\n",
       "      <td>155</td>\n",
       "      <td>155</td>\n",
       "      <td>155</td>\n",
       "      <td>155</td>\n",
       "      <td>155</td>\n",
       "      <td>101</td>\n",
       "    </tr>\n",
       "    <tr>\n",
       "      <th>fr0gan</th>\n",
       "      <td>102</td>\n",
       "      <td>102</td>\n",
       "      <td>102</td>\n",
       "      <td>102</td>\n",
       "      <td>102</td>\n",
       "      <td>102</td>\n",
       "      <td>102</td>\n",
       "      <td>102</td>\n",
       "      <td>102</td>\n",
       "      <td>102</td>\n",
       "      <td>...</td>\n",
       "      <td>102</td>\n",
       "      <td>102</td>\n",
       "      <td>102</td>\n",
       "      <td>102</td>\n",
       "      <td>102</td>\n",
       "      <td>102</td>\n",
       "      <td>102</td>\n",
       "      <td>102</td>\n",
       "      <td>102</td>\n",
       "      <td>94</td>\n",
       "    </tr>\n",
       "    <tr>\n",
       "      <th>aidenwallis</th>\n",
       "      <td>94</td>\n",
       "      <td>94</td>\n",
       "      <td>94</td>\n",
       "      <td>94</td>\n",
       "      <td>94</td>\n",
       "      <td>94</td>\n",
       "      <td>94</td>\n",
       "      <td>94</td>\n",
       "      <td>94</td>\n",
       "      <td>94</td>\n",
       "      <td>...</td>\n",
       "      <td>94</td>\n",
       "      <td>94</td>\n",
       "      <td>94</td>\n",
       "      <td>94</td>\n",
       "      <td>94</td>\n",
       "      <td>94</td>\n",
       "      <td>94</td>\n",
       "      <td>94</td>\n",
       "      <td>94</td>\n",
       "      <td>68</td>\n",
       "    </tr>\n",
       "    <tr>\n",
       "      <th>eddric</th>\n",
       "      <td>67</td>\n",
       "      <td>67</td>\n",
       "      <td>67</td>\n",
       "      <td>67</td>\n",
       "      <td>67</td>\n",
       "      <td>67</td>\n",
       "      <td>67</td>\n",
       "      <td>67</td>\n",
       "      <td>67</td>\n",
       "      <td>67</td>\n",
       "      <td>...</td>\n",
       "      <td>67</td>\n",
       "      <td>67</td>\n",
       "      <td>67</td>\n",
       "      <td>67</td>\n",
       "      <td>67</td>\n",
       "      <td>67</td>\n",
       "      <td>67</td>\n",
       "      <td>67</td>\n",
       "      <td>67</td>\n",
       "      <td>45</td>\n",
       "    </tr>\n",
       "    <tr>\n",
       "      <th>nadasea</th>\n",
       "      <td>54</td>\n",
       "      <td>54</td>\n",
       "      <td>54</td>\n",
       "      <td>54</td>\n",
       "      <td>54</td>\n",
       "      <td>54</td>\n",
       "      <td>54</td>\n",
       "      <td>54</td>\n",
       "      <td>54</td>\n",
       "      <td>54</td>\n",
       "      <td>...</td>\n",
       "      <td>54</td>\n",
       "      <td>54</td>\n",
       "      <td>54</td>\n",
       "      <td>54</td>\n",
       "      <td>54</td>\n",
       "      <td>54</td>\n",
       "      <td>0</td>\n",
       "      <td>0</td>\n",
       "      <td>54</td>\n",
       "      <td>26</td>\n",
       "    </tr>\n",
       "    <tr>\n",
       "      <th>physsss</th>\n",
       "      <td>52</td>\n",
       "      <td>52</td>\n",
       "      <td>52</td>\n",
       "      <td>52</td>\n",
       "      <td>52</td>\n",
       "      <td>52</td>\n",
       "      <td>52</td>\n",
       "      <td>52</td>\n",
       "      <td>52</td>\n",
       "      <td>52</td>\n",
       "      <td>...</td>\n",
       "      <td>52</td>\n",
       "      <td>52</td>\n",
       "      <td>52</td>\n",
       "      <td>52</td>\n",
       "      <td>52</td>\n",
       "      <td>52</td>\n",
       "      <td>52</td>\n",
       "      <td>52</td>\n",
       "      <td>52</td>\n",
       "      <td>28</td>\n",
       "    </tr>\n",
       "    <tr>\n",
       "      <th>koyoshii</th>\n",
       "      <td>50</td>\n",
       "      <td>50</td>\n",
       "      <td>50</td>\n",
       "      <td>50</td>\n",
       "      <td>50</td>\n",
       "      <td>50</td>\n",
       "      <td>50</td>\n",
       "      <td>50</td>\n",
       "      <td>50</td>\n",
       "      <td>50</td>\n",
       "      <td>...</td>\n",
       "      <td>50</td>\n",
       "      <td>50</td>\n",
       "      <td>50</td>\n",
       "      <td>50</td>\n",
       "      <td>50</td>\n",
       "      <td>50</td>\n",
       "      <td>50</td>\n",
       "      <td>50</td>\n",
       "      <td>50</td>\n",
       "      <td>35</td>\n",
       "    </tr>\n",
       "    <tr>\n",
       "      <th>dcmariomaker</th>\n",
       "      <td>49</td>\n",
       "      <td>49</td>\n",
       "      <td>49</td>\n",
       "      <td>49</td>\n",
       "      <td>49</td>\n",
       "      <td>49</td>\n",
       "      <td>49</td>\n",
       "      <td>49</td>\n",
       "      <td>49</td>\n",
       "      <td>49</td>\n",
       "      <td>...</td>\n",
       "      <td>49</td>\n",
       "      <td>49</td>\n",
       "      <td>49</td>\n",
       "      <td>49</td>\n",
       "      <td>49</td>\n",
       "      <td>49</td>\n",
       "      <td>49</td>\n",
       "      <td>49</td>\n",
       "      <td>49</td>\n",
       "      <td>6</td>\n",
       "    </tr>\n",
       "    <tr>\n",
       "      <th>ayyitspatrick</th>\n",
       "      <td>45</td>\n",
       "      <td>45</td>\n",
       "      <td>45</td>\n",
       "      <td>45</td>\n",
       "      <td>45</td>\n",
       "      <td>45</td>\n",
       "      <td>45</td>\n",
       "      <td>45</td>\n",
       "      <td>45</td>\n",
       "      <td>45</td>\n",
       "      <td>...</td>\n",
       "      <td>45</td>\n",
       "      <td>45</td>\n",
       "      <td>45</td>\n",
       "      <td>45</td>\n",
       "      <td>45</td>\n",
       "      <td>45</td>\n",
       "      <td>0</td>\n",
       "      <td>0</td>\n",
       "      <td>45</td>\n",
       "      <td>41</td>\n",
       "    </tr>\n",
       "    <tr>\n",
       "      <th>kqilin_</th>\n",
       "      <td>42</td>\n",
       "      <td>42</td>\n",
       "      <td>42</td>\n",
       "      <td>42</td>\n",
       "      <td>42</td>\n",
       "      <td>42</td>\n",
       "      <td>42</td>\n",
       "      <td>42</td>\n",
       "      <td>42</td>\n",
       "      <td>42</td>\n",
       "      <td>...</td>\n",
       "      <td>42</td>\n",
       "      <td>42</td>\n",
       "      <td>42</td>\n",
       "      <td>42</td>\n",
       "      <td>42</td>\n",
       "      <td>42</td>\n",
       "      <td>0</td>\n",
       "      <td>0</td>\n",
       "      <td>42</td>\n",
       "      <td>3</td>\n",
       "    </tr>\n",
       "    <tr>\n",
       "      <th>glamdringos</th>\n",
       "      <td>40</td>\n",
       "      <td>40</td>\n",
       "      <td>40</td>\n",
       "      <td>40</td>\n",
       "      <td>40</td>\n",
       "      <td>40</td>\n",
       "      <td>40</td>\n",
       "      <td>40</td>\n",
       "      <td>40</td>\n",
       "      <td>40</td>\n",
       "      <td>...</td>\n",
       "      <td>40</td>\n",
       "      <td>40</td>\n",
       "      <td>40</td>\n",
       "      <td>40</td>\n",
       "      <td>40</td>\n",
       "      <td>40</td>\n",
       "      <td>40</td>\n",
       "      <td>40</td>\n",
       "      <td>40</td>\n",
       "      <td>17</td>\n",
       "    </tr>\n",
       "    <tr>\n",
       "      <th>ohvickyursofine</th>\n",
       "      <td>39</td>\n",
       "      <td>39</td>\n",
       "      <td>39</td>\n",
       "      <td>39</td>\n",
       "      <td>39</td>\n",
       "      <td>39</td>\n",
       "      <td>39</td>\n",
       "      <td>39</td>\n",
       "      <td>39</td>\n",
       "      <td>39</td>\n",
       "      <td>...</td>\n",
       "      <td>39</td>\n",
       "      <td>39</td>\n",
       "      <td>39</td>\n",
       "      <td>39</td>\n",
       "      <td>39</td>\n",
       "      <td>39</td>\n",
       "      <td>0</td>\n",
       "      <td>39</td>\n",
       "      <td>39</td>\n",
       "      <td>10</td>\n",
       "    </tr>\n",
       "    <tr>\n",
       "      <th>salamiattack</th>\n",
       "      <td>39</td>\n",
       "      <td>39</td>\n",
       "      <td>39</td>\n",
       "      <td>39</td>\n",
       "      <td>39</td>\n",
       "      <td>39</td>\n",
       "      <td>39</td>\n",
       "      <td>39</td>\n",
       "      <td>39</td>\n",
       "      <td>39</td>\n",
       "      <td>...</td>\n",
       "      <td>39</td>\n",
       "      <td>39</td>\n",
       "      <td>39</td>\n",
       "      <td>39</td>\n",
       "      <td>39</td>\n",
       "      <td>39</td>\n",
       "      <td>39</td>\n",
       "      <td>39</td>\n",
       "      <td>39</td>\n",
       "      <td>39</td>\n",
       "    </tr>\n",
       "    <tr>\n",
       "      <th>kpreyesst91</th>\n",
       "      <td>39</td>\n",
       "      <td>39</td>\n",
       "      <td>39</td>\n",
       "      <td>39</td>\n",
       "      <td>39</td>\n",
       "      <td>39</td>\n",
       "      <td>39</td>\n",
       "      <td>39</td>\n",
       "      <td>39</td>\n",
       "      <td>39</td>\n",
       "      <td>...</td>\n",
       "      <td>39</td>\n",
       "      <td>39</td>\n",
       "      <td>39</td>\n",
       "      <td>39</td>\n",
       "      <td>39</td>\n",
       "      <td>39</td>\n",
       "      <td>0</td>\n",
       "      <td>0</td>\n",
       "      <td>39</td>\n",
       "      <td>0</td>\n",
       "    </tr>\n",
       "    <tr>\n",
       "      <th>tappedinclothing</th>\n",
       "      <td>38</td>\n",
       "      <td>38</td>\n",
       "      <td>38</td>\n",
       "      <td>38</td>\n",
       "      <td>38</td>\n",
       "      <td>38</td>\n",
       "      <td>38</td>\n",
       "      <td>38</td>\n",
       "      <td>38</td>\n",
       "      <td>38</td>\n",
       "      <td>...</td>\n",
       "      <td>38</td>\n",
       "      <td>38</td>\n",
       "      <td>38</td>\n",
       "      <td>38</td>\n",
       "      <td>38</td>\n",
       "      <td>38</td>\n",
       "      <td>0</td>\n",
       "      <td>0</td>\n",
       "      <td>38</td>\n",
       "      <td>0</td>\n",
       "    </tr>\n",
       "    <tr>\n",
       "      <th>feedgreatness92</th>\n",
       "      <td>38</td>\n",
       "      <td>38</td>\n",
       "      <td>38</td>\n",
       "      <td>38</td>\n",
       "      <td>38</td>\n",
       "      <td>38</td>\n",
       "      <td>38</td>\n",
       "      <td>38</td>\n",
       "      <td>38</td>\n",
       "      <td>38</td>\n",
       "      <td>...</td>\n",
       "      <td>38</td>\n",
       "      <td>38</td>\n",
       "      <td>38</td>\n",
       "      <td>38</td>\n",
       "      <td>38</td>\n",
       "      <td>38</td>\n",
       "      <td>0</td>\n",
       "      <td>0</td>\n",
       "      <td>38</td>\n",
       "      <td>0</td>\n",
       "    </tr>\n",
       "    <tr>\n",
       "      <th>francis0k</th>\n",
       "      <td>37</td>\n",
       "      <td>37</td>\n",
       "      <td>37</td>\n",
       "      <td>37</td>\n",
       "      <td>37</td>\n",
       "      <td>37</td>\n",
       "      <td>37</td>\n",
       "      <td>37</td>\n",
       "      <td>37</td>\n",
       "      <td>37</td>\n",
       "      <td>...</td>\n",
       "      <td>37</td>\n",
       "      <td>37</td>\n",
       "      <td>37</td>\n",
       "      <td>37</td>\n",
       "      <td>37</td>\n",
       "      <td>37</td>\n",
       "      <td>37</td>\n",
       "      <td>37</td>\n",
       "      <td>37</td>\n",
       "      <td>34</td>\n",
       "    </tr>\n",
       "    <tr>\n",
       "      <th>carocolaa</th>\n",
       "      <td>36</td>\n",
       "      <td>36</td>\n",
       "      <td>36</td>\n",
       "      <td>36</td>\n",
       "      <td>36</td>\n",
       "      <td>36</td>\n",
       "      <td>36</td>\n",
       "      <td>36</td>\n",
       "      <td>36</td>\n",
       "      <td>36</td>\n",
       "      <td>...</td>\n",
       "      <td>36</td>\n",
       "      <td>36</td>\n",
       "      <td>36</td>\n",
       "      <td>36</td>\n",
       "      <td>36</td>\n",
       "      <td>36</td>\n",
       "      <td>0</td>\n",
       "      <td>0</td>\n",
       "      <td>36</td>\n",
       "      <td>0</td>\n",
       "    </tr>\n",
       "    <tr>\n",
       "      <th>anahoee</th>\n",
       "      <td>34</td>\n",
       "      <td>34</td>\n",
       "      <td>34</td>\n",
       "      <td>34</td>\n",
       "      <td>34</td>\n",
       "      <td>34</td>\n",
       "      <td>34</td>\n",
       "      <td>34</td>\n",
       "      <td>34</td>\n",
       "      <td>34</td>\n",
       "      <td>...</td>\n",
       "      <td>34</td>\n",
       "      <td>34</td>\n",
       "      <td>34</td>\n",
       "      <td>34</td>\n",
       "      <td>34</td>\n",
       "      <td>34</td>\n",
       "      <td>0</td>\n",
       "      <td>0</td>\n",
       "      <td>34</td>\n",
       "      <td>1</td>\n",
       "    </tr>\n",
       "    <tr>\n",
       "      <th>zcordelia</th>\n",
       "      <td>33</td>\n",
       "      <td>33</td>\n",
       "      <td>33</td>\n",
       "      <td>33</td>\n",
       "      <td>33</td>\n",
       "      <td>33</td>\n",
       "      <td>33</td>\n",
       "      <td>33</td>\n",
       "      <td>33</td>\n",
       "      <td>33</td>\n",
       "      <td>...</td>\n",
       "      <td>33</td>\n",
       "      <td>33</td>\n",
       "      <td>33</td>\n",
       "      <td>33</td>\n",
       "      <td>33</td>\n",
       "      <td>33</td>\n",
       "      <td>0</td>\n",
       "      <td>0</td>\n",
       "      <td>33</td>\n",
       "      <td>33</td>\n",
       "    </tr>\n",
       "    <tr>\n",
       "      <th>banditflask</th>\n",
       "      <td>33</td>\n",
       "      <td>33</td>\n",
       "      <td>33</td>\n",
       "      <td>33</td>\n",
       "      <td>33</td>\n",
       "      <td>33</td>\n",
       "      <td>33</td>\n",
       "      <td>33</td>\n",
       "      <td>33</td>\n",
       "      <td>33</td>\n",
       "      <td>...</td>\n",
       "      <td>33</td>\n",
       "      <td>33</td>\n",
       "      <td>33</td>\n",
       "      <td>33</td>\n",
       "      <td>33</td>\n",
       "      <td>33</td>\n",
       "      <td>33</td>\n",
       "      <td>0</td>\n",
       "      <td>33</td>\n",
       "      <td>17</td>\n",
       "    </tr>\n",
       "    <tr>\n",
       "      <th>angelrose</th>\n",
       "      <td>32</td>\n",
       "      <td>32</td>\n",
       "      <td>32</td>\n",
       "      <td>32</td>\n",
       "      <td>32</td>\n",
       "      <td>32</td>\n",
       "      <td>32</td>\n",
       "      <td>32</td>\n",
       "      <td>32</td>\n",
       "      <td>32</td>\n",
       "      <td>...</td>\n",
       "      <td>32</td>\n",
       "      <td>32</td>\n",
       "      <td>32</td>\n",
       "      <td>32</td>\n",
       "      <td>32</td>\n",
       "      <td>32</td>\n",
       "      <td>32</td>\n",
       "      <td>32</td>\n",
       "      <td>32</td>\n",
       "      <td>14</td>\n",
       "    </tr>\n",
       "    <tr>\n",
       "      <th>nataliehatesithere</th>\n",
       "      <td>30</td>\n",
       "      <td>30</td>\n",
       "      <td>30</td>\n",
       "      <td>30</td>\n",
       "      <td>30</td>\n",
       "      <td>30</td>\n",
       "      <td>30</td>\n",
       "      <td>30</td>\n",
       "      <td>30</td>\n",
       "      <td>30</td>\n",
       "      <td>...</td>\n",
       "      <td>30</td>\n",
       "      <td>30</td>\n",
       "      <td>30</td>\n",
       "      <td>30</td>\n",
       "      <td>30</td>\n",
       "      <td>30</td>\n",
       "      <td>0</td>\n",
       "      <td>0</td>\n",
       "      <td>30</td>\n",
       "      <td>7</td>\n",
       "    </tr>\n",
       "    <tr>\n",
       "      <th>cybercodetwins</th>\n",
       "      <td>29</td>\n",
       "      <td>29</td>\n",
       "      <td>29</td>\n",
       "      <td>29</td>\n",
       "      <td>29</td>\n",
       "      <td>29</td>\n",
       "      <td>29</td>\n",
       "      <td>29</td>\n",
       "      <td>29</td>\n",
       "      <td>29</td>\n",
       "      <td>...</td>\n",
       "      <td>29</td>\n",
       "      <td>29</td>\n",
       "      <td>29</td>\n",
       "      <td>29</td>\n",
       "      <td>29</td>\n",
       "      <td>29</td>\n",
       "      <td>29</td>\n",
       "      <td>0</td>\n",
       "      <td>29</td>\n",
       "      <td>7</td>\n",
       "    </tr>\n",
       "    <tr>\n",
       "      <th>dumb_bunnie</th>\n",
       "      <td>29</td>\n",
       "      <td>29</td>\n",
       "      <td>29</td>\n",
       "      <td>29</td>\n",
       "      <td>29</td>\n",
       "      <td>29</td>\n",
       "      <td>29</td>\n",
       "      <td>29</td>\n",
       "      <td>29</td>\n",
       "      <td>29</td>\n",
       "      <td>...</td>\n",
       "      <td>29</td>\n",
       "      <td>29</td>\n",
       "      <td>29</td>\n",
       "      <td>29</td>\n",
       "      <td>29</td>\n",
       "      <td>29</td>\n",
       "      <td>0</td>\n",
       "      <td>0</td>\n",
       "      <td>29</td>\n",
       "      <td>22</td>\n",
       "    </tr>\n",
       "    <tr>\n",
       "      <th>strawberryjennyyy</th>\n",
       "      <td>29</td>\n",
       "      <td>29</td>\n",
       "      <td>29</td>\n",
       "      <td>29</td>\n",
       "      <td>29</td>\n",
       "      <td>29</td>\n",
       "      <td>29</td>\n",
       "      <td>29</td>\n",
       "      <td>29</td>\n",
       "      <td>29</td>\n",
       "      <td>...</td>\n",
       "      <td>29</td>\n",
       "      <td>29</td>\n",
       "      <td>29</td>\n",
       "      <td>29</td>\n",
       "      <td>29</td>\n",
       "      <td>29</td>\n",
       "      <td>0</td>\n",
       "      <td>0</td>\n",
       "      <td>29</td>\n",
       "      <td>0</td>\n",
       "    </tr>\n",
       "    <tr>\n",
       "      <th>pisquared</th>\n",
       "      <td>29</td>\n",
       "      <td>29</td>\n",
       "      <td>29</td>\n",
       "      <td>29</td>\n",
       "      <td>29</td>\n",
       "      <td>29</td>\n",
       "      <td>29</td>\n",
       "      <td>29</td>\n",
       "      <td>29</td>\n",
       "      <td>29</td>\n",
       "      <td>...</td>\n",
       "      <td>29</td>\n",
       "      <td>29</td>\n",
       "      <td>29</td>\n",
       "      <td>29</td>\n",
       "      <td>29</td>\n",
       "      <td>29</td>\n",
       "      <td>29</td>\n",
       "      <td>29</td>\n",
       "      <td>29</td>\n",
       "      <td>10</td>\n",
       "    </tr>\n",
       "    <tr>\n",
       "      <th>investr_shiba</th>\n",
       "      <td>28</td>\n",
       "      <td>28</td>\n",
       "      <td>28</td>\n",
       "      <td>28</td>\n",
       "      <td>28</td>\n",
       "      <td>28</td>\n",
       "      <td>28</td>\n",
       "      <td>28</td>\n",
       "      <td>28</td>\n",
       "      <td>28</td>\n",
       "      <td>...</td>\n",
       "      <td>28</td>\n",
       "      <td>28</td>\n",
       "      <td>28</td>\n",
       "      <td>28</td>\n",
       "      <td>28</td>\n",
       "      <td>28</td>\n",
       "      <td>0</td>\n",
       "      <td>0</td>\n",
       "      <td>28</td>\n",
       "      <td>3</td>\n",
       "    </tr>\n",
       "  </tbody>\n",
       "</table>\n",
       "<p>30 rows × 31 columns</p>\n",
       "</div>"
      ],
      "text/plain": [
       "                    _id  created_at  updated_at  channel_id  content_type  \\\n",
       "name                                                                        \n",
       "fossabot            845         845         845         845           845   \n",
       "dontbedumbplz       177         177         177         177           177   \n",
       "kurosaki421         155         155         155         155           155   \n",
       "fr0gan              102         102         102         102           102   \n",
       "aidenwallis          94          94          94          94            94   \n",
       "eddric               67          67          67          67            67   \n",
       "nadasea              54          54          54          54            54   \n",
       "physsss              52          52          52          52            52   \n",
       "koyoshii             50          50          50          50            50   \n",
       "dcmariomaker         49          49          49          49            49   \n",
       "ayyitspatrick        45          45          45          45            45   \n",
       "kqilin_              42          42          42          42            42   \n",
       "glamdringos          40          40          40          40            40   \n",
       "ohvickyursofine      39          39          39          39            39   \n",
       "salamiattack         39          39          39          39            39   \n",
       "kpreyesst91          39          39          39          39            39   \n",
       "tappedinclothing     38          38          38          38            38   \n",
       "feedgreatness92      38          38          38          38            38   \n",
       "francis0k            37          37          37          37            37   \n",
       "carocolaa            36          36          36          36            36   \n",
       "anahoee              34          34          34          34            34   \n",
       "zcordelia            33          33          33          33            33   \n",
       "banditflask          33          33          33          33            33   \n",
       "angelrose            32          32          32          32            32   \n",
       "nataliehatesithere   30          30          30          30            30   \n",
       "cybercodetwins       29          29          29          29            29   \n",
       "dumb_bunnie          29          29          29          29            29   \n",
       "strawberryjennyyy    29          29          29          29            29   \n",
       "pisquared            29          29          29          29            29   \n",
       "investr_shiba        28          28          28          28            28   \n",
       "\n",
       "                    content_id  content_offset_seconds  commenter  source  \\\n",
       "name                                                                        \n",
       "fossabot                   845                     845        845     845   \n",
       "dontbedumbplz              177                     177        177     177   \n",
       "kurosaki421                155                     155        155     155   \n",
       "fr0gan                     102                     102        102     102   \n",
       "aidenwallis                 94                      94         94      94   \n",
       "eddric                      67                      67         67      67   \n",
       "nadasea                     54                      54         54      54   \n",
       "physsss                     52                      52         52      52   \n",
       "koyoshii                    50                      50         50      50   \n",
       "dcmariomaker                49                      49         49      49   \n",
       "ayyitspatrick               45                      45         45      45   \n",
       "kqilin_                     42                      42         42      42   \n",
       "glamdringos                 40                      40         40      40   \n",
       "ohvickyursofine             39                      39         39      39   \n",
       "salamiattack                39                      39         39      39   \n",
       "kpreyesst91                 39                      39         39      39   \n",
       "tappedinclothing            38                      38         38      38   \n",
       "feedgreatness92             38                      38         38      38   \n",
       "francis0k                   37                      37         37      37   \n",
       "carocolaa                   36                      36         36      36   \n",
       "anahoee                     34                      34         34      34   \n",
       "zcordelia                   33                      33         33      33   \n",
       "banditflask                 33                      33         33      33   \n",
       "angelrose                   32                      32         32      32   \n",
       "nataliehatesithere          30                      30         30      30   \n",
       "cybercodetwins              29                      29         29      29   \n",
       "dumb_bunnie                 29                      29         29      29   \n",
       "strawberryjennyyy           29                      29         29      29   \n",
       "pisquared                   29                      29         29      29   \n",
       "investr_shiba               28                      28         28      28   \n",
       "\n",
       "                    state  ...  user-account_created_at_dt  \\\n",
       "name                       ...                               \n",
       "fossabot              845  ...                         845   \n",
       "dontbedumbplz         177  ...                         177   \n",
       "kurosaki421           155  ...                         155   \n",
       "fr0gan                102  ...                         102   \n",
       "aidenwallis            94  ...                          94   \n",
       "eddric                 67  ...                          67   \n",
       "nadasea                54  ...                          54   \n",
       "physsss                52  ...                          52   \n",
       "koyoshii               50  ...                          50   \n",
       "dcmariomaker           49  ...                          49   \n",
       "ayyitspatrick          45  ...                          45   \n",
       "kqilin_                42  ...                          42   \n",
       "glamdringos            40  ...                          40   \n",
       "ohvickyursofine        39  ...                          39   \n",
       "salamiattack           39  ...                          39   \n",
       "kpreyesst91            39  ...                          39   \n",
       "tappedinclothing       38  ...                          38   \n",
       "feedgreatness92        38  ...                          38   \n",
       "francis0k              37  ...                          37   \n",
       "carocolaa              36  ...                          36   \n",
       "anahoee                34  ...                          34   \n",
       "zcordelia              33  ...                          33   \n",
       "banditflask            33  ...                          33   \n",
       "angelrose              32  ...                          32   \n",
       "nataliehatesithere     30  ...                          30   \n",
       "cybercodetwins         29  ...                          29   \n",
       "dumb_bunnie            29  ...                          29   \n",
       "strawberryjennyyy      29  ...                          29   \n",
       "pisquared              29  ...                          29   \n",
       "investr_shiba          28  ...                          28   \n",
       "\n",
       "                    user-account_updated_at_dt  body  bits_spent  fragments  \\\n",
       "name                                                                          \n",
       "fossabot                                   845   845         845        845   \n",
       "dontbedumbplz                              177   177         177        177   \n",
       "kurosaki421                                155   155         155        155   \n",
       "fr0gan                                     102   102         102        102   \n",
       "aidenwallis                                 94    94          94         94   \n",
       "eddric                                      67    67          67         67   \n",
       "nadasea                                     54    54          54         54   \n",
       "physsss                                     52    52          52         52   \n",
       "koyoshii                                    50    50          50         50   \n",
       "dcmariomaker                                49    49          49         49   \n",
       "ayyitspatrick                               45    45          45         45   \n",
       "kqilin_                                     42    42          42         42   \n",
       "glamdringos                                 40    40          40         40   \n",
       "ohvickyursofine                             39    39          39         39   \n",
       "salamiattack                                39    39          39         39   \n",
       "kpreyesst91                                 39    39          39         39   \n",
       "tappedinclothing                            38    38          38         38   \n",
       "feedgreatness92                             38    38          38         38   \n",
       "francis0k                                   37    37          37         37   \n",
       "carocolaa                                   36    36          36         36   \n",
       "anahoee                                     34    34          34         34   \n",
       "zcordelia                                   33    33          33         33   \n",
       "banditflask                                 33    33          33         33   \n",
       "angelrose                                   32    32          32         32   \n",
       "nataliehatesithere                          30    30          30         30   \n",
       "cybercodetwins                              29    29          29         29   \n",
       "dumb_bunnie                                 29    29          29         29   \n",
       "strawberryjennyyy                           29    29          29         29   \n",
       "pisquared                                   29    29          29         29   \n",
       "investr_shiba                               28    28          28         28   \n",
       "\n",
       "                    is_action  user_badges  user_color  user_notice_params  \\\n",
       "name                                                                         \n",
       "fossabot                  845          845         845                 845   \n",
       "dontbedumbplz             177          177           0                 177   \n",
       "kurosaki421               155          155         155                 155   \n",
       "fr0gan                    102          102         102                 102   \n",
       "aidenwallis                94           94          94                  94   \n",
       "eddric                     67           67          67                  67   \n",
       "nadasea                    54            0           0                  54   \n",
       "physsss                    52           52          52                  52   \n",
       "koyoshii                   50           50          50                  50   \n",
       "dcmariomaker               49           49          49                  49   \n",
       "ayyitspatrick              45            0           0                  45   \n",
       "kqilin_                    42            0           0                  42   \n",
       "glamdringos                40           40          40                  40   \n",
       "ohvickyursofine            39            0          39                  39   \n",
       "salamiattack               39           39          39                  39   \n",
       "kpreyesst91                39            0           0                  39   \n",
       "tappedinclothing           38            0           0                  38   \n",
       "feedgreatness92            38            0           0                  38   \n",
       "francis0k                  37           37          37                  37   \n",
       "carocolaa                  36            0           0                  36   \n",
       "anahoee                    34            0           0                  34   \n",
       "zcordelia                  33            0           0                  33   \n",
       "banditflask                33           33           0                  33   \n",
       "angelrose                  32           32          32                  32   \n",
       "nataliehatesithere         30            0           0                  30   \n",
       "cybercodetwins             29           29           0                  29   \n",
       "dumb_bunnie                29            0           0                  29   \n",
       "strawberryjennyyy          29            0           0                  29   \n",
       "pisquared                  29           29          29                  29   \n",
       "investr_shiba              28            0           0                  28   \n",
       "\n",
       "                    emoticons  \n",
       "name                           \n",
       "fossabot                  489  \n",
       "dontbedumbplz              10  \n",
       "kurosaki421               101  \n",
       "fr0gan                     94  \n",
       "aidenwallis                68  \n",
       "eddric                     45  \n",
       "nadasea                    26  \n",
       "physsss                    28  \n",
       "koyoshii                   35  \n",
       "dcmariomaker                6  \n",
       "ayyitspatrick              41  \n",
       "kqilin_                     3  \n",
       "glamdringos                17  \n",
       "ohvickyursofine            10  \n",
       "salamiattack               39  \n",
       "kpreyesst91                 0  \n",
       "tappedinclothing            0  \n",
       "feedgreatness92             0  \n",
       "francis0k                  34  \n",
       "carocolaa                   0  \n",
       "anahoee                     1  \n",
       "zcordelia                  33  \n",
       "banditflask                17  \n",
       "angelrose                  14  \n",
       "nataliehatesithere          7  \n",
       "cybercodetwins              7  \n",
       "dumb_bunnie                22  \n",
       "strawberryjennyyy           0  \n",
       "pisquared                  10  \n",
       "investr_shiba               3  \n",
       "\n",
       "[30 rows x 31 columns]"
      ]
     },
     "execution_count": 45,
     "metadata": {},
     "output_type": "execute_result"
    }
   ],
   "source": [
    "aoc.groupby('name').count().sort_values('_id', ascending = False).head(30)"
   ]
  },
  {
   "cell_type": "code",
   "execution_count": 46,
   "id": "8b5675c3",
   "metadata": {},
   "outputs": [],
   "source": [
    "import matplotlib"
   ]
  },
  {
   "cell_type": "code",
   "execution_count": 47,
   "id": "e17b6503",
   "metadata": {},
   "outputs": [],
   "source": [
    "from matplotlib import pyplot as plt"
   ]
  },
  {
   "cell_type": "code",
   "execution_count": 48,
   "id": "1bde7d66",
   "metadata": {},
   "outputs": [
    {
     "data": {
      "text/plain": [
       "<AxesSubplot:xlabel='name'>"
      ]
     },
     "execution_count": 48,
     "metadata": {},
     "output_type": "execute_result"
    },
    {
     "data": {
      "image/png": "[encoded data removed]",
      "text/plain": [
       "<Figure size 432x288 with 1 Axes>"
      ]
     },
     "metadata": {
      "needs_background": "light"
     },
     "output_type": "display_data"
    }
   ],
   "source": [
    "aoc.groupby('name').count().sort_values('_id', ascending = False)['_id'].head(20).plot.bar()"
   ]
  },
  {
   "cell_type": "code",
   "execution_count": 49,
   "id": "14a6c463",
   "metadata": {},
   "outputs": [
    {
     "data": {
      "text/plain": [
       "(array([6.2759e+04, 3.0000e+00, 1.0000e+00, 0.0000e+00, 0.0000e+00,\n",
       "        0.0000e+00, 0.0000e+00, 0.0000e+00, 0.0000e+00, 1.0000e+00]),\n",
       " array([  1. ,  85.4, 169.8, 254.2, 338.6, 423. , 507.4, 591.8, 676.2,\n",
       "        760.6, 845. ]),\n",
       " <BarContainer object of 10 artists>)"
      ]
     },
     "execution_count": 49,
     "metadata": {},
     "output_type": "execute_result"
    },
    {
     "data": {
      "image/png": "[encoded data removed]",
      "text/plain": [
       "<Figure size 432x288 with 1 Axes>"
      ]
     },
     "metadata": {
      "needs_background": "light"
     },
     "output_type": "display_data"
    }
   ],
   "source": [
    "plt.hist(aoc.groupby('name').count().sort_values('_id', ascending = False)['_id'])"
   ]
  },
  {
   "cell_type": "code",
   "execution_count": 50,
   "id": "089057a5",
   "metadata": {},
   "outputs": [],
   "source": [
    "aoc_user_grouped = aoc.groupby('name').count().sort_values('_id', ascending = False)"
   ]
  },
  {
   "cell_type": "markdown",
   "id": "a553aae7",
   "metadata": {},
   "source": [
    "Looking at how many people posted less thank 5 times during the stream."
   ]
  },
  {
   "cell_type": "code",
   "execution_count": 51,
   "id": "a783bfc8",
   "metadata": {},
   "outputs": [
    {
     "data": {
      "text/plain": [
       "59461"
      ]
     },
     "execution_count": 51,
     "metadata": {},
     "output_type": "execute_result"
    }
   ],
   "source": [
    "len(aoc_user_grouped[aoc_user_grouped['_id'] < 5])"
   ]
  },
  {
   "cell_type": "markdown",
   "id": "0284ff83",
   "metadata": {},
   "source": [
    "Looking at how many emojis users post per message, because this is going to be an analysis that really requires and understanding of emojis."
   ]
  },
  {
   "cell_type": "code",
   "execution_count": 52,
   "id": "1552506d",
   "metadata": {},
   "outputs": [],
   "source": [
    "aoc['emoji_count'] = [len(x) if type(x) == list else 0 for x in aoc['emoticons']]"
   ]
  },
  {
   "cell_type": "code",
   "execution_count": 53,
   "id": "32aa9863",
   "metadata": {},
   "outputs": [
    {
     "data": {
      "text/plain": [
       "count    110821.000000\n",
       "mean          0.756445\n",
       "std           1.707086\n",
       "min           0.000000\n",
       "25%           0.000000\n",
       "50%           0.000000\n",
       "75%           1.000000\n",
       "max          23.000000\n",
       "Name: emoji_count, dtype: float64"
      ]
     },
     "execution_count": 53,
     "metadata": {},
     "output_type": "execute_result"
    }
   ],
   "source": [
    "aoc['emoji_count'].describe()"
   ]
  },
  {
   "cell_type": "markdown",
   "id": "8caf07e8",
   "metadata": {},
   "source": [
    "Other interesting aspects to look at: connecting this to the video and highlighting moments.\n",
    "<br>\n",
    "Look at the conversation volume by minute across the whole stream."
   ]
  },
  {
   "cell_type": "code",
   "execution_count": 54,
   "id": "1fe23070",
   "metadata": {},
   "outputs": [
    {
     "data": {
      "text/plain": [
       "Index(['_id', 'created_at', 'updated_at', 'channel_id', 'content_type',\n",
       "       'content_id', 'content_offset_seconds', 'commenter', 'source', 'state',\n",
       "       'message', 'more_replies', 'created_at_dt', 'updated_at_dt',\n",
       "       'display_name', 'commenter_id', 'name', 'type', 'bio',\n",
       "       'user-account_created_at', 'user-account_updated_at', 'logo',\n",
       "       'user-account_created_at_dt', 'user-account_updated_at_dt', 'body',\n",
       "       'bits_spent', 'fragments', 'is_action', 'user_badges', 'user_color',\n",
       "       'user_notice_params', 'emoticons', 'emoji_count'],\n",
       "      dtype='object')"
      ]
     },
     "execution_count": 54,
     "metadata": {},
     "output_type": "execute_result"
    }
   ],
   "source": [
    "aoc.keys()"
   ]
  },
  {
   "cell_type": "code",
   "execution_count": 55,
   "id": "161f9f54",
   "metadata": {},
   "outputs": [
    {
     "name": "stderr",
     "output_type": "stream",
     "text": [
      "C:\\Users\\dsilva2\\AppData\\Local\\Temp/ipykernel_13628/3555186692.py:1: FutureWarning: Treating datetime data as categorical rather than numeric in `.describe` is deprecated and will be removed in a future version of pandas. Specify `datetime_is_numeric=True` to silence this warning and adopt the future behavior now.\n",
      "  aoc['created_at_dt'].describe()\n"
     ]
    },
    {
     "data": {
      "text/plain": [
       "count                               110821\n",
       "unique                              107296\n",
       "top       2020-10-21 02:50:58.312000+00:00\n",
       "freq                                     4\n",
       "first     2020-10-21 00:33:27.758000+00:00\n",
       "last      2020-10-21 04:04:21.725000+00:00\n",
       "Name: created_at_dt, dtype: object"
      ]
     },
     "execution_count": 55,
     "metadata": {},
     "output_type": "execute_result"
    }
   ],
   "source": [
    "aoc['created_at_dt'].describe()"
   ]
  },
  {
   "cell_type": "code",
   "execution_count": 56,
   "id": "7a99fb88",
   "metadata": {},
   "outputs": [
    {
     "data": {
      "text/plain": [
       "<AxesSubplot:>"
      ]
     },
     "execution_count": 56,
     "metadata": {},
     "output_type": "execute_result"
    },
    {
     "data": {
      "image/png": "[encoded data removed]",
      "text/plain": [
       "<Figure size 432x288 with 1 Axes>"
      ]
     },
     "metadata": {
      "needs_background": "light"
     },
     "output_type": "display_data"
    }
   ],
   "source": [
    "aoc['created_at_dt'].plot()"
   ]
  },
  {
   "cell_type": "code",
   "execution_count": 57,
   "id": "15726b55",
   "metadata": {},
   "outputs": [
    {
     "data": {
      "text/plain": [
       "Timestamp('2020-10-21 00:33:27.758000+0000', tz='tzutc()')"
      ]
     },
     "execution_count": 57,
     "metadata": {},
     "output_type": "execute_result"
    }
   ],
   "source": [
    "aoc['created_at_dt'][0]"
   ]
  },
  {
   "cell_type": "code",
   "execution_count": 58,
   "id": "90decbe5",
   "metadata": {},
   "outputs": [
    {
     "data": {
      "text/plain": [
       "Timedelta('0 days 00:00:01.500000')"
      ]
     },
     "execution_count": 58,
     "metadata": {},
     "output_type": "execute_result"
    }
   ],
   "source": [
    "aoc['created_at_dt'][3] - aoc['created_at_dt'][0]"
   ]
  },
  {
   "cell_type": "code",
   "execution_count": 59,
   "id": "4bce2212",
   "metadata": {},
   "outputs": [],
   "source": [
    "minutes_since_start = [x - aoc['created_at_dt'][0] for x in aoc['created_at_dt']]"
   ]
  },
  {
   "cell_type": "code",
   "execution_count": null,
   "id": "77a79940",
   "metadata": {},
   "outputs": [],
   "source": [
    "minutes_since_start"
   ]
  },
  {
   "cell_type": "code",
   "execution_count": 61,
   "id": "e75c1fcb",
   "metadata": {},
   "outputs": [],
   "source": [
    "aoc['comment_count'] = 1"
   ]
  },
  {
   "cell_type": "code",
   "execution_count": 62,
   "id": "cb182541",
   "metadata": {},
   "outputs": [],
   "source": [
    "comments_per_min = aoc.groupby(pd.Grouper(key='created_at_dt', freq = 'T'))['comment_count'].sum().fillna(0)"
   ]
  },
  {
   "cell_type": "code",
   "execution_count": 63,
   "id": "893e20e0",
   "metadata": {},
   "outputs": [
    {
     "data": {
      "text/plain": [
       "created_at_dt\n",
       "2020-10-21 00:33:00+00:00    122\n",
       "2020-10-21 00:34:00+00:00    462\n",
       "2020-10-21 00:35:00+00:00    309\n",
       "2020-10-21 00:36:00+00:00    443\n",
       "2020-10-21 00:37:00+00:00    459\n",
       "                            ... \n",
       "2020-10-21 04:00:00+00:00    549\n",
       "2020-10-21 04:01:00+00:00    339\n",
       "2020-10-21 04:02:00+00:00    377\n",
       "2020-10-21 04:03:00+00:00    494\n",
       "2020-10-21 04:04:00+00:00    132\n",
       "Freq: T, Name: comment_count, Length: 212, dtype: int64"
      ]
     },
     "execution_count": 63,
     "metadata": {},
     "output_type": "execute_result"
    }
   ],
   "source": [
    "comments_per_min"
   ]
  },
  {
   "cell_type": "code",
   "execution_count": 64,
   "id": "d80d3b72",
   "metadata": {},
   "outputs": [
    {
     "data": {
      "image/png": "[encoded data removed]",
      "text/plain": [
       "<Figure size 432x288 with 1 Axes>"
      ]
     },
     "metadata": {
      "needs_background": "light"
     },
     "output_type": "display_data"
    }
   ],
   "source": [
    "comments_per_min.plot(kind='line')\n",
    "plt.show()"
   ]
  },
  {
   "cell_type": "code",
   "execution_count": 65,
   "id": "d8aa29e3",
   "metadata": {},
   "outputs": [
    {
     "data": {
      "text/plain": [
       "count    212.000000\n",
       "mean     522.740566\n",
       "std       73.709393\n",
       "min      122.000000\n",
       "25%      504.750000\n",
       "50%      541.000000\n",
       "75%      563.250000\n",
       "max      653.000000\n",
       "Name: comment_count, dtype: float64"
      ]
     },
     "execution_count": 65,
     "metadata": {},
     "output_type": "execute_result"
    }
   ],
   "source": [
    "comments_per_min.describe()"
   ]
  },
  {
   "cell_type": "code",
   "execution_count": 66,
   "id": "c9d024a4",
   "metadata": {},
   "outputs": [
    {
     "data": {
      "text/plain": [
       "created_at_dt\n",
       "2020-10-21 00:40:00+00:00    595\n",
       "2020-10-21 00:48:00+00:00    570\n",
       "2020-10-21 00:55:00+00:00    608\n",
       "2020-10-21 00:56:00+00:00    564\n",
       "2020-10-21 01:03:00+00:00    570\n",
       "2020-10-21 01:06:00+00:00    563\n",
       "2020-10-21 01:09:00+00:00    587\n",
       "2020-10-21 01:18:00+00:00    568\n",
       "2020-10-21 01:36:00+00:00    571\n",
       "2020-10-21 01:44:00+00:00    577\n",
       "2020-10-21 01:47:00+00:00    570\n",
       "2020-10-21 01:51:00+00:00    567\n",
       "2020-10-21 01:54:00+00:00    563\n",
       "2020-10-21 02:03:00+00:00    576\n",
       "2020-10-21 02:06:00+00:00    563\n",
       "2020-10-21 02:09:00+00:00    574\n",
       "2020-10-21 02:18:00+00:00    568\n",
       "2020-10-21 02:22:00+00:00    570\n",
       "2020-10-21 02:32:00+00:00    575\n",
       "2020-10-21 02:34:00+00:00    565\n",
       "2020-10-21 02:38:00+00:00    600\n",
       "2020-10-21 02:39:00+00:00    626\n",
       "2020-10-21 02:40:00+00:00    613\n",
       "2020-10-21 02:43:00+00:00    566\n",
       "2020-10-21 02:46:00+00:00    606\n",
       "2020-10-21 02:48:00+00:00    612\n",
       "2020-10-21 02:53:00+00:00    590\n",
       "2020-10-21 02:59:00+00:00    563\n",
       "2020-10-21 03:02:00+00:00    572\n",
       "2020-10-21 03:12:00+00:00    579\n",
       "2020-10-21 03:18:00+00:00    570\n",
       "2020-10-21 03:19:00+00:00    607\n",
       "2020-10-21 03:21:00+00:00    579\n",
       "2020-10-21 03:23:00+00:00    587\n",
       "2020-10-21 03:26:00+00:00    570\n",
       "2020-10-21 03:27:00+00:00    582\n",
       "2020-10-21 03:29:00+00:00    575\n",
       "2020-10-21 03:31:00+00:00    577\n",
       "2020-10-21 03:32:00+00:00    573\n",
       "2020-10-21 03:35:00+00:00    594\n",
       "2020-10-21 03:37:00+00:00    594\n",
       "2020-10-21 03:38:00+00:00    597\n",
       "2020-10-21 03:39:00+00:00    570\n",
       "2020-10-21 03:40:00+00:00    608\n",
       "2020-10-21 03:42:00+00:00    621\n",
       "2020-10-21 03:44:00+00:00    604\n",
       "2020-10-21 03:45:00+00:00    585\n",
       "2020-10-21 03:46:00+00:00    638\n",
       "2020-10-21 03:47:00+00:00    653\n",
       "2020-10-21 03:48:00+00:00    595\n",
       "2020-10-21 03:49:00+00:00    586\n",
       "2020-10-21 03:50:00+00:00    586\n",
       "2020-10-21 03:53:00+00:00    569\n",
       "2020-10-21 03:56:00+00:00    619\n",
       "2020-10-21 03:57:00+00:00    585\n",
       "2020-10-21 03:58:00+00:00    616\n",
       "2020-10-21 03:59:00+00:00    576\n",
       "Name: comment_count, dtype: int64"
      ]
     },
     "execution_count": 66,
     "metadata": {},
     "output_type": "execute_result"
    }
   ],
   "source": [
    "comments_per_min[comments_per_min >= 563]"
   ]
  },
  {
   "cell_type": "code",
   "execution_count": 67,
   "id": "1ecdd5d9",
   "metadata": {},
   "outputs": [
    {
     "data": {
      "image/png": "[encoded data removed]",
      "text/plain": [
       "<Figure size 432x288 with 1 Axes>"
      ]
     },
     "metadata": {
      "needs_background": "light"
     },
     "output_type": "display_data"
    }
   ],
   "source": [
    "comments_per_min[comments_per_min >= 563].plot(kind='line')\n",
    "plt.show()"
   ]
  },
  {
   "cell_type": "code",
   "execution_count": 68,
   "id": "cf101be2",
   "metadata": {},
   "outputs": [],
   "source": [
    "comments_per5_min = aoc.groupby(pd.Grouper(key='created_at_dt', freq = '5T',))['comment_count'].sum().fillna(0)"
   ]
  },
  {
   "cell_type": "code",
   "execution_count": 69,
   "id": "7a92617f",
   "metadata": {},
   "outputs": [
    {
     "data": {
      "text/plain": [
       "created_at_dt\n",
       "2020-10-21 00:30:00+00:00     584\n",
       "2020-10-21 00:35:00+00:00    2162\n",
       "2020-10-21 00:40:00+00:00    2775\n",
       "2020-10-21 00:45:00+00:00    2541\n",
       "2020-10-21 00:50:00+00:00    2072\n",
       "2020-10-21 00:55:00+00:00    2644\n",
       "2020-10-21 01:00:00+00:00    2648\n",
       "2020-10-21 01:05:00+00:00    2732\n",
       "2020-10-21 01:10:00+00:00    2111\n",
       "2020-10-21 01:15:00+00:00    2375\n",
       "2020-10-21 01:20:00+00:00    2316\n",
       "2020-10-21 01:25:00+00:00    2322\n",
       "2020-10-21 01:30:00+00:00    2534\n",
       "2020-10-21 01:35:00+00:00    2626\n",
       "2020-10-21 01:40:00+00:00    2735\n",
       "2020-10-21 01:45:00+00:00    2582\n",
       "2020-10-21 01:50:00+00:00    2688\n",
       "2020-10-21 01:55:00+00:00    2463\n",
       "2020-10-21 02:00:00+00:00    2677\n",
       "2020-10-21 02:05:00+00:00    2743\n",
       "2020-10-21 02:10:00+00:00    2719\n",
       "2020-10-21 02:15:00+00:00    2682\n",
       "2020-10-21 02:20:00+00:00    2713\n",
       "2020-10-21 02:25:00+00:00    2675\n",
       "2020-10-21 02:30:00+00:00    2734\n",
       "2020-10-21 02:35:00+00:00    2865\n",
       "2020-10-21 02:40:00+00:00    2835\n",
       "2020-10-21 02:45:00+00:00    2792\n",
       "2020-10-21 02:50:00+00:00    2572\n",
       "2020-10-21 02:55:00+00:00    2602\n",
       "2020-10-21 03:00:00+00:00    2530\n",
       "2020-10-21 03:05:00+00:00    2627\n",
       "2020-10-21 03:10:00+00:00    2610\n",
       "2020-10-21 03:15:00+00:00    2829\n",
       "2020-10-21 03:20:00+00:00    2774\n",
       "2020-10-21 03:25:00+00:00    2783\n",
       "2020-10-21 03:30:00+00:00    2668\n",
       "2020-10-21 03:35:00+00:00    2888\n",
       "2020-10-21 03:40:00+00:00    2893\n",
       "2020-10-21 03:45:00+00:00    3057\n",
       "2020-10-21 03:50:00+00:00    2808\n",
       "2020-10-21 03:55:00+00:00    2944\n",
       "2020-10-21 04:00:00+00:00    1891\n",
       "Freq: 5T, Name: comment_count, dtype: int64"
      ]
     },
     "execution_count": 69,
     "metadata": {},
     "output_type": "execute_result"
    }
   ],
   "source": [
    "comments_per5_min"
   ]
  },
  {
   "cell_type": "code",
   "execution_count": 70,
   "id": "b3ca98fc",
   "metadata": {},
   "outputs": [
    {
     "data": {
      "image/png": "[encoded data removed]",
      "text/plain": [
       "<Figure size 432x288 with 1 Axes>"
      ]
     },
     "metadata": {
      "needs_background": "light"
     },
     "output_type": "display_data"
    }
   ],
   "source": [
    "comments_per5_min.plot(kind='line')\n",
    "plt.show()"
   ]
  },
  {
   "cell_type": "code",
   "execution_count": 71,
   "id": "4ca1ecdc",
   "metadata": {},
   "outputs": [
    {
     "data": {
      "text/plain": [
       "count      43.000000\n",
       "mean     2577.232558\n",
       "std       392.832864\n",
       "min       584.000000\n",
       "25%      2537.500000\n",
       "50%      2675.000000\n",
       "75%      2774.500000\n",
       "max      3057.000000\n",
       "Name: comment_count, dtype: float64"
      ]
     },
     "execution_count": 71,
     "metadata": {},
     "output_type": "execute_result"
    }
   ],
   "source": [
    "comments_per5_min.describe()"
   ]
  },
  {
   "cell_type": "code",
   "execution_count": 72,
   "id": "6a37d2f1",
   "metadata": {},
   "outputs": [
    {
     "data": {
      "text/plain": [
       "created_at_dt\n",
       "2020-10-21 00:40:00+00:00    2775\n",
       "2020-10-21 02:35:00+00:00    2865\n",
       "2020-10-21 02:40:00+00:00    2835\n",
       "2020-10-21 02:45:00+00:00    2792\n",
       "2020-10-21 03:15:00+00:00    2829\n",
       "2020-10-21 03:20:00+00:00    2774\n",
       "2020-10-21 03:25:00+00:00    2783\n",
       "2020-10-21 03:35:00+00:00    2888\n",
       "2020-10-21 03:40:00+00:00    2893\n",
       "2020-10-21 03:45:00+00:00    3057\n",
       "2020-10-21 03:50:00+00:00    2808\n",
       "2020-10-21 03:55:00+00:00    2944\n",
       "Name: comment_count, dtype: int64"
      ]
     },
     "execution_count": 72,
     "metadata": {},
     "output_type": "execute_result"
    }
   ],
   "source": [
    "comments_per5_min[comments_per5_min >= 2774]"
   ]
  },
  {
   "cell_type": "code",
   "execution_count": 73,
   "id": "6f76b794",
   "metadata": {},
   "outputs": [],
   "source": [
    "comments_per_sec = aoc.groupby(pd.Grouper(key='created_at_dt', freq = 's',))['comment_count'].sum().fillna(0)"
   ]
  },
  {
   "cell_type": "code",
   "execution_count": 74,
   "id": "c085ea2c",
   "metadata": {},
   "outputs": [
    {
     "data": {
      "image/png": "[encoded data removed]",
      "text/plain": [
       "<Figure size 432x288 with 1 Axes>"
      ]
     },
     "metadata": {
      "needs_background": "light"
     },
     "output_type": "display_data"
    }
   ],
   "source": [
    "comments_per_sec.plot(kind='line')\n",
    "plt.show()"
   ]
  },
  {
   "cell_type": "code",
   "execution_count": 75,
   "id": "f388f0d0",
   "metadata": {},
   "outputs": [],
   "source": [
    "comments_per_5sec = aoc.groupby(pd.Grouper(key='created_at_dt', freq = '5s',))['comment_count'].sum().fillna(0)"
   ]
  },
  {
   "cell_type": "code",
   "execution_count": 76,
   "id": "c0caa95c",
   "metadata": {},
   "outputs": [
    {
     "data": {
      "image/png": "[encoded data removed]",
      "text/plain": [
       "<Figure size 432x288 with 1 Axes>"
      ]
     },
     "metadata": {
      "needs_background": "light"
     },
     "output_type": "display_data"
    }
   ],
   "source": [
    "comments_per_5sec.plot(kind='line')\n",
    "plt.show()"
   ]
  },
  {
   "cell_type": "code",
   "execution_count": 77,
   "id": "c2264210",
   "metadata": {},
   "outputs": [],
   "source": [
    "comments_per_10sec = aoc.groupby(pd.Grouper(key='created_at_dt', freq = '10s',))['comment_count'].sum().fillna(0)"
   ]
  },
  {
   "cell_type": "code",
   "execution_count": 78,
   "id": "a61c741f",
   "metadata": {},
   "outputs": [
    {
     "data": {
      "image/png": "[encoded data removed]",
      "text/plain": [
       "<Figure size 432x288 with 1 Axes>"
      ]
     },
     "metadata": {
      "needs_background": "light"
     },
     "output_type": "display_data"
    }
   ],
   "source": [
    "comments_per_10sec.plot(kind='line')\n",
    "plt.show()"
   ]
  },
  {
   "cell_type": "code",
   "execution_count": 79,
   "id": "fc5a5e60",
   "metadata": {},
   "outputs": [],
   "source": [
    "comments_per_15sec = aoc.groupby(pd.Grouper(key='created_at_dt', freq = '15s',))['comment_count'].sum().fillna(0)"
   ]
  },
  {
   "cell_type": "code",
   "execution_count": 80,
   "id": "8805ce62",
   "metadata": {},
   "outputs": [
    {
     "data": {
      "image/png": "[encoded data removed]",
      "text/plain": [
       "<Figure size 432x288 with 1 Axes>"
      ]
     },
     "metadata": {
      "needs_background": "light"
     },
     "output_type": "display_data"
    }
   ],
   "source": [
    "comments_per_15sec.plot(kind='line')\n",
    "plt.show()"
   ]
  },
  {
   "cell_type": "code",
   "execution_count": 81,
   "id": "945aed35",
   "metadata": {},
   "outputs": [],
   "source": [
    "comments_per_30sec = aoc.groupby(pd.Grouper(key='created_at_dt', freq = '30s',))['comment_count'].sum().fillna(0)"
   ]
  },
  {
   "cell_type": "code",
   "execution_count": 82,
   "id": "102e300a",
   "metadata": {},
   "outputs": [
    {
     "data": {
      "image/png": "[encoded data removed]",
      "text/plain": [
       "<Figure size 432x288 with 1 Axes>"
      ]
     },
     "metadata": {
      "needs_background": "light"
     },
     "output_type": "display_data"
    }
   ],
   "source": [
    "comments_per_30sec.plot(kind='line')\n",
    "plt.show()"
   ]
  },
  {
   "cell_type": "code",
   "execution_count": 83,
   "id": "7eacb3aa",
   "metadata": {},
   "outputs": [
    {
     "data": {
      "image/png": "[encoded data removed]",
      "text/plain": [
       "<Figure size 432x288 with 1 Axes>"
      ]
     },
     "metadata": {
      "needs_background": "light"
     },
     "output_type": "display_data"
    }
   ],
   "source": [
    "comments_per_30sec.plot(kind='line', ylim=(100, 350))\n",
    "plt.show()"
   ]
  },
  {
   "cell_type": "code",
   "execution_count": 84,
   "id": "bca314cc",
   "metadata": {},
   "outputs": [
    {
     "data": {
      "text/plain": [
       "created_at_dt\n",
       "2020-10-21 02:40:00+00:00    339\n",
       "2020-10-21 03:40:30+00:00    341\n",
       "2020-10-21 03:42:00+00:00    333\n",
       "2020-10-21 03:46:00+00:00    326\n",
       "2020-10-21 03:47:30+00:00    333\n",
       "2020-10-21 03:58:30+00:00    342\n",
       "Name: comment_count, dtype: int64"
      ]
     },
     "execution_count": 84,
     "metadata": {},
     "output_type": "execute_result"
    }
   ],
   "source": [
    "comments_per_30sec[comments_per_30sec > 325]"
   ]
  }
 ],
 "metadata": {
  "kernelspec": {
   "display_name": "Python 3 (ipykernel)",
   "language": "python",
   "name": "python3"
  },
  "language_info": {
   "codemirror_mode": {
    "name": "ipython",
    "version": 3
   },
   "file_extension": ".py",
   "mimetype": "text/x-python",
   "name": "python",
   "nbconvert_exporter": "python",
   "pygments_lexer": "ipython3",
   "version": "3.9.6"
  }
 },
 "nbformat": 4,
 "nbformat_minor": 5
}
